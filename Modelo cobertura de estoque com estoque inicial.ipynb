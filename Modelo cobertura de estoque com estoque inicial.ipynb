{
 "cells": [
  {
   "cell_type": "code",
   "execution_count": 22,
   "id": "6d1b4b4e",
   "metadata": {},
   "outputs": [
    {
     "name": "stdout",
     "output_type": "stream",
     "text": [
      "          Mês  Mercedes-Benz  Ponto de Reposição  Estoque de Segurança  \\\n",
      "0  2023-12-01           2801              1538.0                 637.0   \n",
      "1  2024-01-01           2321              1756.0                 596.0   \n",
      "2  2024-02-01           2120              1551.0                 491.0   \n",
      "3  2024-03-01           2484              1779.0                 537.0   \n",
      "4  2024-04-01           2275              1672.0                 534.0   \n",
      "5  2024-05-01           2425              1796.0                 584.0   \n",
      "6  2024-06-01           2499              1812.0                 563.0   \n",
      "7  2024-07-01           2637              1988.0                 670.0   \n",
      "8  2024-08-01           2715              1950.0                 593.0   \n",
      "9  2024-09-01           2568              1873.0                 589.0   \n",
      "10 2024-10-01           2626              1894.0                 581.0   \n",
      "11 2024-11-01           2582              1903.0                 612.0   \n",
      "12 2024-12-01           2788              2032.0                 638.0   \n",
      "13 2025-01-01           2327              1694.0                 530.0   \n",
      "14 2025-02-01           2135              1550.0                 483.0   \n",
      "15 2025-03-01           2482              1773.0                 532.0   \n",
      "16 2025-04-01           2283              1708.0                 566.0   \n",
      "17 2025-05-01           2426              1746.0                 533.0   \n",
      "18 2025-06-01           2496              1833.0                 585.0   \n",
      "19 2025-07-01           2628              1920.0                 606.0   \n",
      "20 2025-08-01           2701              1992.0                 642.0   \n",
      "21 2025-09-01           2561              1856.0                 576.0   \n",
      "22 2025-10-01           2617              1906.0                 597.0   \n",
      "23 2025-11-01           2575              1898.0                 610.0   \n",
      "24 2025-12-01           2771              2022.0                 637.0   \n",
      "25 2026-01-01           2332              1697.0                 531.0   \n",
      "26 2026-02-01           2150              1564.0                 489.0   \n",
      "27 2026-03-01           2480              1793.0                 553.0   \n",
      "28 2026-04-01           2291              1672.0                 526.0   \n",
      "29 2026-05-01           2426              1748.0                 535.0   \n",
      "30 2026-06-01           2493              1828.0                 582.0   \n",
      "31 2026-07-01           2619              1960.0                 650.0   \n",
      "32 2026-08-01           2689              1946.0                 601.0   \n",
      "33 2026-09-01           2555              1852.0                 574.0   \n",
      "34 2026-10-01           2608              1893.0                 589.0   \n",
      "35 2026-11-01           2569              1840.0                 555.0   \n",
      "\n",
      "    Pedido de Compra  Cobertura de Estoque (dias)  \n",
      "0             3359.0                         12.0  \n",
      "1             3376.0                         14.0  \n",
      "2             3535.0                         14.0  \n",
      "3             3554.0                         13.0  \n",
      "4             3597.0                         14.0  \n",
      "5             3795.0                         13.0  \n",
      "6             3949.0                         13.0  \n",
      "7             4203.0                         13.0  \n",
      "8             4018.0                         12.0  \n",
      "9             3999.0                         13.0  \n",
      "10            3976.0                         12.0  \n",
      "11            4191.0                         13.0  \n",
      "12            3859.0                         12.0  \n",
      "13            3329.0                         13.0  \n",
      "14            3532.0                         14.0  \n",
      "15            3556.0                         12.0  \n",
      "16            3634.0                         14.0  \n",
      "17            3742.0                         13.0  \n",
      "18            3961.0                         13.0  \n",
      "19            4121.0                         13.0  \n",
      "20            4053.0                         13.0  \n",
      "21            3973.0                         13.0  \n",
      "22            3981.0                         13.0  \n",
      "23            4169.0                         13.0  \n",
      "24            3854.0                         12.0  \n",
      "25            3347.0                         13.0  \n",
      "26            3544.0                         14.0  \n",
      "27            3584.0                         13.0  \n",
      "28            3598.0                         13.0  \n",
      "29            3741.0                         13.0  \n",
      "30            3947.0                         13.0  \n",
      "31            4149.0                         13.0  \n",
      "32            4001.0                         12.0  \n",
      "33            3960.0                         13.0  \n",
      "34            3962.0                         13.0  \n",
      "35            1340.0                         12.0  \n"
     ]
    }
   ],
   "source": [
    "import pandas as pd\n",
    "import numpy as np\n",
    "\n",
    "# Carregando os dados\n",
    "demanda = pd.read_excel('previsao_produto_mercedes_benz.xlsx')\n",
    "\n",
    "# Parâmetros\n",
    "desvio_padrao = 0.1  # Desvio padrão mensal de 10%\n",
    "lead_time_meses = 0.5\n",
    "nivel_servico = 0.99\n",
    "\n",
    "# Estoque inicial\n",
    "estoque_inicial = 500\n",
    "\n",
    "# Inicialize listas para armazenar resultados\n",
    "ponto_reposicao = []\n",
    "estoque_seguranca = []\n",
    "pedido_compra = []\n",
    "cobertura_estoque_seguranca = []\n",
    "\n",
    "# Calcular ponto de reposição, estoque de segurança e pedido de compra\n",
    "for i, row in demanda.iterrows():\n",
    "    demanda_mensal = row['Mercedes-Benz']  # Ajuste conforme a estrutura real do seu DataFrame\n",
    "    desvio_padrao_mensal = desvio_padrao * demanda_mensal\n",
    "    \n",
    "    # Calcular o estoque de segurança e o ponto de reposição considerando o estoque inicial apenas no primeiro mês\n",
    "    if i == 0:\n",
    "        estoque_seg = round(abs(np.percentile(np.random.normal(0, 1, 1000), (1 - nivel_servico) * 100)) * desvio_padrao_mensal, 0)\n",
    "        ponto_repo = round((demanda_mensal * lead_time_meses) + estoque_seg - estoque_inicial, 0)\n",
    "    else:\n",
    "        estoque_seg = round(abs(np.percentile(np.random.normal(0, 1, 1000), (1 - nivel_servico) * 100)) * desvio_padrao_mensal, 0)\n",
    "        ponto_repo = round(demanda_mensal * lead_time_meses + estoque_seg, 0)\n",
    "    \n",
    "    # Calcular o pedido de compra considerando o estoque inicial e a previsão de entrada do próximo mês\n",
    "    entrada_proximo_mes = demanda.iloc[i + 1]['Mercedes-Benz'] if i < len(demanda) - 1 else 0\n",
    "    pedido_comp = max(0, ponto_repo - estoque_inicial + entrada_proximo_mes)\n",
    "    \n",
    "    ponto_reposicao.append(ponto_repo)\n",
    "    estoque_seguranca.append(estoque_seg)\n",
    "    pedido_compra.append(pedido_comp)\n",
    "    \n",
    "    # Calcular a cobertura de estoque em dias\n",
    "    cobertura_dias = round((estoque_inicial + estoque_seg) / (demanda_mensal / 30), 0)\n",
    "    cobertura_estoque_seguranca.append(cobertura_dias)\n",
    "\n",
    "# Criar DataFrame com os resultados\n",
    "df_resultados = pd.DataFrame({\n",
    "    'Mês': demanda['Mês'],\n",
    "    'Mercedes-Benz': demanda['Mercedes-Benz'],\n",
    "    'Ponto de Reposição': ponto_reposicao,\n",
    "    'Estoque de Segurança': estoque_seguranca,\n",
    "    'Pedido de Compra': pedido_compra,\n",
    "    'Cobertura de Estoque (dias)': cobertura_estoque_seguranca\n",
    "})\n",
    "\n",
    "# Exibir resultados\n",
    "print(df_resultados)\n"
   ]
  },
  {
   "cell_type": "code",
   "execution_count": 23,
   "id": "06a3a36f",
   "metadata": {},
   "outputs": [
    {
     "data": {
      "text/html": [
       "<div>\n",
       "<style scoped>\n",
       "    .dataframe tbody tr th:only-of-type {\n",
       "        vertical-align: middle;\n",
       "    }\n",
       "\n",
       "    .dataframe tbody tr th {\n",
       "        vertical-align: top;\n",
       "    }\n",
       "\n",
       "    .dataframe thead th {\n",
       "        text-align: right;\n",
       "    }\n",
       "</style>\n",
       "<table border=\"1\" class=\"dataframe\">\n",
       "  <thead>\n",
       "    <tr style=\"text-align: right;\">\n",
       "      <th></th>\n",
       "      <th>Mês</th>\n",
       "      <th>Mercedes-Benz</th>\n",
       "      <th>Ponto de Reposição</th>\n",
       "      <th>Estoque de Segurança</th>\n",
       "      <th>Pedido de Compra</th>\n",
       "      <th>Cobertura de Estoque (dias)</th>\n",
       "    </tr>\n",
       "  </thead>\n",
       "  <tbody>\n",
       "    <tr>\n",
       "      <th>0</th>\n",
       "      <td>2023-12-01</td>\n",
       "      <td>2801</td>\n",
       "      <td>1538.0</td>\n",
       "      <td>637.0</td>\n",
       "      <td>3359.0</td>\n",
       "      <td>12.0</td>\n",
       "    </tr>\n",
       "    <tr>\n",
       "      <th>1</th>\n",
       "      <td>2024-01-01</td>\n",
       "      <td>2321</td>\n",
       "      <td>1756.0</td>\n",
       "      <td>596.0</td>\n",
       "      <td>3376.0</td>\n",
       "      <td>14.0</td>\n",
       "    </tr>\n",
       "    <tr>\n",
       "      <th>2</th>\n",
       "      <td>2024-02-01</td>\n",
       "      <td>2120</td>\n",
       "      <td>1551.0</td>\n",
       "      <td>491.0</td>\n",
       "      <td>3535.0</td>\n",
       "      <td>14.0</td>\n",
       "    </tr>\n",
       "    <tr>\n",
       "      <th>3</th>\n",
       "      <td>2024-03-01</td>\n",
       "      <td>2484</td>\n",
       "      <td>1779.0</td>\n",
       "      <td>537.0</td>\n",
       "      <td>3554.0</td>\n",
       "      <td>13.0</td>\n",
       "    </tr>\n",
       "    <tr>\n",
       "      <th>4</th>\n",
       "      <td>2024-04-01</td>\n",
       "      <td>2275</td>\n",
       "      <td>1672.0</td>\n",
       "      <td>534.0</td>\n",
       "      <td>3597.0</td>\n",
       "      <td>14.0</td>\n",
       "    </tr>\n",
       "    <tr>\n",
       "      <th>5</th>\n",
       "      <td>2024-05-01</td>\n",
       "      <td>2425</td>\n",
       "      <td>1796.0</td>\n",
       "      <td>584.0</td>\n",
       "      <td>3795.0</td>\n",
       "      <td>13.0</td>\n",
       "    </tr>\n",
       "    <tr>\n",
       "      <th>6</th>\n",
       "      <td>2024-06-01</td>\n",
       "      <td>2499</td>\n",
       "      <td>1812.0</td>\n",
       "      <td>563.0</td>\n",
       "      <td>3949.0</td>\n",
       "      <td>13.0</td>\n",
       "    </tr>\n",
       "    <tr>\n",
       "      <th>7</th>\n",
       "      <td>2024-07-01</td>\n",
       "      <td>2637</td>\n",
       "      <td>1988.0</td>\n",
       "      <td>670.0</td>\n",
       "      <td>4203.0</td>\n",
       "      <td>13.0</td>\n",
       "    </tr>\n",
       "    <tr>\n",
       "      <th>8</th>\n",
       "      <td>2024-08-01</td>\n",
       "      <td>2715</td>\n",
       "      <td>1950.0</td>\n",
       "      <td>593.0</td>\n",
       "      <td>4018.0</td>\n",
       "      <td>12.0</td>\n",
       "    </tr>\n",
       "    <tr>\n",
       "      <th>9</th>\n",
       "      <td>2024-09-01</td>\n",
       "      <td>2568</td>\n",
       "      <td>1873.0</td>\n",
       "      <td>589.0</td>\n",
       "      <td>3999.0</td>\n",
       "      <td>13.0</td>\n",
       "    </tr>\n",
       "    <tr>\n",
       "      <th>10</th>\n",
       "      <td>2024-10-01</td>\n",
       "      <td>2626</td>\n",
       "      <td>1894.0</td>\n",
       "      <td>581.0</td>\n",
       "      <td>3976.0</td>\n",
       "      <td>12.0</td>\n",
       "    </tr>\n",
       "    <tr>\n",
       "      <th>11</th>\n",
       "      <td>2024-11-01</td>\n",
       "      <td>2582</td>\n",
       "      <td>1903.0</td>\n",
       "      <td>612.0</td>\n",
       "      <td>4191.0</td>\n",
       "      <td>13.0</td>\n",
       "    </tr>\n",
       "    <tr>\n",
       "      <th>12</th>\n",
       "      <td>2024-12-01</td>\n",
       "      <td>2788</td>\n",
       "      <td>2032.0</td>\n",
       "      <td>638.0</td>\n",
       "      <td>3859.0</td>\n",
       "      <td>12.0</td>\n",
       "    </tr>\n",
       "    <tr>\n",
       "      <th>13</th>\n",
       "      <td>2025-01-01</td>\n",
       "      <td>2327</td>\n",
       "      <td>1694.0</td>\n",
       "      <td>530.0</td>\n",
       "      <td>3329.0</td>\n",
       "      <td>13.0</td>\n",
       "    </tr>\n",
       "    <tr>\n",
       "      <th>14</th>\n",
       "      <td>2025-02-01</td>\n",
       "      <td>2135</td>\n",
       "      <td>1550.0</td>\n",
       "      <td>483.0</td>\n",
       "      <td>3532.0</td>\n",
       "      <td>14.0</td>\n",
       "    </tr>\n",
       "    <tr>\n",
       "      <th>15</th>\n",
       "      <td>2025-03-01</td>\n",
       "      <td>2482</td>\n",
       "      <td>1773.0</td>\n",
       "      <td>532.0</td>\n",
       "      <td>3556.0</td>\n",
       "      <td>12.0</td>\n",
       "    </tr>\n",
       "    <tr>\n",
       "      <th>16</th>\n",
       "      <td>2025-04-01</td>\n",
       "      <td>2283</td>\n",
       "      <td>1708.0</td>\n",
       "      <td>566.0</td>\n",
       "      <td>3634.0</td>\n",
       "      <td>14.0</td>\n",
       "    </tr>\n",
       "    <tr>\n",
       "      <th>17</th>\n",
       "      <td>2025-05-01</td>\n",
       "      <td>2426</td>\n",
       "      <td>1746.0</td>\n",
       "      <td>533.0</td>\n",
       "      <td>3742.0</td>\n",
       "      <td>13.0</td>\n",
       "    </tr>\n",
       "    <tr>\n",
       "      <th>18</th>\n",
       "      <td>2025-06-01</td>\n",
       "      <td>2496</td>\n",
       "      <td>1833.0</td>\n",
       "      <td>585.0</td>\n",
       "      <td>3961.0</td>\n",
       "      <td>13.0</td>\n",
       "    </tr>\n",
       "    <tr>\n",
       "      <th>19</th>\n",
       "      <td>2025-07-01</td>\n",
       "      <td>2628</td>\n",
       "      <td>1920.0</td>\n",
       "      <td>606.0</td>\n",
       "      <td>4121.0</td>\n",
       "      <td>13.0</td>\n",
       "    </tr>\n",
       "    <tr>\n",
       "      <th>20</th>\n",
       "      <td>2025-08-01</td>\n",
       "      <td>2701</td>\n",
       "      <td>1992.0</td>\n",
       "      <td>642.0</td>\n",
       "      <td>4053.0</td>\n",
       "      <td>13.0</td>\n",
       "    </tr>\n",
       "    <tr>\n",
       "      <th>21</th>\n",
       "      <td>2025-09-01</td>\n",
       "      <td>2561</td>\n",
       "      <td>1856.0</td>\n",
       "      <td>576.0</td>\n",
       "      <td>3973.0</td>\n",
       "      <td>13.0</td>\n",
       "    </tr>\n",
       "    <tr>\n",
       "      <th>22</th>\n",
       "      <td>2025-10-01</td>\n",
       "      <td>2617</td>\n",
       "      <td>1906.0</td>\n",
       "      <td>597.0</td>\n",
       "      <td>3981.0</td>\n",
       "      <td>13.0</td>\n",
       "    </tr>\n",
       "    <tr>\n",
       "      <th>23</th>\n",
       "      <td>2025-11-01</td>\n",
       "      <td>2575</td>\n",
       "      <td>1898.0</td>\n",
       "      <td>610.0</td>\n",
       "      <td>4169.0</td>\n",
       "      <td>13.0</td>\n",
       "    </tr>\n",
       "    <tr>\n",
       "      <th>24</th>\n",
       "      <td>2025-12-01</td>\n",
       "      <td>2771</td>\n",
       "      <td>2022.0</td>\n",
       "      <td>637.0</td>\n",
       "      <td>3854.0</td>\n",
       "      <td>12.0</td>\n",
       "    </tr>\n",
       "    <tr>\n",
       "      <th>25</th>\n",
       "      <td>2026-01-01</td>\n",
       "      <td>2332</td>\n",
       "      <td>1697.0</td>\n",
       "      <td>531.0</td>\n",
       "      <td>3347.0</td>\n",
       "      <td>13.0</td>\n",
       "    </tr>\n",
       "    <tr>\n",
       "      <th>26</th>\n",
       "      <td>2026-02-01</td>\n",
       "      <td>2150</td>\n",
       "      <td>1564.0</td>\n",
       "      <td>489.0</td>\n",
       "      <td>3544.0</td>\n",
       "      <td>14.0</td>\n",
       "    </tr>\n",
       "    <tr>\n",
       "      <th>27</th>\n",
       "      <td>2026-03-01</td>\n",
       "      <td>2480</td>\n",
       "      <td>1793.0</td>\n",
       "      <td>553.0</td>\n",
       "      <td>3584.0</td>\n",
       "      <td>13.0</td>\n",
       "    </tr>\n",
       "    <tr>\n",
       "      <th>28</th>\n",
       "      <td>2026-04-01</td>\n",
       "      <td>2291</td>\n",
       "      <td>1672.0</td>\n",
       "      <td>526.0</td>\n",
       "      <td>3598.0</td>\n",
       "      <td>13.0</td>\n",
       "    </tr>\n",
       "    <tr>\n",
       "      <th>29</th>\n",
       "      <td>2026-05-01</td>\n",
       "      <td>2426</td>\n",
       "      <td>1748.0</td>\n",
       "      <td>535.0</td>\n",
       "      <td>3741.0</td>\n",
       "      <td>13.0</td>\n",
       "    </tr>\n",
       "    <tr>\n",
       "      <th>30</th>\n",
       "      <td>2026-06-01</td>\n",
       "      <td>2493</td>\n",
       "      <td>1828.0</td>\n",
       "      <td>582.0</td>\n",
       "      <td>3947.0</td>\n",
       "      <td>13.0</td>\n",
       "    </tr>\n",
       "    <tr>\n",
       "      <th>31</th>\n",
       "      <td>2026-07-01</td>\n",
       "      <td>2619</td>\n",
       "      <td>1960.0</td>\n",
       "      <td>650.0</td>\n",
       "      <td>4149.0</td>\n",
       "      <td>13.0</td>\n",
       "    </tr>\n",
       "    <tr>\n",
       "      <th>32</th>\n",
       "      <td>2026-08-01</td>\n",
       "      <td>2689</td>\n",
       "      <td>1946.0</td>\n",
       "      <td>601.0</td>\n",
       "      <td>4001.0</td>\n",
       "      <td>12.0</td>\n",
       "    </tr>\n",
       "    <tr>\n",
       "      <th>33</th>\n",
       "      <td>2026-09-01</td>\n",
       "      <td>2555</td>\n",
       "      <td>1852.0</td>\n",
       "      <td>574.0</td>\n",
       "      <td>3960.0</td>\n",
       "      <td>13.0</td>\n",
       "    </tr>\n",
       "    <tr>\n",
       "      <th>34</th>\n",
       "      <td>2026-10-01</td>\n",
       "      <td>2608</td>\n",
       "      <td>1893.0</td>\n",
       "      <td>589.0</td>\n",
       "      <td>3962.0</td>\n",
       "      <td>13.0</td>\n",
       "    </tr>\n",
       "    <tr>\n",
       "      <th>35</th>\n",
       "      <td>2026-11-01</td>\n",
       "      <td>2569</td>\n",
       "      <td>1840.0</td>\n",
       "      <td>555.0</td>\n",
       "      <td>1340.0</td>\n",
       "      <td>12.0</td>\n",
       "    </tr>\n",
       "  </tbody>\n",
       "</table>\n",
       "</div>"
      ],
      "text/plain": [
       "          Mês  Mercedes-Benz  Ponto de Reposição  Estoque de Segurança  \\\n",
       "0  2023-12-01           2801              1538.0                 637.0   \n",
       "1  2024-01-01           2321              1756.0                 596.0   \n",
       "2  2024-02-01           2120              1551.0                 491.0   \n",
       "3  2024-03-01           2484              1779.0                 537.0   \n",
       "4  2024-04-01           2275              1672.0                 534.0   \n",
       "5  2024-05-01           2425              1796.0                 584.0   \n",
       "6  2024-06-01           2499              1812.0                 563.0   \n",
       "7  2024-07-01           2637              1988.0                 670.0   \n",
       "8  2024-08-01           2715              1950.0                 593.0   \n",
       "9  2024-09-01           2568              1873.0                 589.0   \n",
       "10 2024-10-01           2626              1894.0                 581.0   \n",
       "11 2024-11-01           2582              1903.0                 612.0   \n",
       "12 2024-12-01           2788              2032.0                 638.0   \n",
       "13 2025-01-01           2327              1694.0                 530.0   \n",
       "14 2025-02-01           2135              1550.0                 483.0   \n",
       "15 2025-03-01           2482              1773.0                 532.0   \n",
       "16 2025-04-01           2283              1708.0                 566.0   \n",
       "17 2025-05-01           2426              1746.0                 533.0   \n",
       "18 2025-06-01           2496              1833.0                 585.0   \n",
       "19 2025-07-01           2628              1920.0                 606.0   \n",
       "20 2025-08-01           2701              1992.0                 642.0   \n",
       "21 2025-09-01           2561              1856.0                 576.0   \n",
       "22 2025-10-01           2617              1906.0                 597.0   \n",
       "23 2025-11-01           2575              1898.0                 610.0   \n",
       "24 2025-12-01           2771              2022.0                 637.0   \n",
       "25 2026-01-01           2332              1697.0                 531.0   \n",
       "26 2026-02-01           2150              1564.0                 489.0   \n",
       "27 2026-03-01           2480              1793.0                 553.0   \n",
       "28 2026-04-01           2291              1672.0                 526.0   \n",
       "29 2026-05-01           2426              1748.0                 535.0   \n",
       "30 2026-06-01           2493              1828.0                 582.0   \n",
       "31 2026-07-01           2619              1960.0                 650.0   \n",
       "32 2026-08-01           2689              1946.0                 601.0   \n",
       "33 2026-09-01           2555              1852.0                 574.0   \n",
       "34 2026-10-01           2608              1893.0                 589.0   \n",
       "35 2026-11-01           2569              1840.0                 555.0   \n",
       "\n",
       "    Pedido de Compra  Cobertura de Estoque (dias)  \n",
       "0             3359.0                         12.0  \n",
       "1             3376.0                         14.0  \n",
       "2             3535.0                         14.0  \n",
       "3             3554.0                         13.0  \n",
       "4             3597.0                         14.0  \n",
       "5             3795.0                         13.0  \n",
       "6             3949.0                         13.0  \n",
       "7             4203.0                         13.0  \n",
       "8             4018.0                         12.0  \n",
       "9             3999.0                         13.0  \n",
       "10            3976.0                         12.0  \n",
       "11            4191.0                         13.0  \n",
       "12            3859.0                         12.0  \n",
       "13            3329.0                         13.0  \n",
       "14            3532.0                         14.0  \n",
       "15            3556.0                         12.0  \n",
       "16            3634.0                         14.0  \n",
       "17            3742.0                         13.0  \n",
       "18            3961.0                         13.0  \n",
       "19            4121.0                         13.0  \n",
       "20            4053.0                         13.0  \n",
       "21            3973.0                         13.0  \n",
       "22            3981.0                         13.0  \n",
       "23            4169.0                         13.0  \n",
       "24            3854.0                         12.0  \n",
       "25            3347.0                         13.0  \n",
       "26            3544.0                         14.0  \n",
       "27            3584.0                         13.0  \n",
       "28            3598.0                         13.0  \n",
       "29            3741.0                         13.0  \n",
       "30            3947.0                         13.0  \n",
       "31            4149.0                         13.0  \n",
       "32            4001.0                         12.0  \n",
       "33            3960.0                         13.0  \n",
       "34            3962.0                         13.0  \n",
       "35            1340.0                         12.0  "
      ]
     },
     "execution_count": 23,
     "metadata": {},
     "output_type": "execute_result"
    }
   ],
   "source": [
    "df_resultados"
   ]
  },
  {
   "cell_type": "code",
   "execution_count": 24,
   "id": "402842dd",
   "metadata": {},
   "outputs": [
    {
     "data": {
      "application/vnd.plotly.v1+json": {
       "config": {
        "plotlyServerURL": "https://plot.ly"
       },
       "data": [
        {
         "cells": {
          "values": [
           [
            "2023-12-01T00:00:00",
            "2024-01-01T00:00:00",
            "2024-02-01T00:00:00",
            "2024-03-01T00:00:00",
            "2024-04-01T00:00:00",
            "2024-05-01T00:00:00",
            "2024-06-01T00:00:00",
            "2024-07-01T00:00:00",
            "2024-08-01T00:00:00",
            "2024-09-01T00:00:00",
            "2024-10-01T00:00:00",
            "2024-11-01T00:00:00",
            "2024-12-01T00:00:00",
            "2025-01-01T00:00:00",
            "2025-02-01T00:00:00",
            "2025-03-01T00:00:00",
            "2025-04-01T00:00:00",
            "2025-05-01T00:00:00",
            "2025-06-01T00:00:00",
            "2025-07-01T00:00:00",
            "2025-08-01T00:00:00",
            "2025-09-01T00:00:00",
            "2025-10-01T00:00:00",
            "2025-11-01T00:00:00",
            "2025-12-01T00:00:00",
            "2026-01-01T00:00:00",
            "2026-02-01T00:00:00",
            "2026-03-01T00:00:00",
            "2026-04-01T00:00:00",
            "2026-05-01T00:00:00",
            "2026-06-01T00:00:00",
            "2026-07-01T00:00:00",
            "2026-08-01T00:00:00",
            "2026-09-01T00:00:00",
            "2026-10-01T00:00:00",
            "2026-11-01T00:00:00"
           ],
           [
            2801,
            2321,
            2120,
            2484,
            2275,
            2425,
            2499,
            2637,
            2715,
            2568,
            2626,
            2582,
            2788,
            2327,
            2135,
            2482,
            2283,
            2426,
            2496,
            2628,
            2701,
            2561,
            2617,
            2575,
            2771,
            2332,
            2150,
            2480,
            2291,
            2426,
            2493,
            2619,
            2689,
            2555,
            2608,
            2569
           ],
           [
            1538,
            1756,
            1551,
            1779,
            1672,
            1796,
            1812,
            1988,
            1950,
            1873,
            1894,
            1903,
            2032,
            1694,
            1550,
            1773,
            1708,
            1746,
            1833,
            1920,
            1992,
            1856,
            1906,
            1898,
            2022,
            1697,
            1564,
            1793,
            1672,
            1748,
            1828,
            1960,
            1946,
            1852,
            1893,
            1840
           ],
           [
            637,
            596,
            491,
            537,
            534,
            584,
            563,
            670,
            593,
            589,
            581,
            612,
            638,
            530,
            483,
            532,
            566,
            533,
            585,
            606,
            642,
            576,
            597,
            610,
            637,
            531,
            489,
            553,
            526,
            535,
            582,
            650,
            601,
            574,
            589,
            555
           ],
           [
            3359,
            3376,
            3535,
            3554,
            3597,
            3795,
            3949,
            4203,
            4018,
            3999,
            3976,
            4191,
            3859,
            3329,
            3532,
            3556,
            3634,
            3742,
            3961,
            4121,
            4053,
            3973,
            3981,
            4169,
            3854,
            3347,
            3544,
            3584,
            3598,
            3741,
            3947,
            4149,
            4001,
            3960,
            3962,
            1340
           ],
           [
            12,
            14,
            14,
            13,
            14,
            13,
            13,
            13,
            12,
            13,
            12,
            13,
            12,
            13,
            14,
            12,
            14,
            13,
            13,
            13,
            13,
            13,
            13,
            13,
            12,
            13,
            14,
            13,
            13,
            13,
            13,
            13,
            12,
            13,
            13,
            12
           ]
          ]
         },
         "header": {
          "values": [
           "Mês",
           "Mercedes-Benz",
           "Ponto de Reposição",
           "Estoque de Segurança",
           "Pedido de Compra",
           "Cobertura de Estoque (dias)"
          ]
         },
         "type": "table"
        }
       ],
       "layout": {
        "margin": {
         "b": 20,
         "l": 20,
         "r": 20,
         "t": 40
        },
        "template": {
         "data": {
          "bar": [
           {
            "error_x": {
             "color": "#2a3f5f"
            },
            "error_y": {
             "color": "#2a3f5f"
            },
            "marker": {
             "line": {
              "color": "#E5ECF6",
              "width": 0.5
             },
             "pattern": {
              "fillmode": "overlay",
              "size": 10,
              "solidity": 0.2
             }
            },
            "type": "bar"
           }
          ],
          "barpolar": [
           {
            "marker": {
             "line": {
              "color": "#E5ECF6",
              "width": 0.5
             },
             "pattern": {
              "fillmode": "overlay",
              "size": 10,
              "solidity": 0.2
             }
            },
            "type": "barpolar"
           }
          ],
          "carpet": [
           {
            "aaxis": {
             "endlinecolor": "#2a3f5f",
             "gridcolor": "white",
             "linecolor": "white",
             "minorgridcolor": "white",
             "startlinecolor": "#2a3f5f"
            },
            "baxis": {
             "endlinecolor": "#2a3f5f",
             "gridcolor": "white",
             "linecolor": "white",
             "minorgridcolor": "white",
             "startlinecolor": "#2a3f5f"
            },
            "type": "carpet"
           }
          ],
          "choropleth": [
           {
            "colorbar": {
             "outlinewidth": 0,
             "ticks": ""
            },
            "type": "choropleth"
           }
          ],
          "contour": [
           {
            "colorbar": {
             "outlinewidth": 0,
             "ticks": ""
            },
            "colorscale": [
             [
              0,
              "#0d0887"
             ],
             [
              0.1111111111111111,
              "#46039f"
             ],
             [
              0.2222222222222222,
              "#7201a8"
             ],
             [
              0.3333333333333333,
              "#9c179e"
             ],
             [
              0.4444444444444444,
              "#bd3786"
             ],
             [
              0.5555555555555556,
              "#d8576b"
             ],
             [
              0.6666666666666666,
              "#ed7953"
             ],
             [
              0.7777777777777778,
              "#fb9f3a"
             ],
             [
              0.8888888888888888,
              "#fdca26"
             ],
             [
              1,
              "#f0f921"
             ]
            ],
            "type": "contour"
           }
          ],
          "contourcarpet": [
           {
            "colorbar": {
             "outlinewidth": 0,
             "ticks": ""
            },
            "type": "contourcarpet"
           }
          ],
          "heatmap": [
           {
            "colorbar": {
             "outlinewidth": 0,
             "ticks": ""
            },
            "colorscale": [
             [
              0,
              "#0d0887"
             ],
             [
              0.1111111111111111,
              "#46039f"
             ],
             [
              0.2222222222222222,
              "#7201a8"
             ],
             [
              0.3333333333333333,
              "#9c179e"
             ],
             [
              0.4444444444444444,
              "#bd3786"
             ],
             [
              0.5555555555555556,
              "#d8576b"
             ],
             [
              0.6666666666666666,
              "#ed7953"
             ],
             [
              0.7777777777777778,
              "#fb9f3a"
             ],
             [
              0.8888888888888888,
              "#fdca26"
             ],
             [
              1,
              "#f0f921"
             ]
            ],
            "type": "heatmap"
           }
          ],
          "heatmapgl": [
           {
            "colorbar": {
             "outlinewidth": 0,
             "ticks": ""
            },
            "colorscale": [
             [
              0,
              "#0d0887"
             ],
             [
              0.1111111111111111,
              "#46039f"
             ],
             [
              0.2222222222222222,
              "#7201a8"
             ],
             [
              0.3333333333333333,
              "#9c179e"
             ],
             [
              0.4444444444444444,
              "#bd3786"
             ],
             [
              0.5555555555555556,
              "#d8576b"
             ],
             [
              0.6666666666666666,
              "#ed7953"
             ],
             [
              0.7777777777777778,
              "#fb9f3a"
             ],
             [
              0.8888888888888888,
              "#fdca26"
             ],
             [
              1,
              "#f0f921"
             ]
            ],
            "type": "heatmapgl"
           }
          ],
          "histogram": [
           {
            "marker": {
             "pattern": {
              "fillmode": "overlay",
              "size": 10,
              "solidity": 0.2
             }
            },
            "type": "histogram"
           }
          ],
          "histogram2d": [
           {
            "colorbar": {
             "outlinewidth": 0,
             "ticks": ""
            },
            "colorscale": [
             [
              0,
              "#0d0887"
             ],
             [
              0.1111111111111111,
              "#46039f"
             ],
             [
              0.2222222222222222,
              "#7201a8"
             ],
             [
              0.3333333333333333,
              "#9c179e"
             ],
             [
              0.4444444444444444,
              "#bd3786"
             ],
             [
              0.5555555555555556,
              "#d8576b"
             ],
             [
              0.6666666666666666,
              "#ed7953"
             ],
             [
              0.7777777777777778,
              "#fb9f3a"
             ],
             [
              0.8888888888888888,
              "#fdca26"
             ],
             [
              1,
              "#f0f921"
             ]
            ],
            "type": "histogram2d"
           }
          ],
          "histogram2dcontour": [
           {
            "colorbar": {
             "outlinewidth": 0,
             "ticks": ""
            },
            "colorscale": [
             [
              0,
              "#0d0887"
             ],
             [
              0.1111111111111111,
              "#46039f"
             ],
             [
              0.2222222222222222,
              "#7201a8"
             ],
             [
              0.3333333333333333,
              "#9c179e"
             ],
             [
              0.4444444444444444,
              "#bd3786"
             ],
             [
              0.5555555555555556,
              "#d8576b"
             ],
             [
              0.6666666666666666,
              "#ed7953"
             ],
             [
              0.7777777777777778,
              "#fb9f3a"
             ],
             [
              0.8888888888888888,
              "#fdca26"
             ],
             [
              1,
              "#f0f921"
             ]
            ],
            "type": "histogram2dcontour"
           }
          ],
          "mesh3d": [
           {
            "colorbar": {
             "outlinewidth": 0,
             "ticks": ""
            },
            "type": "mesh3d"
           }
          ],
          "parcoords": [
           {
            "line": {
             "colorbar": {
              "outlinewidth": 0,
              "ticks": ""
             }
            },
            "type": "parcoords"
           }
          ],
          "pie": [
           {
            "automargin": true,
            "type": "pie"
           }
          ],
          "scatter": [
           {
            "fillpattern": {
             "fillmode": "overlay",
             "size": 10,
             "solidity": 0.2
            },
            "type": "scatter"
           }
          ],
          "scatter3d": [
           {
            "line": {
             "colorbar": {
              "outlinewidth": 0,
              "ticks": ""
             }
            },
            "marker": {
             "colorbar": {
              "outlinewidth": 0,
              "ticks": ""
             }
            },
            "type": "scatter3d"
           }
          ],
          "scattercarpet": [
           {
            "marker": {
             "colorbar": {
              "outlinewidth": 0,
              "ticks": ""
             }
            },
            "type": "scattercarpet"
           }
          ],
          "scattergeo": [
           {
            "marker": {
             "colorbar": {
              "outlinewidth": 0,
              "ticks": ""
             }
            },
            "type": "scattergeo"
           }
          ],
          "scattergl": [
           {
            "marker": {
             "colorbar": {
              "outlinewidth": 0,
              "ticks": ""
             }
            },
            "type": "scattergl"
           }
          ],
          "scattermapbox": [
           {
            "marker": {
             "colorbar": {
              "outlinewidth": 0,
              "ticks": ""
             }
            },
            "type": "scattermapbox"
           }
          ],
          "scatterpolar": [
           {
            "marker": {
             "colorbar": {
              "outlinewidth": 0,
              "ticks": ""
             }
            },
            "type": "scatterpolar"
           }
          ],
          "scatterpolargl": [
           {
            "marker": {
             "colorbar": {
              "outlinewidth": 0,
              "ticks": ""
             }
            },
            "type": "scatterpolargl"
           }
          ],
          "scatterternary": [
           {
            "marker": {
             "colorbar": {
              "outlinewidth": 0,
              "ticks": ""
             }
            },
            "type": "scatterternary"
           }
          ],
          "surface": [
           {
            "colorbar": {
             "outlinewidth": 0,
             "ticks": ""
            },
            "colorscale": [
             [
              0,
              "#0d0887"
             ],
             [
              0.1111111111111111,
              "#46039f"
             ],
             [
              0.2222222222222222,
              "#7201a8"
             ],
             [
              0.3333333333333333,
              "#9c179e"
             ],
             [
              0.4444444444444444,
              "#bd3786"
             ],
             [
              0.5555555555555556,
              "#d8576b"
             ],
             [
              0.6666666666666666,
              "#ed7953"
             ],
             [
              0.7777777777777778,
              "#fb9f3a"
             ],
             [
              0.8888888888888888,
              "#fdca26"
             ],
             [
              1,
              "#f0f921"
             ]
            ],
            "type": "surface"
           }
          ],
          "table": [
           {
            "cells": {
             "fill": {
              "color": "#EBF0F8"
             },
             "line": {
              "color": "white"
             }
            },
            "header": {
             "fill": {
              "color": "#C8D4E3"
             },
             "line": {
              "color": "white"
             }
            },
            "type": "table"
           }
          ]
         },
         "layout": {
          "annotationdefaults": {
           "arrowcolor": "#2a3f5f",
           "arrowhead": 0,
           "arrowwidth": 1
          },
          "autotypenumbers": "strict",
          "coloraxis": {
           "colorbar": {
            "outlinewidth": 0,
            "ticks": ""
           }
          },
          "colorscale": {
           "diverging": [
            [
             0,
             "#8e0152"
            ],
            [
             0.1,
             "#c51b7d"
            ],
            [
             0.2,
             "#de77ae"
            ],
            [
             0.3,
             "#f1b6da"
            ],
            [
             0.4,
             "#fde0ef"
            ],
            [
             0.5,
             "#f7f7f7"
            ],
            [
             0.6,
             "#e6f5d0"
            ],
            [
             0.7,
             "#b8e186"
            ],
            [
             0.8,
             "#7fbc41"
            ],
            [
             0.9,
             "#4d9221"
            ],
            [
             1,
             "#276419"
            ]
           ],
           "sequential": [
            [
             0,
             "#0d0887"
            ],
            [
             0.1111111111111111,
             "#46039f"
            ],
            [
             0.2222222222222222,
             "#7201a8"
            ],
            [
             0.3333333333333333,
             "#9c179e"
            ],
            [
             0.4444444444444444,
             "#bd3786"
            ],
            [
             0.5555555555555556,
             "#d8576b"
            ],
            [
             0.6666666666666666,
             "#ed7953"
            ],
            [
             0.7777777777777778,
             "#fb9f3a"
            ],
            [
             0.8888888888888888,
             "#fdca26"
            ],
            [
             1,
             "#f0f921"
            ]
           ],
           "sequentialminus": [
            [
             0,
             "#0d0887"
            ],
            [
             0.1111111111111111,
             "#46039f"
            ],
            [
             0.2222222222222222,
             "#7201a8"
            ],
            [
             0.3333333333333333,
             "#9c179e"
            ],
            [
             0.4444444444444444,
             "#bd3786"
            ],
            [
             0.5555555555555556,
             "#d8576b"
            ],
            [
             0.6666666666666666,
             "#ed7953"
            ],
            [
             0.7777777777777778,
             "#fb9f3a"
            ],
            [
             0.8888888888888888,
             "#fdca26"
            ],
            [
             1,
             "#f0f921"
            ]
           ]
          },
          "colorway": [
           "#636efa",
           "#EF553B",
           "#00cc96",
           "#ab63fa",
           "#FFA15A",
           "#19d3f3",
           "#FF6692",
           "#B6E880",
           "#FF97FF",
           "#FECB52"
          ],
          "font": {
           "color": "#2a3f5f"
          },
          "geo": {
           "bgcolor": "white",
           "lakecolor": "white",
           "landcolor": "#E5ECF6",
           "showlakes": true,
           "showland": true,
           "subunitcolor": "white"
          },
          "hoverlabel": {
           "align": "left"
          },
          "hovermode": "closest",
          "mapbox": {
           "style": "light"
          },
          "paper_bgcolor": "white",
          "plot_bgcolor": "#E5ECF6",
          "polar": {
           "angularaxis": {
            "gridcolor": "white",
            "linecolor": "white",
            "ticks": ""
           },
           "bgcolor": "#E5ECF6",
           "radialaxis": {
            "gridcolor": "white",
            "linecolor": "white",
            "ticks": ""
           }
          },
          "scene": {
           "xaxis": {
            "backgroundcolor": "#E5ECF6",
            "gridcolor": "white",
            "gridwidth": 2,
            "linecolor": "white",
            "showbackground": true,
            "ticks": "",
            "zerolinecolor": "white"
           },
           "yaxis": {
            "backgroundcolor": "#E5ECF6",
            "gridcolor": "white",
            "gridwidth": 2,
            "linecolor": "white",
            "showbackground": true,
            "ticks": "",
            "zerolinecolor": "white"
           },
           "zaxis": {
            "backgroundcolor": "#E5ECF6",
            "gridcolor": "white",
            "gridwidth": 2,
            "linecolor": "white",
            "showbackground": true,
            "ticks": "",
            "zerolinecolor": "white"
           }
          },
          "shapedefaults": {
           "line": {
            "color": "#2a3f5f"
           }
          },
          "ternary": {
           "aaxis": {
            "gridcolor": "white",
            "linecolor": "white",
            "ticks": ""
           },
           "baxis": {
            "gridcolor": "white",
            "linecolor": "white",
            "ticks": ""
           },
           "bgcolor": "#E5ECF6",
           "caxis": {
            "gridcolor": "white",
            "linecolor": "white",
            "ticks": ""
           }
          },
          "title": {
           "x": 0.05
          },
          "xaxis": {
           "automargin": true,
           "gridcolor": "white",
           "linecolor": "white",
           "ticks": "",
           "title": {
            "standoff": 15
           },
           "zerolinecolor": "white",
           "zerolinewidth": 2
          },
          "yaxis": {
           "automargin": true,
           "gridcolor": "white",
           "linecolor": "white",
           "ticks": "",
           "title": {
            "standoff": 15
           },
           "zerolinecolor": "white",
           "zerolinewidth": 2
          }
         }
        },
        "title": {
         "text": "Plano de Entradas & Cobertura de Estoque"
        },
        "xaxis": {
         "title": {
          "text": "Mês"
         }
        },
        "xaxis2": {
         "title": {
          "text": "Mercedes-Benz"
         }
        },
        "xaxis3": {
         "title": {
          "text": "Ponto de Reposição"
         }
        },
        "xaxis4": {
         "title": {
          "text": "Estoque de Segurança"
         }
        },
        "xaxis5": {
         "title": {
          "text": "Pedido de Compra"
         }
        },
        "xaxis6": {
         "title": {
          "text": "Cobertura de Estoque (dias)"
         }
        }
       }
      },
      "text/html": [
       "<div>                            <div id=\"0902041a-c82b-49dc-adb9-1dd5b66645c7\" class=\"plotly-graph-div\" style=\"height:525px; width:100%;\"></div>            <script type=\"text/javascript\">                require([\"plotly\"], function(Plotly) {                    window.PLOTLYENV=window.PLOTLYENV || {};                                    if (document.getElementById(\"0902041a-c82b-49dc-adb9-1dd5b66645c7\")) {                    Plotly.newPlot(                        \"0902041a-c82b-49dc-adb9-1dd5b66645c7\",                        [{\"cells\":{\"values\":[[\"2023-12-01T00:00:00\",\"2024-01-01T00:00:00\",\"2024-02-01T00:00:00\",\"2024-03-01T00:00:00\",\"2024-04-01T00:00:00\",\"2024-05-01T00:00:00\",\"2024-06-01T00:00:00\",\"2024-07-01T00:00:00\",\"2024-08-01T00:00:00\",\"2024-09-01T00:00:00\",\"2024-10-01T00:00:00\",\"2024-11-01T00:00:00\",\"2024-12-01T00:00:00\",\"2025-01-01T00:00:00\",\"2025-02-01T00:00:00\",\"2025-03-01T00:00:00\",\"2025-04-01T00:00:00\",\"2025-05-01T00:00:00\",\"2025-06-01T00:00:00\",\"2025-07-01T00:00:00\",\"2025-08-01T00:00:00\",\"2025-09-01T00:00:00\",\"2025-10-01T00:00:00\",\"2025-11-01T00:00:00\",\"2025-12-01T00:00:00\",\"2026-01-01T00:00:00\",\"2026-02-01T00:00:00\",\"2026-03-01T00:00:00\",\"2026-04-01T00:00:00\",\"2026-05-01T00:00:00\",\"2026-06-01T00:00:00\",\"2026-07-01T00:00:00\",\"2026-08-01T00:00:00\",\"2026-09-01T00:00:00\",\"2026-10-01T00:00:00\",\"2026-11-01T00:00:00\"],[2801,2321,2120,2484,2275,2425,2499,2637,2715,2568,2626,2582,2788,2327,2135,2482,2283,2426,2496,2628,2701,2561,2617,2575,2771,2332,2150,2480,2291,2426,2493,2619,2689,2555,2608,2569],[1538.0,1756.0,1551.0,1779.0,1672.0,1796.0,1812.0,1988.0,1950.0,1873.0,1894.0,1903.0,2032.0,1694.0,1550.0,1773.0,1708.0,1746.0,1833.0,1920.0,1992.0,1856.0,1906.0,1898.0,2022.0,1697.0,1564.0,1793.0,1672.0,1748.0,1828.0,1960.0,1946.0,1852.0,1893.0,1840.0],[637.0,596.0,491.0,537.0,534.0,584.0,563.0,670.0,593.0,589.0,581.0,612.0,638.0,530.0,483.0,532.0,566.0,533.0,585.0,606.0,642.0,576.0,597.0,610.0,637.0,531.0,489.0,553.0,526.0,535.0,582.0,650.0,601.0,574.0,589.0,555.0],[3359.0,3376.0,3535.0,3554.0,3597.0,3795.0,3949.0,4203.0,4018.0,3999.0,3976.0,4191.0,3859.0,3329.0,3532.0,3556.0,3634.0,3742.0,3961.0,4121.0,4053.0,3973.0,3981.0,4169.0,3854.0,3347.0,3544.0,3584.0,3598.0,3741.0,3947.0,4149.0,4001.0,3960.0,3962.0,1340.0],[12.0,14.0,14.0,13.0,14.0,13.0,13.0,13.0,12.0,13.0,12.0,13.0,12.0,13.0,14.0,12.0,14.0,13.0,13.0,13.0,13.0,13.0,13.0,13.0,12.0,13.0,14.0,13.0,13.0,13.0,13.0,13.0,12.0,13.0,13.0,12.0]]},\"header\":{\"values\":[\"M\\u00eas\",\"Mercedes-Benz\",\"Ponto de Reposi\\u00e7\\u00e3o\",\"Estoque de Seguran\\u00e7a\",\"Pedido de Compra\",\"Cobertura de Estoque (dias)\"]},\"type\":\"table\"}],                        {\"template\":{\"data\":{\"histogram2dcontour\":[{\"type\":\"histogram2dcontour\",\"colorbar\":{\"outlinewidth\":0,\"ticks\":\"\"},\"colorscale\":[[0.0,\"#0d0887\"],[0.1111111111111111,\"#46039f\"],[0.2222222222222222,\"#7201a8\"],[0.3333333333333333,\"#9c179e\"],[0.4444444444444444,\"#bd3786\"],[0.5555555555555556,\"#d8576b\"],[0.6666666666666666,\"#ed7953\"],[0.7777777777777778,\"#fb9f3a\"],[0.8888888888888888,\"#fdca26\"],[1.0,\"#f0f921\"]]}],\"choropleth\":[{\"type\":\"choropleth\",\"colorbar\":{\"outlinewidth\":0,\"ticks\":\"\"}}],\"histogram2d\":[{\"type\":\"histogram2d\",\"colorbar\":{\"outlinewidth\":0,\"ticks\":\"\"},\"colorscale\":[[0.0,\"#0d0887\"],[0.1111111111111111,\"#46039f\"],[0.2222222222222222,\"#7201a8\"],[0.3333333333333333,\"#9c179e\"],[0.4444444444444444,\"#bd3786\"],[0.5555555555555556,\"#d8576b\"],[0.6666666666666666,\"#ed7953\"],[0.7777777777777778,\"#fb9f3a\"],[0.8888888888888888,\"#fdca26\"],[1.0,\"#f0f921\"]]}],\"heatmap\":[{\"type\":\"heatmap\",\"colorbar\":{\"outlinewidth\":0,\"ticks\":\"\"},\"colorscale\":[[0.0,\"#0d0887\"],[0.1111111111111111,\"#46039f\"],[0.2222222222222222,\"#7201a8\"],[0.3333333333333333,\"#9c179e\"],[0.4444444444444444,\"#bd3786\"],[0.5555555555555556,\"#d8576b\"],[0.6666666666666666,\"#ed7953\"],[0.7777777777777778,\"#fb9f3a\"],[0.8888888888888888,\"#fdca26\"],[1.0,\"#f0f921\"]]}],\"heatmapgl\":[{\"type\":\"heatmapgl\",\"colorbar\":{\"outlinewidth\":0,\"ticks\":\"\"},\"colorscale\":[[0.0,\"#0d0887\"],[0.1111111111111111,\"#46039f\"],[0.2222222222222222,\"#7201a8\"],[0.3333333333333333,\"#9c179e\"],[0.4444444444444444,\"#bd3786\"],[0.5555555555555556,\"#d8576b\"],[0.6666666666666666,\"#ed7953\"],[0.7777777777777778,\"#fb9f3a\"],[0.8888888888888888,\"#fdca26\"],[1.0,\"#f0f921\"]]}],\"contourcarpet\":[{\"type\":\"contourcarpet\",\"colorbar\":{\"outlinewidth\":0,\"ticks\":\"\"}}],\"contour\":[{\"type\":\"contour\",\"colorbar\":{\"outlinewidth\":0,\"ticks\":\"\"},\"colorscale\":[[0.0,\"#0d0887\"],[0.1111111111111111,\"#46039f\"],[0.2222222222222222,\"#7201a8\"],[0.3333333333333333,\"#9c179e\"],[0.4444444444444444,\"#bd3786\"],[0.5555555555555556,\"#d8576b\"],[0.6666666666666666,\"#ed7953\"],[0.7777777777777778,\"#fb9f3a\"],[0.8888888888888888,\"#fdca26\"],[1.0,\"#f0f921\"]]}],\"surface\":[{\"type\":\"surface\",\"colorbar\":{\"outlinewidth\":0,\"ticks\":\"\"},\"colorscale\":[[0.0,\"#0d0887\"],[0.1111111111111111,\"#46039f\"],[0.2222222222222222,\"#7201a8\"],[0.3333333333333333,\"#9c179e\"],[0.4444444444444444,\"#bd3786\"],[0.5555555555555556,\"#d8576b\"],[0.6666666666666666,\"#ed7953\"],[0.7777777777777778,\"#fb9f3a\"],[0.8888888888888888,\"#fdca26\"],[1.0,\"#f0f921\"]]}],\"mesh3d\":[{\"type\":\"mesh3d\",\"colorbar\":{\"outlinewidth\":0,\"ticks\":\"\"}}],\"scatter\":[{\"fillpattern\":{\"fillmode\":\"overlay\",\"size\":10,\"solidity\":0.2},\"type\":\"scatter\"}],\"parcoords\":[{\"type\":\"parcoords\",\"line\":{\"colorbar\":{\"outlinewidth\":0,\"ticks\":\"\"}}}],\"scatterpolargl\":[{\"type\":\"scatterpolargl\",\"marker\":{\"colorbar\":{\"outlinewidth\":0,\"ticks\":\"\"}}}],\"bar\":[{\"error_x\":{\"color\":\"#2a3f5f\"},\"error_y\":{\"color\":\"#2a3f5f\"},\"marker\":{\"line\":{\"color\":\"#E5ECF6\",\"width\":0.5},\"pattern\":{\"fillmode\":\"overlay\",\"size\":10,\"solidity\":0.2}},\"type\":\"bar\"}],\"scattergeo\":[{\"type\":\"scattergeo\",\"marker\":{\"colorbar\":{\"outlinewidth\":0,\"ticks\":\"\"}}}],\"scatterpolar\":[{\"type\":\"scatterpolar\",\"marker\":{\"colorbar\":{\"outlinewidth\":0,\"ticks\":\"\"}}}],\"histogram\":[{\"marker\":{\"pattern\":{\"fillmode\":\"overlay\",\"size\":10,\"solidity\":0.2}},\"type\":\"histogram\"}],\"scattergl\":[{\"type\":\"scattergl\",\"marker\":{\"colorbar\":{\"outlinewidth\":0,\"ticks\":\"\"}}}],\"scatter3d\":[{\"type\":\"scatter3d\",\"line\":{\"colorbar\":{\"outlinewidth\":0,\"ticks\":\"\"}},\"marker\":{\"colorbar\":{\"outlinewidth\":0,\"ticks\":\"\"}}}],\"scattermapbox\":[{\"type\":\"scattermapbox\",\"marker\":{\"colorbar\":{\"outlinewidth\":0,\"ticks\":\"\"}}}],\"scatterternary\":[{\"type\":\"scatterternary\",\"marker\":{\"colorbar\":{\"outlinewidth\":0,\"ticks\":\"\"}}}],\"scattercarpet\":[{\"type\":\"scattercarpet\",\"marker\":{\"colorbar\":{\"outlinewidth\":0,\"ticks\":\"\"}}}],\"carpet\":[{\"aaxis\":{\"endlinecolor\":\"#2a3f5f\",\"gridcolor\":\"white\",\"linecolor\":\"white\",\"minorgridcolor\":\"white\",\"startlinecolor\":\"#2a3f5f\"},\"baxis\":{\"endlinecolor\":\"#2a3f5f\",\"gridcolor\":\"white\",\"linecolor\":\"white\",\"minorgridcolor\":\"white\",\"startlinecolor\":\"#2a3f5f\"},\"type\":\"carpet\"}],\"table\":[{\"cells\":{\"fill\":{\"color\":\"#EBF0F8\"},\"line\":{\"color\":\"white\"}},\"header\":{\"fill\":{\"color\":\"#C8D4E3\"},\"line\":{\"color\":\"white\"}},\"type\":\"table\"}],\"barpolar\":[{\"marker\":{\"line\":{\"color\":\"#E5ECF6\",\"width\":0.5},\"pattern\":{\"fillmode\":\"overlay\",\"size\":10,\"solidity\":0.2}},\"type\":\"barpolar\"}],\"pie\":[{\"automargin\":true,\"type\":\"pie\"}]},\"layout\":{\"autotypenumbers\":\"strict\",\"colorway\":[\"#636efa\",\"#EF553B\",\"#00cc96\",\"#ab63fa\",\"#FFA15A\",\"#19d3f3\",\"#FF6692\",\"#B6E880\",\"#FF97FF\",\"#FECB52\"],\"font\":{\"color\":\"#2a3f5f\"},\"hovermode\":\"closest\",\"hoverlabel\":{\"align\":\"left\"},\"paper_bgcolor\":\"white\",\"plot_bgcolor\":\"#E5ECF6\",\"polar\":{\"bgcolor\":\"#E5ECF6\",\"angularaxis\":{\"gridcolor\":\"white\",\"linecolor\":\"white\",\"ticks\":\"\"},\"radialaxis\":{\"gridcolor\":\"white\",\"linecolor\":\"white\",\"ticks\":\"\"}},\"ternary\":{\"bgcolor\":\"#E5ECF6\",\"aaxis\":{\"gridcolor\":\"white\",\"linecolor\":\"white\",\"ticks\":\"\"},\"baxis\":{\"gridcolor\":\"white\",\"linecolor\":\"white\",\"ticks\":\"\"},\"caxis\":{\"gridcolor\":\"white\",\"linecolor\":\"white\",\"ticks\":\"\"}},\"coloraxis\":{\"colorbar\":{\"outlinewidth\":0,\"ticks\":\"\"}},\"colorscale\":{\"sequential\":[[0.0,\"#0d0887\"],[0.1111111111111111,\"#46039f\"],[0.2222222222222222,\"#7201a8\"],[0.3333333333333333,\"#9c179e\"],[0.4444444444444444,\"#bd3786\"],[0.5555555555555556,\"#d8576b\"],[0.6666666666666666,\"#ed7953\"],[0.7777777777777778,\"#fb9f3a\"],[0.8888888888888888,\"#fdca26\"],[1.0,\"#f0f921\"]],\"sequentialminus\":[[0.0,\"#0d0887\"],[0.1111111111111111,\"#46039f\"],[0.2222222222222222,\"#7201a8\"],[0.3333333333333333,\"#9c179e\"],[0.4444444444444444,\"#bd3786\"],[0.5555555555555556,\"#d8576b\"],[0.6666666666666666,\"#ed7953\"],[0.7777777777777778,\"#fb9f3a\"],[0.8888888888888888,\"#fdca26\"],[1.0,\"#f0f921\"]],\"diverging\":[[0,\"#8e0152\"],[0.1,\"#c51b7d\"],[0.2,\"#de77ae\"],[0.3,\"#f1b6da\"],[0.4,\"#fde0ef\"],[0.5,\"#f7f7f7\"],[0.6,\"#e6f5d0\"],[0.7,\"#b8e186\"],[0.8,\"#7fbc41\"],[0.9,\"#4d9221\"],[1,\"#276419\"]]},\"xaxis\":{\"gridcolor\":\"white\",\"linecolor\":\"white\",\"ticks\":\"\",\"title\":{\"standoff\":15},\"zerolinecolor\":\"white\",\"automargin\":true,\"zerolinewidth\":2},\"yaxis\":{\"gridcolor\":\"white\",\"linecolor\":\"white\",\"ticks\":\"\",\"title\":{\"standoff\":15},\"zerolinecolor\":\"white\",\"automargin\":true,\"zerolinewidth\":2},\"scene\":{\"xaxis\":{\"backgroundcolor\":\"#E5ECF6\",\"gridcolor\":\"white\",\"linecolor\":\"white\",\"showbackground\":true,\"ticks\":\"\",\"zerolinecolor\":\"white\",\"gridwidth\":2},\"yaxis\":{\"backgroundcolor\":\"#E5ECF6\",\"gridcolor\":\"white\",\"linecolor\":\"white\",\"showbackground\":true,\"ticks\":\"\",\"zerolinecolor\":\"white\",\"gridwidth\":2},\"zaxis\":{\"backgroundcolor\":\"#E5ECF6\",\"gridcolor\":\"white\",\"linecolor\":\"white\",\"showbackground\":true,\"ticks\":\"\",\"zerolinecolor\":\"white\",\"gridwidth\":2}},\"shapedefaults\":{\"line\":{\"color\":\"#2a3f5f\"}},\"annotationdefaults\":{\"arrowcolor\":\"#2a3f5f\",\"arrowhead\":0,\"arrowwidth\":1},\"geo\":{\"bgcolor\":\"white\",\"landcolor\":\"#E5ECF6\",\"subunitcolor\":\"white\",\"showland\":true,\"showlakes\":true,\"lakecolor\":\"white\"},\"title\":{\"x\":0.05},\"mapbox\":{\"style\":\"light\"}}},\"xaxis\":{\"title\":{\"text\":\"M\\u00eas\"}},\"xaxis2\":{\"title\":{\"text\":\"Mercedes-Benz\"}},\"xaxis3\":{\"title\":{\"text\":\"Ponto de Reposi\\u00e7\\u00e3o\"}},\"xaxis4\":{\"title\":{\"text\":\"Estoque de Seguran\\u00e7a\"}},\"xaxis5\":{\"title\":{\"text\":\"Pedido de Compra\"}},\"xaxis6\":{\"title\":{\"text\":\"Cobertura de Estoque (dias)\"}},\"margin\":{\"l\":20,\"r\":20,\"t\":40,\"b\":20},\"title\":{\"text\":\"Plano de Entradas & Cobertura de Estoque\"}},                        {\"responsive\": true}                    ).then(function(){\n",
       "                            \n",
       "var gd = document.getElementById('0902041a-c82b-49dc-adb9-1dd5b66645c7');\n",
       "var x = new MutationObserver(function (mutations, observer) {{\n",
       "        var display = window.getComputedStyle(gd).display;\n",
       "        if (!display || display === 'none') {{\n",
       "            console.log([gd, 'removed!']);\n",
       "            Plotly.purge(gd);\n",
       "            observer.disconnect();\n",
       "        }}\n",
       "}});\n",
       "\n",
       "// Listen for the removal of the full notebook cells\n",
       "var notebookContainer = gd.closest('#notebook-container');\n",
       "if (notebookContainer) {{\n",
       "    x.observe(notebookContainer, {childList: true});\n",
       "}}\n",
       "\n",
       "// Listen for the clearing of the current output cell\n",
       "var outputEl = gd.closest('.output');\n",
       "if (outputEl) {{\n",
       "    x.observe(outputEl, {childList: true});\n",
       "}}\n",
       "\n",
       "                        })                };                });            </script>        </div>"
      ]
     },
     "metadata": {},
     "output_type": "display_data"
    }
   ],
   "source": [
    "import plotly.graph_objects as go\n",
    "\n",
    "# Escolhendo as colunas desejadas\n",
    "colunas_desejadas = ['Mês', 'Mercedes-Benz', 'Ponto de Reposição', 'Estoque de Segurança',  'Pedido de Compra', 'Cobertura de Estoque (dias)']\n",
    "plano_entradas_selecionado = df_resultados[colunas_desejadas]\n",
    "\n",
    "# Arredondando os valores para 0 casas decimais\n",
    "plano_entradas_selecionado = plano_entradas_selecionado.round(0)\n",
    "\n",
    "# Criando a tabela\n",
    "figura_tabela_plano = go.Figure(data=[go.Table(\n",
    "    header=dict(values=plano_entradas_selecionado.columns),\n",
    "    cells=dict(values=plano_entradas_selecionado.transpose().values.tolist())\n",
    ")])\n",
    "\n",
    "# Ajuste da largura das colunas\n",
    "for i, col in enumerate(plano_entradas_selecionado.columns):\n",
    "    figura_tabela_plano.update_layout(\n",
    "        {'xaxis'+str(i+1): {'title': col}}\n",
    "    )\n",
    "\n",
    "# Layout da tabela\n",
    "figura_tabela_plano.update_layout(\n",
    "    title=\"Plano de Entradas & Cobertura de Estoque\",\n",
    "    margin=dict(l=20, r=20, t=40, b=20),  # Margens\n",
    ")\n",
    "\n",
    "# Exibindo a tabela\n",
    "figura_tabela_plano.show()\n"
   ]
  },
  {
   "cell_type": "code",
   "execution_count": null,
   "id": "87e16175",
   "metadata": {},
   "outputs": [],
   "source": []
  }
 ],
 "metadata": {
  "kernelspec": {
   "display_name": "Python 3 (ipykernel)",
   "language": "python",
   "name": "python3"
  },
  "language_info": {
   "codemirror_mode": {
    "name": "ipython",
    "version": 3
   },
   "file_extension": ".py",
   "mimetype": "text/x-python",
   "name": "python",
   "nbconvert_exporter": "python",
   "pygments_lexer": "ipython3",
   "version": "3.11.4"
  }
 },
 "nbformat": 4,
 "nbformat_minor": 5
}
