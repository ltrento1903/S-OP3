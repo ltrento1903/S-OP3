{
 "cells": [
  {
   "cell_type": "code",
   "execution_count": 14,
   "id": "8a74c88e",
   "metadata": {},
   "outputs": [
    {
     "name": "stdout",
     "output_type": "stream",
     "text": [
      "Plano de Produção:\n",
      "          Mês  Demanda  Estoque_Inicial  Entradas  Estoque_Final  \\\n",
      "0  2023-12-01  793.475             85.0    1255.0          547.0   \n",
      "1  2024-01-01  657.645            547.0    1000.0          889.0   \n",
      "2  2024-02-01  600.780            889.0    1345.0         1633.0   \n",
      "3  2024-03-01  703.715           1633.0       0.0          929.0   \n",
      "4  2024-04-01  644.640            929.0       0.0          284.0   \n",
      "5  2024-05-01  686.970            284.0     630.0          227.0   \n",
      "6  2024-06-01  707.965            227.0     715.0          234.0   \n",
      "7  2024-07-01  747.235            234.0     760.0          247.0   \n",
      "8  2024-08-01  769.165            247.0     776.0          254.0   \n",
      "9  2024-09-01  727.515            254.0     714.0          240.0   \n",
      "10 2024-10-01  744.005            240.0     750.0          246.0   \n",
      "11 2024-11-01  731.595            246.0     727.0          241.0   \n",
      "12 2024-12-01  789.820            241.0     809.0          261.0   \n",
      "13 2025-01-01  659.175            261.0     616.0          218.0   \n",
      "14 2025-02-01  605.030            218.0     587.0          200.0   \n",
      "15 2025-03-01  703.205            200.0     735.0          232.0   \n",
      "16 2025-04-01  646.850            232.0     628.0          213.0   \n",
      "17 2025-05-01  687.225            213.0     701.0          227.0   \n",
      "18 2025-06-01  707.115            227.0     713.0          233.0   \n",
      "19 2025-07-01  744.515            233.0     757.0          246.0   \n",
      "20 2025-08-01  765.340            246.0     772.0          253.0   \n",
      "21 2025-09-01  725.730            253.0     712.0          239.0   \n",
      "22 2025-10-01  741.455            239.0     747.0          245.0   \n",
      "23 2025-11-01  729.640            245.0     725.0          241.0   \n",
      "24 2025-12-01  785.060            241.0     803.0          259.0   \n",
      "25 2026-01-01  660.705            259.0     620.0          218.0   \n",
      "26 2026-02-01  609.195            218.0     592.0          201.0   \n",
      "27 2026-03-01  702.610            201.0     733.0          232.0   \n",
      "28 2026-04-01  648.975            232.0     631.0          214.0   \n",
      "29 2026-05-01  687.395            214.0     700.0          227.0   \n",
      "30 2026-06-01  706.350            227.0     712.0          233.0   \n",
      "31 2026-07-01  741.965            233.0     754.0          245.0   \n",
      "32 2026-08-01  761.770            245.0     768.0          251.0   \n",
      "33 2026-09-01  724.030            251.0     712.0          239.0   \n",
      "34 2026-10-01  738.990            239.0     744.0          244.0   \n",
      "35 2026-11-01  727.770            244.0     724.0          240.0   \n",
      "\n",
      "    Cobertura_Estoque_Dias  \n",
      "0                     21.0  \n",
      "1                     41.0  \n",
      "2                     82.0  \n",
      "3                     40.0  \n",
      "4                     13.0  \n",
      "5                     10.0  \n",
      "6                     10.0  \n",
      "7                     10.0  \n",
      "8                     10.0  \n",
      "9                     10.0  \n",
      "10                    10.0  \n",
      "11                    10.0  \n",
      "12                    10.0  \n",
      "13                    10.0  \n",
      "14                    10.0  \n",
      "15                    10.0  \n",
      "16                    10.0  \n",
      "17                    10.0  \n",
      "18                    10.0  \n",
      "19                    10.0  \n",
      "20                    10.0  \n",
      "21                    10.0  \n",
      "22                    10.0  \n",
      "23                    10.0  \n",
      "24                    10.0  \n",
      "25                    10.0  \n",
      "26                    10.0  \n",
      "27                    10.0  \n",
      "28                    10.0  \n",
      "29                    10.0  \n",
      "30                    10.0  \n",
      "31                    10.0  \n",
      "32                    10.0  \n",
      "33                    10.0  \n",
      "34                    10.0  \n",
      "35                    10.0  \n",
      "\n",
      "Balanço de Estoque:\n",
      "          Mês  Entradas   Saídas   Saldo\n",
      "0  2023-12-01    1255.0  793.475   547.0\n",
      "1  2024-01-01    1000.0  657.645   889.0\n",
      "2  2024-02-01    1345.0  600.780  1633.0\n",
      "3  2024-03-01       0.0  703.715   929.0\n",
      "4  2024-04-01       0.0  644.640   284.0\n",
      "5  2024-05-01     630.0  686.970   227.0\n",
      "6  2024-06-01     715.0  707.965   234.0\n",
      "7  2024-07-01     760.0  747.235   247.0\n",
      "8  2024-08-01     776.0  769.165   254.0\n",
      "9  2024-09-01     714.0  727.515   240.0\n",
      "10 2024-10-01     750.0  744.005   246.0\n",
      "11 2024-11-01     727.0  731.595   241.0\n",
      "12 2024-12-01     809.0  789.820   261.0\n",
      "13 2025-01-01     616.0  659.175   218.0\n",
      "14 2025-02-01     587.0  605.030   200.0\n",
      "15 2025-03-01     735.0  703.205   232.0\n",
      "16 2025-04-01     628.0  646.850   213.0\n",
      "17 2025-05-01     701.0  687.225   227.0\n",
      "18 2025-06-01     713.0  707.115   233.0\n",
      "19 2025-07-01     757.0  744.515   246.0\n",
      "20 2025-08-01     772.0  765.340   253.0\n",
      "21 2025-09-01     712.0  725.730   239.0\n",
      "22 2025-10-01     747.0  741.455   245.0\n",
      "23 2025-11-01     725.0  729.640   241.0\n",
      "24 2025-12-01     803.0  785.060   259.0\n",
      "25 2026-01-01     620.0  660.705   218.0\n",
      "26 2026-02-01     592.0  609.195   201.0\n",
      "27 2026-03-01     733.0  702.610   232.0\n",
      "28 2026-04-01     631.0  648.975   214.0\n",
      "29 2026-05-01     700.0  687.395   227.0\n",
      "30 2026-06-01     712.0  706.350   233.0\n",
      "31 2026-07-01     754.0  741.965   245.0\n",
      "32 2026-08-01     768.0  761.770   251.0\n",
      "33 2026-09-01     712.0  724.030   239.0\n",
      "34 2026-10-01     744.0  738.990   244.0\n",
      "35 2026-11-01     724.0  727.770   240.0\n"
     ]
    }
   ],
   "source": [
    "import pandas as pd\n",
    "\n",
    "# Carregando os dados\n",
    "df = pd.read_excel('previsao_produto_SCANIA.xlsx')\n",
    "df['Mês'] = pd.to_datetime(df['Mês'])\n",
    "\n",
    "# Inicialize um dicionário vazio para as demandas\n",
    "demandas = {}\n",
    "\n",
    "# Iterar sobre as linhas do DataFrame e atualizar o dicionário\n",
    "for index, row in df.iterrows():\n",
    "    mes_ano = row['Mês']\n",
    "    previsao = row['Scania']\n",
    "    \n",
    "    # Adicionar a previsão ao dicionário usando o mês/ano formatado como chave\n",
    "    demandas[mes_ano] = previsao\n",
    "\n",
    "# Definir disponibilidade inicial (pedidos, ordens, estoque, devoluções, etc)\n",
    "# Criar uma lista com os valores de estoque, ordens, e outros\n",
    "valores = [50, 30, 5]\n",
    "\n",
    "# Criar uma série pandas com os valores e os rótulos correspondentes\n",
    "serie = pd.Series(valores, index=[\"estoque\", \"ordens\", \"outros\"])\n",
    "\n",
    "# Calcular a disponibilidade inicial \n",
    "disponibilidade_inicial = serie[\"estoque\"] + serie[[\"ordens\", \"outros\"]].sum()\n",
    "\n",
    "# Definir cobertura alvo em meses\n",
    "cobertura_alvo = 0.33   # POLÍTICA DE ESTOQUE \n",
    "\n",
    "# Calcular o estoque alvo para cada período\n",
    "estoque_alvo = {mes: demanda * cobertura_alvo for mes, demanda in demandas.items()}\n",
    "\n",
    "# Inicializar o DataFrame do plano de produção\n",
    "plano_entradas = pd.DataFrame(columns=['Mês', 'Demanda', 'Estoque_Inicial', 'Entradas', 'Estoque_Final', 'Cobertura_Estoque_Dias'])\n",
    "\n",
    "# Inicializar o DataFrame do balanço de estoque\n",
    "balanco_estoque = pd.DataFrame(columns=['Mês', 'Entradas', 'Saídas', 'Saldo'])\n",
    "\n",
    "# Iniciar cálculos a partir de dezembro de 2023\n",
    "for i, (mes, demanda) in enumerate(demandas.items()):\n",
    "    # Considerar entradas fixas para dezembro de 2023 e janeiro de 2024\n",
    "    if i == 0:\n",
    "        entradas = 1255\n",
    "    elif i == 1:\n",
    "        entradas = 1000\n",
    "    elif i == 2:\n",
    "        entradas = 1345\n",
    "    else:\n",
    "        # Calcular a produção\n",
    "        entradas = demanda + estoque_alvo[mes] - disponibilidade_inicial\n",
    "\n",
    "        # Verificar se a produção é negativa\n",
    "        if entradas < 0:\n",
    "            entradas = 0\n",
    "\n",
    "    # Calcular o estoque final\n",
    "    estoque_final = disponibilidade_inicial + entradas - demanda\n",
    "\n",
    "    # Calcular a cobertura de estoque em dias\n",
    "    cobertura_dias = estoque_final / (demanda / 30)\n",
    "\n",
    "    # Arredondar os valores para zero casas decimais após a vírgula\n",
    "    entradas = round(entradas, 0)\n",
    "    estoque_final = round(estoque_final, 0)\n",
    "    cobertura_dias = round(cobertura_dias, 0)\n",
    "\n",
    "    # Adicionar os dados ao plano de produção\n",
    "    plano_entradas.loc[len(plano_entradas)] = [mes, demanda, disponibilidade_inicial, entradas, estoque_final, cobertura_dias]\n",
    "\n",
    "    # Adicionar os dados ao balanço de estoque\n",
    "    balanco_estoque.loc[len(balanco_estoque)] = [mes, entradas, demanda, estoque_final]\n",
    "\n",
    "    # Atualizar o estoque inicial para o próximo mês\n",
    "    disponibilidade_inicial = estoque_final\n",
    "\n",
    "# Exibir o DataFrame do plano de produção\n",
    "print(\"Plano de Produção:\")\n",
    "print(plano_entradas)\n",
    "\n",
    "# Exibir o DataFrame do balanço de estoque\n",
    "print(\"\\nBalanço de Estoque:\")\n",
    "print(balanco_estoque)"
   ]
  },
  {
   "cell_type": "code",
   "execution_count": 15,
   "id": "ba1b525b",
   "metadata": {},
   "outputs": [
    {
     "data": {
      "text/html": [
       "<div>\n",
       "<style scoped>\n",
       "    .dataframe tbody tr th:only-of-type {\n",
       "        vertical-align: middle;\n",
       "    }\n",
       "\n",
       "    .dataframe tbody tr th {\n",
       "        vertical-align: top;\n",
       "    }\n",
       "\n",
       "    .dataframe thead th {\n",
       "        text-align: right;\n",
       "    }\n",
       "</style>\n",
       "<table border=\"1\" class=\"dataframe\">\n",
       "  <thead>\n",
       "    <tr style=\"text-align: right;\">\n",
       "      <th></th>\n",
       "      <th>Mês</th>\n",
       "      <th>Demanda</th>\n",
       "      <th>Estoque_Inicial</th>\n",
       "      <th>Entradas</th>\n",
       "      <th>Estoque_Final</th>\n",
       "      <th>Cobertura_Estoque_Dias</th>\n",
       "    </tr>\n",
       "  </thead>\n",
       "  <tbody>\n",
       "    <tr>\n",
       "      <th>0</th>\n",
       "      <td>2023-12-01</td>\n",
       "      <td>793.475</td>\n",
       "      <td>85.0</td>\n",
       "      <td>1255.0</td>\n",
       "      <td>547.0</td>\n",
       "      <td>21.0</td>\n",
       "    </tr>\n",
       "    <tr>\n",
       "      <th>1</th>\n",
       "      <td>2024-01-01</td>\n",
       "      <td>657.645</td>\n",
       "      <td>547.0</td>\n",
       "      <td>1000.0</td>\n",
       "      <td>889.0</td>\n",
       "      <td>41.0</td>\n",
       "    </tr>\n",
       "    <tr>\n",
       "      <th>2</th>\n",
       "      <td>2024-02-01</td>\n",
       "      <td>600.780</td>\n",
       "      <td>889.0</td>\n",
       "      <td>1345.0</td>\n",
       "      <td>1633.0</td>\n",
       "      <td>82.0</td>\n",
       "    </tr>\n",
       "    <tr>\n",
       "      <th>3</th>\n",
       "      <td>2024-03-01</td>\n",
       "      <td>703.715</td>\n",
       "      <td>1633.0</td>\n",
       "      <td>0.0</td>\n",
       "      <td>929.0</td>\n",
       "      <td>40.0</td>\n",
       "    </tr>\n",
       "    <tr>\n",
       "      <th>4</th>\n",
       "      <td>2024-04-01</td>\n",
       "      <td>644.640</td>\n",
       "      <td>929.0</td>\n",
       "      <td>0.0</td>\n",
       "      <td>284.0</td>\n",
       "      <td>13.0</td>\n",
       "    </tr>\n",
       "    <tr>\n",
       "      <th>5</th>\n",
       "      <td>2024-05-01</td>\n",
       "      <td>686.970</td>\n",
       "      <td>284.0</td>\n",
       "      <td>630.0</td>\n",
       "      <td>227.0</td>\n",
       "      <td>10.0</td>\n",
       "    </tr>\n",
       "    <tr>\n",
       "      <th>6</th>\n",
       "      <td>2024-06-01</td>\n",
       "      <td>707.965</td>\n",
       "      <td>227.0</td>\n",
       "      <td>715.0</td>\n",
       "      <td>234.0</td>\n",
       "      <td>10.0</td>\n",
       "    </tr>\n",
       "    <tr>\n",
       "      <th>7</th>\n",
       "      <td>2024-07-01</td>\n",
       "      <td>747.235</td>\n",
       "      <td>234.0</td>\n",
       "      <td>760.0</td>\n",
       "      <td>247.0</td>\n",
       "      <td>10.0</td>\n",
       "    </tr>\n",
       "    <tr>\n",
       "      <th>8</th>\n",
       "      <td>2024-08-01</td>\n",
       "      <td>769.165</td>\n",
       "      <td>247.0</td>\n",
       "      <td>776.0</td>\n",
       "      <td>254.0</td>\n",
       "      <td>10.0</td>\n",
       "    </tr>\n",
       "    <tr>\n",
       "      <th>9</th>\n",
       "      <td>2024-09-01</td>\n",
       "      <td>727.515</td>\n",
       "      <td>254.0</td>\n",
       "      <td>714.0</td>\n",
       "      <td>240.0</td>\n",
       "      <td>10.0</td>\n",
       "    </tr>\n",
       "    <tr>\n",
       "      <th>10</th>\n",
       "      <td>2024-10-01</td>\n",
       "      <td>744.005</td>\n",
       "      <td>240.0</td>\n",
       "      <td>750.0</td>\n",
       "      <td>246.0</td>\n",
       "      <td>10.0</td>\n",
       "    </tr>\n",
       "    <tr>\n",
       "      <th>11</th>\n",
       "      <td>2024-11-01</td>\n",
       "      <td>731.595</td>\n",
       "      <td>246.0</td>\n",
       "      <td>727.0</td>\n",
       "      <td>241.0</td>\n",
       "      <td>10.0</td>\n",
       "    </tr>\n",
       "    <tr>\n",
       "      <th>12</th>\n",
       "      <td>2024-12-01</td>\n",
       "      <td>789.820</td>\n",
       "      <td>241.0</td>\n",
       "      <td>809.0</td>\n",
       "      <td>261.0</td>\n",
       "      <td>10.0</td>\n",
       "    </tr>\n",
       "    <tr>\n",
       "      <th>13</th>\n",
       "      <td>2025-01-01</td>\n",
       "      <td>659.175</td>\n",
       "      <td>261.0</td>\n",
       "      <td>616.0</td>\n",
       "      <td>218.0</td>\n",
       "      <td>10.0</td>\n",
       "    </tr>\n",
       "    <tr>\n",
       "      <th>14</th>\n",
       "      <td>2025-02-01</td>\n",
       "      <td>605.030</td>\n",
       "      <td>218.0</td>\n",
       "      <td>587.0</td>\n",
       "      <td>200.0</td>\n",
       "      <td>10.0</td>\n",
       "    </tr>\n",
       "    <tr>\n",
       "      <th>15</th>\n",
       "      <td>2025-03-01</td>\n",
       "      <td>703.205</td>\n",
       "      <td>200.0</td>\n",
       "      <td>735.0</td>\n",
       "      <td>232.0</td>\n",
       "      <td>10.0</td>\n",
       "    </tr>\n",
       "    <tr>\n",
       "      <th>16</th>\n",
       "      <td>2025-04-01</td>\n",
       "      <td>646.850</td>\n",
       "      <td>232.0</td>\n",
       "      <td>628.0</td>\n",
       "      <td>213.0</td>\n",
       "      <td>10.0</td>\n",
       "    </tr>\n",
       "    <tr>\n",
       "      <th>17</th>\n",
       "      <td>2025-05-01</td>\n",
       "      <td>687.225</td>\n",
       "      <td>213.0</td>\n",
       "      <td>701.0</td>\n",
       "      <td>227.0</td>\n",
       "      <td>10.0</td>\n",
       "    </tr>\n",
       "    <tr>\n",
       "      <th>18</th>\n",
       "      <td>2025-06-01</td>\n",
       "      <td>707.115</td>\n",
       "      <td>227.0</td>\n",
       "      <td>713.0</td>\n",
       "      <td>233.0</td>\n",
       "      <td>10.0</td>\n",
       "    </tr>\n",
       "    <tr>\n",
       "      <th>19</th>\n",
       "      <td>2025-07-01</td>\n",
       "      <td>744.515</td>\n",
       "      <td>233.0</td>\n",
       "      <td>757.0</td>\n",
       "      <td>246.0</td>\n",
       "      <td>10.0</td>\n",
       "    </tr>\n",
       "    <tr>\n",
       "      <th>20</th>\n",
       "      <td>2025-08-01</td>\n",
       "      <td>765.340</td>\n",
       "      <td>246.0</td>\n",
       "      <td>772.0</td>\n",
       "      <td>253.0</td>\n",
       "      <td>10.0</td>\n",
       "    </tr>\n",
       "    <tr>\n",
       "      <th>21</th>\n",
       "      <td>2025-09-01</td>\n",
       "      <td>725.730</td>\n",
       "      <td>253.0</td>\n",
       "      <td>712.0</td>\n",
       "      <td>239.0</td>\n",
       "      <td>10.0</td>\n",
       "    </tr>\n",
       "    <tr>\n",
       "      <th>22</th>\n",
       "      <td>2025-10-01</td>\n",
       "      <td>741.455</td>\n",
       "      <td>239.0</td>\n",
       "      <td>747.0</td>\n",
       "      <td>245.0</td>\n",
       "      <td>10.0</td>\n",
       "    </tr>\n",
       "    <tr>\n",
       "      <th>23</th>\n",
       "      <td>2025-11-01</td>\n",
       "      <td>729.640</td>\n",
       "      <td>245.0</td>\n",
       "      <td>725.0</td>\n",
       "      <td>241.0</td>\n",
       "      <td>10.0</td>\n",
       "    </tr>\n",
       "    <tr>\n",
       "      <th>24</th>\n",
       "      <td>2025-12-01</td>\n",
       "      <td>785.060</td>\n",
       "      <td>241.0</td>\n",
       "      <td>803.0</td>\n",
       "      <td>259.0</td>\n",
       "      <td>10.0</td>\n",
       "    </tr>\n",
       "    <tr>\n",
       "      <th>25</th>\n",
       "      <td>2026-01-01</td>\n",
       "      <td>660.705</td>\n",
       "      <td>259.0</td>\n",
       "      <td>620.0</td>\n",
       "      <td>218.0</td>\n",
       "      <td>10.0</td>\n",
       "    </tr>\n",
       "    <tr>\n",
       "      <th>26</th>\n",
       "      <td>2026-02-01</td>\n",
       "      <td>609.195</td>\n",
       "      <td>218.0</td>\n",
       "      <td>592.0</td>\n",
       "      <td>201.0</td>\n",
       "      <td>10.0</td>\n",
       "    </tr>\n",
       "    <tr>\n",
       "      <th>27</th>\n",
       "      <td>2026-03-01</td>\n",
       "      <td>702.610</td>\n",
       "      <td>201.0</td>\n",
       "      <td>733.0</td>\n",
       "      <td>232.0</td>\n",
       "      <td>10.0</td>\n",
       "    </tr>\n",
       "    <tr>\n",
       "      <th>28</th>\n",
       "      <td>2026-04-01</td>\n",
       "      <td>648.975</td>\n",
       "      <td>232.0</td>\n",
       "      <td>631.0</td>\n",
       "      <td>214.0</td>\n",
       "      <td>10.0</td>\n",
       "    </tr>\n",
       "    <tr>\n",
       "      <th>29</th>\n",
       "      <td>2026-05-01</td>\n",
       "      <td>687.395</td>\n",
       "      <td>214.0</td>\n",
       "      <td>700.0</td>\n",
       "      <td>227.0</td>\n",
       "      <td>10.0</td>\n",
       "    </tr>\n",
       "    <tr>\n",
       "      <th>30</th>\n",
       "      <td>2026-06-01</td>\n",
       "      <td>706.350</td>\n",
       "      <td>227.0</td>\n",
       "      <td>712.0</td>\n",
       "      <td>233.0</td>\n",
       "      <td>10.0</td>\n",
       "    </tr>\n",
       "    <tr>\n",
       "      <th>31</th>\n",
       "      <td>2026-07-01</td>\n",
       "      <td>741.965</td>\n",
       "      <td>233.0</td>\n",
       "      <td>754.0</td>\n",
       "      <td>245.0</td>\n",
       "      <td>10.0</td>\n",
       "    </tr>\n",
       "    <tr>\n",
       "      <th>32</th>\n",
       "      <td>2026-08-01</td>\n",
       "      <td>761.770</td>\n",
       "      <td>245.0</td>\n",
       "      <td>768.0</td>\n",
       "      <td>251.0</td>\n",
       "      <td>10.0</td>\n",
       "    </tr>\n",
       "    <tr>\n",
       "      <th>33</th>\n",
       "      <td>2026-09-01</td>\n",
       "      <td>724.030</td>\n",
       "      <td>251.0</td>\n",
       "      <td>712.0</td>\n",
       "      <td>239.0</td>\n",
       "      <td>10.0</td>\n",
       "    </tr>\n",
       "    <tr>\n",
       "      <th>34</th>\n",
       "      <td>2026-10-01</td>\n",
       "      <td>738.990</td>\n",
       "      <td>239.0</td>\n",
       "      <td>744.0</td>\n",
       "      <td>244.0</td>\n",
       "      <td>10.0</td>\n",
       "    </tr>\n",
       "    <tr>\n",
       "      <th>35</th>\n",
       "      <td>2026-11-01</td>\n",
       "      <td>727.770</td>\n",
       "      <td>244.0</td>\n",
       "      <td>724.0</td>\n",
       "      <td>240.0</td>\n",
       "      <td>10.0</td>\n",
       "    </tr>\n",
       "  </tbody>\n",
       "</table>\n",
       "</div>"
      ],
      "text/plain": [
       "          Mês  Demanda  Estoque_Inicial  Entradas  Estoque_Final  \\\n",
       "0  2023-12-01  793.475             85.0    1255.0          547.0   \n",
       "1  2024-01-01  657.645            547.0    1000.0          889.0   \n",
       "2  2024-02-01  600.780            889.0    1345.0         1633.0   \n",
       "3  2024-03-01  703.715           1633.0       0.0          929.0   \n",
       "4  2024-04-01  644.640            929.0       0.0          284.0   \n",
       "5  2024-05-01  686.970            284.0     630.0          227.0   \n",
       "6  2024-06-01  707.965            227.0     715.0          234.0   \n",
       "7  2024-07-01  747.235            234.0     760.0          247.0   \n",
       "8  2024-08-01  769.165            247.0     776.0          254.0   \n",
       "9  2024-09-01  727.515            254.0     714.0          240.0   \n",
       "10 2024-10-01  744.005            240.0     750.0          246.0   \n",
       "11 2024-11-01  731.595            246.0     727.0          241.0   \n",
       "12 2024-12-01  789.820            241.0     809.0          261.0   \n",
       "13 2025-01-01  659.175            261.0     616.0          218.0   \n",
       "14 2025-02-01  605.030            218.0     587.0          200.0   \n",
       "15 2025-03-01  703.205            200.0     735.0          232.0   \n",
       "16 2025-04-01  646.850            232.0     628.0          213.0   \n",
       "17 2025-05-01  687.225            213.0     701.0          227.0   \n",
       "18 2025-06-01  707.115            227.0     713.0          233.0   \n",
       "19 2025-07-01  744.515            233.0     757.0          246.0   \n",
       "20 2025-08-01  765.340            246.0     772.0          253.0   \n",
       "21 2025-09-01  725.730            253.0     712.0          239.0   \n",
       "22 2025-10-01  741.455            239.0     747.0          245.0   \n",
       "23 2025-11-01  729.640            245.0     725.0          241.0   \n",
       "24 2025-12-01  785.060            241.0     803.0          259.0   \n",
       "25 2026-01-01  660.705            259.0     620.0          218.0   \n",
       "26 2026-02-01  609.195            218.0     592.0          201.0   \n",
       "27 2026-03-01  702.610            201.0     733.0          232.0   \n",
       "28 2026-04-01  648.975            232.0     631.0          214.0   \n",
       "29 2026-05-01  687.395            214.0     700.0          227.0   \n",
       "30 2026-06-01  706.350            227.0     712.0          233.0   \n",
       "31 2026-07-01  741.965            233.0     754.0          245.0   \n",
       "32 2026-08-01  761.770            245.0     768.0          251.0   \n",
       "33 2026-09-01  724.030            251.0     712.0          239.0   \n",
       "34 2026-10-01  738.990            239.0     744.0          244.0   \n",
       "35 2026-11-01  727.770            244.0     724.0          240.0   \n",
       "\n",
       "    Cobertura_Estoque_Dias  \n",
       "0                     21.0  \n",
       "1                     41.0  \n",
       "2                     82.0  \n",
       "3                     40.0  \n",
       "4                     13.0  \n",
       "5                     10.0  \n",
       "6                     10.0  \n",
       "7                     10.0  \n",
       "8                     10.0  \n",
       "9                     10.0  \n",
       "10                    10.0  \n",
       "11                    10.0  \n",
       "12                    10.0  \n",
       "13                    10.0  \n",
       "14                    10.0  \n",
       "15                    10.0  \n",
       "16                    10.0  \n",
       "17                    10.0  \n",
       "18                    10.0  \n",
       "19                    10.0  \n",
       "20                    10.0  \n",
       "21                    10.0  \n",
       "22                    10.0  \n",
       "23                    10.0  \n",
       "24                    10.0  \n",
       "25                    10.0  \n",
       "26                    10.0  \n",
       "27                    10.0  \n",
       "28                    10.0  \n",
       "29                    10.0  \n",
       "30                    10.0  \n",
       "31                    10.0  \n",
       "32                    10.0  \n",
       "33                    10.0  \n",
       "34                    10.0  \n",
       "35                    10.0  "
      ]
     },
     "execution_count": 15,
     "metadata": {},
     "output_type": "execute_result"
    }
   ],
   "source": [
    "plano_entradas"
   ]
  },
  {
   "cell_type": "code",
   "execution_count": 16,
   "id": "765cef45",
   "metadata": {},
   "outputs": [
    {
     "data": {
      "application/vnd.plotly.v1+json": {
       "config": {
        "plotlyServerURL": "https://plot.ly"
       },
       "data": [
        {
         "cells": {
          "values": [
           [
            "2023-12-01T00:00:00",
            "2024-01-01T00:00:00",
            "2024-02-01T00:00:00",
            "2024-03-01T00:00:00",
            "2024-04-01T00:00:00",
            "2024-05-01T00:00:00",
            "2024-06-01T00:00:00",
            "2024-07-01T00:00:00",
            "2024-08-01T00:00:00",
            "2024-09-01T00:00:00",
            "2024-10-01T00:00:00",
            "2024-11-01T00:00:00",
            "2024-12-01T00:00:00",
            "2025-01-01T00:00:00",
            "2025-02-01T00:00:00",
            "2025-03-01T00:00:00",
            "2025-04-01T00:00:00",
            "2025-05-01T00:00:00",
            "2025-06-01T00:00:00",
            "2025-07-01T00:00:00",
            "2025-08-01T00:00:00",
            "2025-09-01T00:00:00",
            "2025-10-01T00:00:00",
            "2025-11-01T00:00:00",
            "2025-12-01T00:00:00",
            "2026-01-01T00:00:00",
            "2026-02-01T00:00:00",
            "2026-03-01T00:00:00",
            "2026-04-01T00:00:00",
            "2026-05-01T00:00:00",
            "2026-06-01T00:00:00",
            "2026-07-01T00:00:00",
            "2026-08-01T00:00:00",
            "2026-09-01T00:00:00",
            "2026-10-01T00:00:00",
            "2026-11-01T00:00:00"
           ],
           [
            793,
            658,
            601,
            704,
            645,
            687,
            708,
            747,
            769,
            728,
            744,
            732,
            790,
            659,
            605,
            703,
            647,
            687,
            707,
            745,
            765,
            726,
            741,
            730,
            785,
            661,
            609,
            703,
            649,
            687,
            706,
            742,
            762,
            724,
            739,
            728
           ],
           [
            1255,
            1000,
            1345,
            0,
            0,
            630,
            715,
            760,
            776,
            714,
            750,
            727,
            809,
            616,
            587,
            735,
            628,
            701,
            713,
            757,
            772,
            712,
            747,
            725,
            803,
            620,
            592,
            733,
            631,
            700,
            712,
            754,
            768,
            712,
            744,
            724
           ],
           [
            85,
            547,
            889,
            1633,
            929,
            284,
            227,
            234,
            247,
            254,
            240,
            246,
            241,
            261,
            218,
            200,
            232,
            213,
            227,
            233,
            246,
            253,
            239,
            245,
            241,
            259,
            218,
            201,
            232,
            214,
            227,
            233,
            245,
            251,
            239,
            244
           ],
           [
            547,
            889,
            1633,
            929,
            284,
            227,
            234,
            247,
            254,
            240,
            246,
            241,
            261,
            218,
            200,
            232,
            213,
            227,
            233,
            246,
            253,
            239,
            245,
            241,
            259,
            218,
            201,
            232,
            214,
            227,
            233,
            245,
            251,
            239,
            244,
            240
           ],
           [
            21,
            41,
            82,
            40,
            13,
            10,
            10,
            10,
            10,
            10,
            10,
            10,
            10,
            10,
            10,
            10,
            10,
            10,
            10,
            10,
            10,
            10,
            10,
            10,
            10,
            10,
            10,
            10,
            10,
            10,
            10,
            10,
            10,
            10,
            10,
            10
           ]
          ]
         },
         "header": {
          "values": [
           "Mês",
           "Demanda",
           "Entradas",
           "Estoque_Inicial",
           "Estoque_Final",
           "Cobertura_Estoque_Dias"
          ]
         },
         "type": "table"
        }
       ],
       "layout": {
        "margin": {
         "b": 20,
         "l": 20,
         "r": 20,
         "t": 40
        },
        "template": {
         "data": {
          "bar": [
           {
            "error_x": {
             "color": "#2a3f5f"
            },
            "error_y": {
             "color": "#2a3f5f"
            },
            "marker": {
             "line": {
              "color": "#E5ECF6",
              "width": 0.5
             },
             "pattern": {
              "fillmode": "overlay",
              "size": 10,
              "solidity": 0.2
             }
            },
            "type": "bar"
           }
          ],
          "barpolar": [
           {
            "marker": {
             "line": {
              "color": "#E5ECF6",
              "width": 0.5
             },
             "pattern": {
              "fillmode": "overlay",
              "size": 10,
              "solidity": 0.2
             }
            },
            "type": "barpolar"
           }
          ],
          "carpet": [
           {
            "aaxis": {
             "endlinecolor": "#2a3f5f",
             "gridcolor": "white",
             "linecolor": "white",
             "minorgridcolor": "white",
             "startlinecolor": "#2a3f5f"
            },
            "baxis": {
             "endlinecolor": "#2a3f5f",
             "gridcolor": "white",
             "linecolor": "white",
             "minorgridcolor": "white",
             "startlinecolor": "#2a3f5f"
            },
            "type": "carpet"
           }
          ],
          "choropleth": [
           {
            "colorbar": {
             "outlinewidth": 0,
             "ticks": ""
            },
            "type": "choropleth"
           }
          ],
          "contour": [
           {
            "colorbar": {
             "outlinewidth": 0,
             "ticks": ""
            },
            "colorscale": [
             [
              0,
              "#0d0887"
             ],
             [
              0.1111111111111111,
              "#46039f"
             ],
             [
              0.2222222222222222,
              "#7201a8"
             ],
             [
              0.3333333333333333,
              "#9c179e"
             ],
             [
              0.4444444444444444,
              "#bd3786"
             ],
             [
              0.5555555555555556,
              "#d8576b"
             ],
             [
              0.6666666666666666,
              "#ed7953"
             ],
             [
              0.7777777777777778,
              "#fb9f3a"
             ],
             [
              0.8888888888888888,
              "#fdca26"
             ],
             [
              1,
              "#f0f921"
             ]
            ],
            "type": "contour"
           }
          ],
          "contourcarpet": [
           {
            "colorbar": {
             "outlinewidth": 0,
             "ticks": ""
            },
            "type": "contourcarpet"
           }
          ],
          "heatmap": [
           {
            "colorbar": {
             "outlinewidth": 0,
             "ticks": ""
            },
            "colorscale": [
             [
              0,
              "#0d0887"
             ],
             [
              0.1111111111111111,
              "#46039f"
             ],
             [
              0.2222222222222222,
              "#7201a8"
             ],
             [
              0.3333333333333333,
              "#9c179e"
             ],
             [
              0.4444444444444444,
              "#bd3786"
             ],
             [
              0.5555555555555556,
              "#d8576b"
             ],
             [
              0.6666666666666666,
              "#ed7953"
             ],
             [
              0.7777777777777778,
              "#fb9f3a"
             ],
             [
              0.8888888888888888,
              "#fdca26"
             ],
             [
              1,
              "#f0f921"
             ]
            ],
            "type": "heatmap"
           }
          ],
          "heatmapgl": [
           {
            "colorbar": {
             "outlinewidth": 0,
             "ticks": ""
            },
            "colorscale": [
             [
              0,
              "#0d0887"
             ],
             [
              0.1111111111111111,
              "#46039f"
             ],
             [
              0.2222222222222222,
              "#7201a8"
             ],
             [
              0.3333333333333333,
              "#9c179e"
             ],
             [
              0.4444444444444444,
              "#bd3786"
             ],
             [
              0.5555555555555556,
              "#d8576b"
             ],
             [
              0.6666666666666666,
              "#ed7953"
             ],
             [
              0.7777777777777778,
              "#fb9f3a"
             ],
             [
              0.8888888888888888,
              "#fdca26"
             ],
             [
              1,
              "#f0f921"
             ]
            ],
            "type": "heatmapgl"
           }
          ],
          "histogram": [
           {
            "marker": {
             "pattern": {
              "fillmode": "overlay",
              "size": 10,
              "solidity": 0.2
             }
            },
            "type": "histogram"
           }
          ],
          "histogram2d": [
           {
            "colorbar": {
             "outlinewidth": 0,
             "ticks": ""
            },
            "colorscale": [
             [
              0,
              "#0d0887"
             ],
             [
              0.1111111111111111,
              "#46039f"
             ],
             [
              0.2222222222222222,
              "#7201a8"
             ],
             [
              0.3333333333333333,
              "#9c179e"
             ],
             [
              0.4444444444444444,
              "#bd3786"
             ],
             [
              0.5555555555555556,
              "#d8576b"
             ],
             [
              0.6666666666666666,
              "#ed7953"
             ],
             [
              0.7777777777777778,
              "#fb9f3a"
             ],
             [
              0.8888888888888888,
              "#fdca26"
             ],
             [
              1,
              "#f0f921"
             ]
            ],
            "type": "histogram2d"
           }
          ],
          "histogram2dcontour": [
           {
            "colorbar": {
             "outlinewidth": 0,
             "ticks": ""
            },
            "colorscale": [
             [
              0,
              "#0d0887"
             ],
             [
              0.1111111111111111,
              "#46039f"
             ],
             [
              0.2222222222222222,
              "#7201a8"
             ],
             [
              0.3333333333333333,
              "#9c179e"
             ],
             [
              0.4444444444444444,
              "#bd3786"
             ],
             [
              0.5555555555555556,
              "#d8576b"
             ],
             [
              0.6666666666666666,
              "#ed7953"
             ],
             [
              0.7777777777777778,
              "#fb9f3a"
             ],
             [
              0.8888888888888888,
              "#fdca26"
             ],
             [
              1,
              "#f0f921"
             ]
            ],
            "type": "histogram2dcontour"
           }
          ],
          "mesh3d": [
           {
            "colorbar": {
             "outlinewidth": 0,
             "ticks": ""
            },
            "type": "mesh3d"
           }
          ],
          "parcoords": [
           {
            "line": {
             "colorbar": {
              "outlinewidth": 0,
              "ticks": ""
             }
            },
            "type": "parcoords"
           }
          ],
          "pie": [
           {
            "automargin": true,
            "type": "pie"
           }
          ],
          "scatter": [
           {
            "fillpattern": {
             "fillmode": "overlay",
             "size": 10,
             "solidity": 0.2
            },
            "type": "scatter"
           }
          ],
          "scatter3d": [
           {
            "line": {
             "colorbar": {
              "outlinewidth": 0,
              "ticks": ""
             }
            },
            "marker": {
             "colorbar": {
              "outlinewidth": 0,
              "ticks": ""
             }
            },
            "type": "scatter3d"
           }
          ],
          "scattercarpet": [
           {
            "marker": {
             "colorbar": {
              "outlinewidth": 0,
              "ticks": ""
             }
            },
            "type": "scattercarpet"
           }
          ],
          "scattergeo": [
           {
            "marker": {
             "colorbar": {
              "outlinewidth": 0,
              "ticks": ""
             }
            },
            "type": "scattergeo"
           }
          ],
          "scattergl": [
           {
            "marker": {
             "colorbar": {
              "outlinewidth": 0,
              "ticks": ""
             }
            },
            "type": "scattergl"
           }
          ],
          "scattermapbox": [
           {
            "marker": {
             "colorbar": {
              "outlinewidth": 0,
              "ticks": ""
             }
            },
            "type": "scattermapbox"
           }
          ],
          "scatterpolar": [
           {
            "marker": {
             "colorbar": {
              "outlinewidth": 0,
              "ticks": ""
             }
            },
            "type": "scatterpolar"
           }
          ],
          "scatterpolargl": [
           {
            "marker": {
             "colorbar": {
              "outlinewidth": 0,
              "ticks": ""
             }
            },
            "type": "scatterpolargl"
           }
          ],
          "scatterternary": [
           {
            "marker": {
             "colorbar": {
              "outlinewidth": 0,
              "ticks": ""
             }
            },
            "type": "scatterternary"
           }
          ],
          "surface": [
           {
            "colorbar": {
             "outlinewidth": 0,
             "ticks": ""
            },
            "colorscale": [
             [
              0,
              "#0d0887"
             ],
             [
              0.1111111111111111,
              "#46039f"
             ],
             [
              0.2222222222222222,
              "#7201a8"
             ],
             [
              0.3333333333333333,
              "#9c179e"
             ],
             [
              0.4444444444444444,
              "#bd3786"
             ],
             [
              0.5555555555555556,
              "#d8576b"
             ],
             [
              0.6666666666666666,
              "#ed7953"
             ],
             [
              0.7777777777777778,
              "#fb9f3a"
             ],
             [
              0.8888888888888888,
              "#fdca26"
             ],
             [
              1,
              "#f0f921"
             ]
            ],
            "type": "surface"
           }
          ],
          "table": [
           {
            "cells": {
             "fill": {
              "color": "#EBF0F8"
             },
             "line": {
              "color": "white"
             }
            },
            "header": {
             "fill": {
              "color": "#C8D4E3"
             },
             "line": {
              "color": "white"
             }
            },
            "type": "table"
           }
          ]
         },
         "layout": {
          "annotationdefaults": {
           "arrowcolor": "#2a3f5f",
           "arrowhead": 0,
           "arrowwidth": 1
          },
          "autotypenumbers": "strict",
          "coloraxis": {
           "colorbar": {
            "outlinewidth": 0,
            "ticks": ""
           }
          },
          "colorscale": {
           "diverging": [
            [
             0,
             "#8e0152"
            ],
            [
             0.1,
             "#c51b7d"
            ],
            [
             0.2,
             "#de77ae"
            ],
            [
             0.3,
             "#f1b6da"
            ],
            [
             0.4,
             "#fde0ef"
            ],
            [
             0.5,
             "#f7f7f7"
            ],
            [
             0.6,
             "#e6f5d0"
            ],
            [
             0.7,
             "#b8e186"
            ],
            [
             0.8,
             "#7fbc41"
            ],
            [
             0.9,
             "#4d9221"
            ],
            [
             1,
             "#276419"
            ]
           ],
           "sequential": [
            [
             0,
             "#0d0887"
            ],
            [
             0.1111111111111111,
             "#46039f"
            ],
            [
             0.2222222222222222,
             "#7201a8"
            ],
            [
             0.3333333333333333,
             "#9c179e"
            ],
            [
             0.4444444444444444,
             "#bd3786"
            ],
            [
             0.5555555555555556,
             "#d8576b"
            ],
            [
             0.6666666666666666,
             "#ed7953"
            ],
            [
             0.7777777777777778,
             "#fb9f3a"
            ],
            [
             0.8888888888888888,
             "#fdca26"
            ],
            [
             1,
             "#f0f921"
            ]
           ],
           "sequentialminus": [
            [
             0,
             "#0d0887"
            ],
            [
             0.1111111111111111,
             "#46039f"
            ],
            [
             0.2222222222222222,
             "#7201a8"
            ],
            [
             0.3333333333333333,
             "#9c179e"
            ],
            [
             0.4444444444444444,
             "#bd3786"
            ],
            [
             0.5555555555555556,
             "#d8576b"
            ],
            [
             0.6666666666666666,
             "#ed7953"
            ],
            [
             0.7777777777777778,
             "#fb9f3a"
            ],
            [
             0.8888888888888888,
             "#fdca26"
            ],
            [
             1,
             "#f0f921"
            ]
           ]
          },
          "colorway": [
           "#636efa",
           "#EF553B",
           "#00cc96",
           "#ab63fa",
           "#FFA15A",
           "#19d3f3",
           "#FF6692",
           "#B6E880",
           "#FF97FF",
           "#FECB52"
          ],
          "font": {
           "color": "#2a3f5f"
          },
          "geo": {
           "bgcolor": "white",
           "lakecolor": "white",
           "landcolor": "#E5ECF6",
           "showlakes": true,
           "showland": true,
           "subunitcolor": "white"
          },
          "hoverlabel": {
           "align": "left"
          },
          "hovermode": "closest",
          "mapbox": {
           "style": "light"
          },
          "paper_bgcolor": "white",
          "plot_bgcolor": "#E5ECF6",
          "polar": {
           "angularaxis": {
            "gridcolor": "white",
            "linecolor": "white",
            "ticks": ""
           },
           "bgcolor": "#E5ECF6",
           "radialaxis": {
            "gridcolor": "white",
            "linecolor": "white",
            "ticks": ""
           }
          },
          "scene": {
           "xaxis": {
            "backgroundcolor": "#E5ECF6",
            "gridcolor": "white",
            "gridwidth": 2,
            "linecolor": "white",
            "showbackground": true,
            "ticks": "",
            "zerolinecolor": "white"
           },
           "yaxis": {
            "backgroundcolor": "#E5ECF6",
            "gridcolor": "white",
            "gridwidth": 2,
            "linecolor": "white",
            "showbackground": true,
            "ticks": "",
            "zerolinecolor": "white"
           },
           "zaxis": {
            "backgroundcolor": "#E5ECF6",
            "gridcolor": "white",
            "gridwidth": 2,
            "linecolor": "white",
            "showbackground": true,
            "ticks": "",
            "zerolinecolor": "white"
           }
          },
          "shapedefaults": {
           "line": {
            "color": "#2a3f5f"
           }
          },
          "ternary": {
           "aaxis": {
            "gridcolor": "white",
            "linecolor": "white",
            "ticks": ""
           },
           "baxis": {
            "gridcolor": "white",
            "linecolor": "white",
            "ticks": ""
           },
           "bgcolor": "#E5ECF6",
           "caxis": {
            "gridcolor": "white",
            "linecolor": "white",
            "ticks": ""
           }
          },
          "title": {
           "x": 0.05
          },
          "xaxis": {
           "automargin": true,
           "gridcolor": "white",
           "linecolor": "white",
           "ticks": "",
           "title": {
            "standoff": 15
           },
           "zerolinecolor": "white",
           "zerolinewidth": 2
          },
          "yaxis": {
           "automargin": true,
           "gridcolor": "white",
           "linecolor": "white",
           "ticks": "",
           "title": {
            "standoff": 15
           },
           "zerolinecolor": "white",
           "zerolinewidth": 2
          }
         }
        },
        "title": {
         "text": "Plano de Entradas & Cobertura de Estoque"
        },
        "xaxis": {
         "title": {
          "text": "Mês"
         }
        },
        "xaxis2": {
         "title": {
          "text": "Demanda"
         }
        },
        "xaxis3": {
         "title": {
          "text": "Entradas"
         }
        },
        "xaxis4": {
         "title": {
          "text": "Estoque_Inicial"
         }
        },
        "xaxis5": {
         "title": {
          "text": "Estoque_Final"
         }
        },
        "xaxis6": {
         "title": {
          "text": "Cobertura_Estoque_Dias"
         }
        }
       }
      },
      "text/html": [
       "<div>                            <div id=\"2507a4bf-1475-4af8-b260-92bc68b17ce5\" class=\"plotly-graph-div\" style=\"height:525px; width:100%;\"></div>            <script type=\"text/javascript\">                require([\"plotly\"], function(Plotly) {                    window.PLOTLYENV=window.PLOTLYENV || {};                                    if (document.getElementById(\"2507a4bf-1475-4af8-b260-92bc68b17ce5\")) {                    Plotly.newPlot(                        \"2507a4bf-1475-4af8-b260-92bc68b17ce5\",                        [{\"cells\":{\"values\":[[\"2023-12-01T00:00:00\",\"2024-01-01T00:00:00\",\"2024-02-01T00:00:00\",\"2024-03-01T00:00:00\",\"2024-04-01T00:00:00\",\"2024-05-01T00:00:00\",\"2024-06-01T00:00:00\",\"2024-07-01T00:00:00\",\"2024-08-01T00:00:00\",\"2024-09-01T00:00:00\",\"2024-10-01T00:00:00\",\"2024-11-01T00:00:00\",\"2024-12-01T00:00:00\",\"2025-01-01T00:00:00\",\"2025-02-01T00:00:00\",\"2025-03-01T00:00:00\",\"2025-04-01T00:00:00\",\"2025-05-01T00:00:00\",\"2025-06-01T00:00:00\",\"2025-07-01T00:00:00\",\"2025-08-01T00:00:00\",\"2025-09-01T00:00:00\",\"2025-10-01T00:00:00\",\"2025-11-01T00:00:00\",\"2025-12-01T00:00:00\",\"2026-01-01T00:00:00\",\"2026-02-01T00:00:00\",\"2026-03-01T00:00:00\",\"2026-04-01T00:00:00\",\"2026-05-01T00:00:00\",\"2026-06-01T00:00:00\",\"2026-07-01T00:00:00\",\"2026-08-01T00:00:00\",\"2026-09-01T00:00:00\",\"2026-10-01T00:00:00\",\"2026-11-01T00:00:00\"],[793.0,658.0,601.0,704.0,645.0,687.0,708.0,747.0,769.0,728.0,744.0,732.0,790.0,659.0,605.0,703.0,647.0,687.0,707.0,745.0,765.0,726.0,741.0,730.0,785.0,661.0,609.0,703.0,649.0,687.0,706.0,742.0,762.0,724.0,739.0,728.0],[1255.0,1000.0,1345.0,0.0,0.0,630.0,715.0,760.0,776.0,714.0,750.0,727.0,809.0,616.0,587.0,735.0,628.0,701.0,713.0,757.0,772.0,712.0,747.0,725.0,803.0,620.0,592.0,733.0,631.0,700.0,712.0,754.0,768.0,712.0,744.0,724.0],[85.0,547.0,889.0,1633.0,929.0,284.0,227.0,234.0,247.0,254.0,240.0,246.0,241.0,261.0,218.0,200.0,232.0,213.0,227.0,233.0,246.0,253.0,239.0,245.0,241.0,259.0,218.0,201.0,232.0,214.0,227.0,233.0,245.0,251.0,239.0,244.0],[547.0,889.0,1633.0,929.0,284.0,227.0,234.0,247.0,254.0,240.0,246.0,241.0,261.0,218.0,200.0,232.0,213.0,227.0,233.0,246.0,253.0,239.0,245.0,241.0,259.0,218.0,201.0,232.0,214.0,227.0,233.0,245.0,251.0,239.0,244.0,240.0],[21.0,41.0,82.0,40.0,13.0,10.0,10.0,10.0,10.0,10.0,10.0,10.0,10.0,10.0,10.0,10.0,10.0,10.0,10.0,10.0,10.0,10.0,10.0,10.0,10.0,10.0,10.0,10.0,10.0,10.0,10.0,10.0,10.0,10.0,10.0,10.0]]},\"header\":{\"values\":[\"M\\u00eas\",\"Demanda\",\"Entradas\",\"Estoque_Inicial\",\"Estoque_Final\",\"Cobertura_Estoque_Dias\"]},\"type\":\"table\"}],                        {\"template\":{\"data\":{\"histogram2dcontour\":[{\"type\":\"histogram2dcontour\",\"colorbar\":{\"outlinewidth\":0,\"ticks\":\"\"},\"colorscale\":[[0.0,\"#0d0887\"],[0.1111111111111111,\"#46039f\"],[0.2222222222222222,\"#7201a8\"],[0.3333333333333333,\"#9c179e\"],[0.4444444444444444,\"#bd3786\"],[0.5555555555555556,\"#d8576b\"],[0.6666666666666666,\"#ed7953\"],[0.7777777777777778,\"#fb9f3a\"],[0.8888888888888888,\"#fdca26\"],[1.0,\"#f0f921\"]]}],\"choropleth\":[{\"type\":\"choropleth\",\"colorbar\":{\"outlinewidth\":0,\"ticks\":\"\"}}],\"histogram2d\":[{\"type\":\"histogram2d\",\"colorbar\":{\"outlinewidth\":0,\"ticks\":\"\"},\"colorscale\":[[0.0,\"#0d0887\"],[0.1111111111111111,\"#46039f\"],[0.2222222222222222,\"#7201a8\"],[0.3333333333333333,\"#9c179e\"],[0.4444444444444444,\"#bd3786\"],[0.5555555555555556,\"#d8576b\"],[0.6666666666666666,\"#ed7953\"],[0.7777777777777778,\"#fb9f3a\"],[0.8888888888888888,\"#fdca26\"],[1.0,\"#f0f921\"]]}],\"heatmap\":[{\"type\":\"heatmap\",\"colorbar\":{\"outlinewidth\":0,\"ticks\":\"\"},\"colorscale\":[[0.0,\"#0d0887\"],[0.1111111111111111,\"#46039f\"],[0.2222222222222222,\"#7201a8\"],[0.3333333333333333,\"#9c179e\"],[0.4444444444444444,\"#bd3786\"],[0.5555555555555556,\"#d8576b\"],[0.6666666666666666,\"#ed7953\"],[0.7777777777777778,\"#fb9f3a\"],[0.8888888888888888,\"#fdca26\"],[1.0,\"#f0f921\"]]}],\"heatmapgl\":[{\"type\":\"heatmapgl\",\"colorbar\":{\"outlinewidth\":0,\"ticks\":\"\"},\"colorscale\":[[0.0,\"#0d0887\"],[0.1111111111111111,\"#46039f\"],[0.2222222222222222,\"#7201a8\"],[0.3333333333333333,\"#9c179e\"],[0.4444444444444444,\"#bd3786\"],[0.5555555555555556,\"#d8576b\"],[0.6666666666666666,\"#ed7953\"],[0.7777777777777778,\"#fb9f3a\"],[0.8888888888888888,\"#fdca26\"],[1.0,\"#f0f921\"]]}],\"contourcarpet\":[{\"type\":\"contourcarpet\",\"colorbar\":{\"outlinewidth\":0,\"ticks\":\"\"}}],\"contour\":[{\"type\":\"contour\",\"colorbar\":{\"outlinewidth\":0,\"ticks\":\"\"},\"colorscale\":[[0.0,\"#0d0887\"],[0.1111111111111111,\"#46039f\"],[0.2222222222222222,\"#7201a8\"],[0.3333333333333333,\"#9c179e\"],[0.4444444444444444,\"#bd3786\"],[0.5555555555555556,\"#d8576b\"],[0.6666666666666666,\"#ed7953\"],[0.7777777777777778,\"#fb9f3a\"],[0.8888888888888888,\"#fdca26\"],[1.0,\"#f0f921\"]]}],\"surface\":[{\"type\":\"surface\",\"colorbar\":{\"outlinewidth\":0,\"ticks\":\"\"},\"colorscale\":[[0.0,\"#0d0887\"],[0.1111111111111111,\"#46039f\"],[0.2222222222222222,\"#7201a8\"],[0.3333333333333333,\"#9c179e\"],[0.4444444444444444,\"#bd3786\"],[0.5555555555555556,\"#d8576b\"],[0.6666666666666666,\"#ed7953\"],[0.7777777777777778,\"#fb9f3a\"],[0.8888888888888888,\"#fdca26\"],[1.0,\"#f0f921\"]]}],\"mesh3d\":[{\"type\":\"mesh3d\",\"colorbar\":{\"outlinewidth\":0,\"ticks\":\"\"}}],\"scatter\":[{\"fillpattern\":{\"fillmode\":\"overlay\",\"size\":10,\"solidity\":0.2},\"type\":\"scatter\"}],\"parcoords\":[{\"type\":\"parcoords\",\"line\":{\"colorbar\":{\"outlinewidth\":0,\"ticks\":\"\"}}}],\"scatterpolargl\":[{\"type\":\"scatterpolargl\",\"marker\":{\"colorbar\":{\"outlinewidth\":0,\"ticks\":\"\"}}}],\"bar\":[{\"error_x\":{\"color\":\"#2a3f5f\"},\"error_y\":{\"color\":\"#2a3f5f\"},\"marker\":{\"line\":{\"color\":\"#E5ECF6\",\"width\":0.5},\"pattern\":{\"fillmode\":\"overlay\",\"size\":10,\"solidity\":0.2}},\"type\":\"bar\"}],\"scattergeo\":[{\"type\":\"scattergeo\",\"marker\":{\"colorbar\":{\"outlinewidth\":0,\"ticks\":\"\"}}}],\"scatterpolar\":[{\"type\":\"scatterpolar\",\"marker\":{\"colorbar\":{\"outlinewidth\":0,\"ticks\":\"\"}}}],\"histogram\":[{\"marker\":{\"pattern\":{\"fillmode\":\"overlay\",\"size\":10,\"solidity\":0.2}},\"type\":\"histogram\"}],\"scattergl\":[{\"type\":\"scattergl\",\"marker\":{\"colorbar\":{\"outlinewidth\":0,\"ticks\":\"\"}}}],\"scatter3d\":[{\"type\":\"scatter3d\",\"line\":{\"colorbar\":{\"outlinewidth\":0,\"ticks\":\"\"}},\"marker\":{\"colorbar\":{\"outlinewidth\":0,\"ticks\":\"\"}}}],\"scattermapbox\":[{\"type\":\"scattermapbox\",\"marker\":{\"colorbar\":{\"outlinewidth\":0,\"ticks\":\"\"}}}],\"scatterternary\":[{\"type\":\"scatterternary\",\"marker\":{\"colorbar\":{\"outlinewidth\":0,\"ticks\":\"\"}}}],\"scattercarpet\":[{\"type\":\"scattercarpet\",\"marker\":{\"colorbar\":{\"outlinewidth\":0,\"ticks\":\"\"}}}],\"carpet\":[{\"aaxis\":{\"endlinecolor\":\"#2a3f5f\",\"gridcolor\":\"white\",\"linecolor\":\"white\",\"minorgridcolor\":\"white\",\"startlinecolor\":\"#2a3f5f\"},\"baxis\":{\"endlinecolor\":\"#2a3f5f\",\"gridcolor\":\"white\",\"linecolor\":\"white\",\"minorgridcolor\":\"white\",\"startlinecolor\":\"#2a3f5f\"},\"type\":\"carpet\"}],\"table\":[{\"cells\":{\"fill\":{\"color\":\"#EBF0F8\"},\"line\":{\"color\":\"white\"}},\"header\":{\"fill\":{\"color\":\"#C8D4E3\"},\"line\":{\"color\":\"white\"}},\"type\":\"table\"}],\"barpolar\":[{\"marker\":{\"line\":{\"color\":\"#E5ECF6\",\"width\":0.5},\"pattern\":{\"fillmode\":\"overlay\",\"size\":10,\"solidity\":0.2}},\"type\":\"barpolar\"}],\"pie\":[{\"automargin\":true,\"type\":\"pie\"}]},\"layout\":{\"autotypenumbers\":\"strict\",\"colorway\":[\"#636efa\",\"#EF553B\",\"#00cc96\",\"#ab63fa\",\"#FFA15A\",\"#19d3f3\",\"#FF6692\",\"#B6E880\",\"#FF97FF\",\"#FECB52\"],\"font\":{\"color\":\"#2a3f5f\"},\"hovermode\":\"closest\",\"hoverlabel\":{\"align\":\"left\"},\"paper_bgcolor\":\"white\",\"plot_bgcolor\":\"#E5ECF6\",\"polar\":{\"bgcolor\":\"#E5ECF6\",\"angularaxis\":{\"gridcolor\":\"white\",\"linecolor\":\"white\",\"ticks\":\"\"},\"radialaxis\":{\"gridcolor\":\"white\",\"linecolor\":\"white\",\"ticks\":\"\"}},\"ternary\":{\"bgcolor\":\"#E5ECF6\",\"aaxis\":{\"gridcolor\":\"white\",\"linecolor\":\"white\",\"ticks\":\"\"},\"baxis\":{\"gridcolor\":\"white\",\"linecolor\":\"white\",\"ticks\":\"\"},\"caxis\":{\"gridcolor\":\"white\",\"linecolor\":\"white\",\"ticks\":\"\"}},\"coloraxis\":{\"colorbar\":{\"outlinewidth\":0,\"ticks\":\"\"}},\"colorscale\":{\"sequential\":[[0.0,\"#0d0887\"],[0.1111111111111111,\"#46039f\"],[0.2222222222222222,\"#7201a8\"],[0.3333333333333333,\"#9c179e\"],[0.4444444444444444,\"#bd3786\"],[0.5555555555555556,\"#d8576b\"],[0.6666666666666666,\"#ed7953\"],[0.7777777777777778,\"#fb9f3a\"],[0.8888888888888888,\"#fdca26\"],[1.0,\"#f0f921\"]],\"sequentialminus\":[[0.0,\"#0d0887\"],[0.1111111111111111,\"#46039f\"],[0.2222222222222222,\"#7201a8\"],[0.3333333333333333,\"#9c179e\"],[0.4444444444444444,\"#bd3786\"],[0.5555555555555556,\"#d8576b\"],[0.6666666666666666,\"#ed7953\"],[0.7777777777777778,\"#fb9f3a\"],[0.8888888888888888,\"#fdca26\"],[1.0,\"#f0f921\"]],\"diverging\":[[0,\"#8e0152\"],[0.1,\"#c51b7d\"],[0.2,\"#de77ae\"],[0.3,\"#f1b6da\"],[0.4,\"#fde0ef\"],[0.5,\"#f7f7f7\"],[0.6,\"#e6f5d0\"],[0.7,\"#b8e186\"],[0.8,\"#7fbc41\"],[0.9,\"#4d9221\"],[1,\"#276419\"]]},\"xaxis\":{\"gridcolor\":\"white\",\"linecolor\":\"white\",\"ticks\":\"\",\"title\":{\"standoff\":15},\"zerolinecolor\":\"white\",\"automargin\":true,\"zerolinewidth\":2},\"yaxis\":{\"gridcolor\":\"white\",\"linecolor\":\"white\",\"ticks\":\"\",\"title\":{\"standoff\":15},\"zerolinecolor\":\"white\",\"automargin\":true,\"zerolinewidth\":2},\"scene\":{\"xaxis\":{\"backgroundcolor\":\"#E5ECF6\",\"gridcolor\":\"white\",\"linecolor\":\"white\",\"showbackground\":true,\"ticks\":\"\",\"zerolinecolor\":\"white\",\"gridwidth\":2},\"yaxis\":{\"backgroundcolor\":\"#E5ECF6\",\"gridcolor\":\"white\",\"linecolor\":\"white\",\"showbackground\":true,\"ticks\":\"\",\"zerolinecolor\":\"white\",\"gridwidth\":2},\"zaxis\":{\"backgroundcolor\":\"#E5ECF6\",\"gridcolor\":\"white\",\"linecolor\":\"white\",\"showbackground\":true,\"ticks\":\"\",\"zerolinecolor\":\"white\",\"gridwidth\":2}},\"shapedefaults\":{\"line\":{\"color\":\"#2a3f5f\"}},\"annotationdefaults\":{\"arrowcolor\":\"#2a3f5f\",\"arrowhead\":0,\"arrowwidth\":1},\"geo\":{\"bgcolor\":\"white\",\"landcolor\":\"#E5ECF6\",\"subunitcolor\":\"white\",\"showland\":true,\"showlakes\":true,\"lakecolor\":\"white\"},\"title\":{\"x\":0.05},\"mapbox\":{\"style\":\"light\"}}},\"xaxis\":{\"title\":{\"text\":\"M\\u00eas\"}},\"xaxis2\":{\"title\":{\"text\":\"Demanda\"}},\"xaxis3\":{\"title\":{\"text\":\"Entradas\"}},\"xaxis4\":{\"title\":{\"text\":\"Estoque_Inicial\"}},\"xaxis5\":{\"title\":{\"text\":\"Estoque_Final\"}},\"xaxis6\":{\"title\":{\"text\":\"Cobertura_Estoque_Dias\"}},\"margin\":{\"l\":20,\"r\":20,\"t\":40,\"b\":20},\"title\":{\"text\":\"Plano de Entradas & Cobertura de Estoque\"}},                        {\"responsive\": true}                    ).then(function(){\n",
       "                            \n",
       "var gd = document.getElementById('2507a4bf-1475-4af8-b260-92bc68b17ce5');\n",
       "var x = new MutationObserver(function (mutations, observer) {{\n",
       "        var display = window.getComputedStyle(gd).display;\n",
       "        if (!display || display === 'none') {{\n",
       "            console.log([gd, 'removed!']);\n",
       "            Plotly.purge(gd);\n",
       "            observer.disconnect();\n",
       "        }}\n",
       "}});\n",
       "\n",
       "// Listen for the removal of the full notebook cells\n",
       "var notebookContainer = gd.closest('#notebook-container');\n",
       "if (notebookContainer) {{\n",
       "    x.observe(notebookContainer, {childList: true});\n",
       "}}\n",
       "\n",
       "// Listen for the clearing of the current output cell\n",
       "var outputEl = gd.closest('.output');\n",
       "if (outputEl) {{\n",
       "    x.observe(outputEl, {childList: true});\n",
       "}}\n",
       "\n",
       "                        })                };                });            </script>        </div>"
      ]
     },
     "metadata": {},
     "output_type": "display_data"
    }
   ],
   "source": [
    "import plotly.graph_objects as go\n",
    "\n",
    "# Escolhendo as colunas desejadas\n",
    "colunas_desejadas = ['Mês', 'Demanda', 'Entradas', 'Estoque_Inicial', 'Estoque_Final', 'Cobertura_Estoque_Dias']\n",
    "plano_entradas_selecionado = plano_entradas[colunas_desejadas]\n",
    "\n",
    "# Arredondando os valores para 0 casas decimais\n",
    "plano_entradas_selecionado = plano_entradas_selecionado.round(0)\n",
    "\n",
    "# Criando a tabela\n",
    "figura_tabela_plano = go.Figure(data=[go.Table(\n",
    "    header=dict(values=plano_entradas_selecionado.columns),\n",
    "    cells=dict(values=plano_entradas_selecionado.transpose().values.tolist())\n",
    ")])\n",
    "\n",
    "# Ajuste da largura das colunas\n",
    "for i, col in enumerate(plano_entradas_selecionado.columns):\n",
    "    figura_tabela_plano.update_layout(\n",
    "        {'xaxis'+str(i+1): {'title': col}}\n",
    "    )\n",
    "\n",
    "# Layout da tabela\n",
    "figura_tabela_plano.update_layout(\n",
    "    title=\"Plano de Entradas & Cobertura de Estoque\",\n",
    "    margin=dict(l=20, r=20, t=40, b=20),  # Margens\n",
    ")\n",
    "\n",
    "# Exibindo a tabela\n",
    "figura_tabela_plano.show()\n"
   ]
  },
  {
   "cell_type": "code",
   "execution_count": 17,
   "id": "14699c40",
   "metadata": {},
   "outputs": [
    {
     "data": {
      "application/vnd.plotly.v1+json": {
       "config": {
        "plotlyServerURL": "https://plot.ly"
       },
       "data": [
        {
         "hovertemplate": "variable=Demanda<br>Mês=%{x}<br>value=%{y}<extra></extra>",
         "legendgroup": "Demanda",
         "line": {
          "color": "#636efa",
          "dash": "solid"
         },
         "marker": {
          "symbol": "circle"
         },
         "mode": "markers+lines",
         "name": "Demanda",
         "orientation": "v",
         "showlegend": true,
         "type": "scatter",
         "x": [
          "2023-12-01T00:00:00",
          "2024-01-01T00:00:00",
          "2024-02-01T00:00:00",
          "2024-03-01T00:00:00",
          "2024-04-01T00:00:00",
          "2024-05-01T00:00:00",
          "2024-06-01T00:00:00",
          "2024-07-01T00:00:00",
          "2024-08-01T00:00:00",
          "2024-09-01T00:00:00",
          "2024-10-01T00:00:00",
          "2024-11-01T00:00:00",
          "2024-12-01T00:00:00",
          "2025-01-01T00:00:00",
          "2025-02-01T00:00:00",
          "2025-03-01T00:00:00",
          "2025-04-01T00:00:00",
          "2025-05-01T00:00:00",
          "2025-06-01T00:00:00",
          "2025-07-01T00:00:00",
          "2025-08-01T00:00:00",
          "2025-09-01T00:00:00",
          "2025-10-01T00:00:00",
          "2025-11-01T00:00:00",
          "2025-12-01T00:00:00",
          "2026-01-01T00:00:00",
          "2026-02-01T00:00:00",
          "2026-03-01T00:00:00",
          "2026-04-01T00:00:00",
          "2026-05-01T00:00:00",
          "2026-06-01T00:00:00",
          "2026-07-01T00:00:00",
          "2026-08-01T00:00:00",
          "2026-09-01T00:00:00",
          "2026-10-01T00:00:00",
          "2026-11-01T00:00:00"
         ],
         "xaxis": "x",
         "y": [
          793.475,
          657.645,
          600.78,
          703.715,
          644.64,
          686.97,
          707.965,
          747.235,
          769.165,
          727.515,
          744.005,
          731.595,
          789.82,
          659.175,
          605.03,
          703.205,
          646.85,
          687.225,
          707.115,
          744.515,
          765.34,
          725.73,
          741.455,
          729.64,
          785.06,
          660.705,
          609.195,
          702.61,
          648.975,
          687.395,
          706.35,
          741.965,
          761.77,
          724.03,
          738.99,
          727.77
         ],
         "yaxis": "y"
        },
        {
         "hovertemplate": "variable=Estoque_Inicial<br>Mês=%{x}<br>value=%{y}<extra></extra>",
         "legendgroup": "Estoque_Inicial",
         "line": {
          "color": "#EF553B",
          "dash": "solid"
         },
         "marker": {
          "symbol": "circle"
         },
         "mode": "markers+lines",
         "name": "Estoque_Inicial",
         "orientation": "v",
         "showlegend": true,
         "type": "scatter",
         "x": [
          "2023-12-01T00:00:00",
          "2024-01-01T00:00:00",
          "2024-02-01T00:00:00",
          "2024-03-01T00:00:00",
          "2024-04-01T00:00:00",
          "2024-05-01T00:00:00",
          "2024-06-01T00:00:00",
          "2024-07-01T00:00:00",
          "2024-08-01T00:00:00",
          "2024-09-01T00:00:00",
          "2024-10-01T00:00:00",
          "2024-11-01T00:00:00",
          "2024-12-01T00:00:00",
          "2025-01-01T00:00:00",
          "2025-02-01T00:00:00",
          "2025-03-01T00:00:00",
          "2025-04-01T00:00:00",
          "2025-05-01T00:00:00",
          "2025-06-01T00:00:00",
          "2025-07-01T00:00:00",
          "2025-08-01T00:00:00",
          "2025-09-01T00:00:00",
          "2025-10-01T00:00:00",
          "2025-11-01T00:00:00",
          "2025-12-01T00:00:00",
          "2026-01-01T00:00:00",
          "2026-02-01T00:00:00",
          "2026-03-01T00:00:00",
          "2026-04-01T00:00:00",
          "2026-05-01T00:00:00",
          "2026-06-01T00:00:00",
          "2026-07-01T00:00:00",
          "2026-08-01T00:00:00",
          "2026-09-01T00:00:00",
          "2026-10-01T00:00:00",
          "2026-11-01T00:00:00"
         ],
         "xaxis": "x",
         "y": [
          85,
          547,
          889,
          1633,
          929,
          284,
          227,
          234,
          247,
          254,
          240,
          246,
          241,
          261,
          218,
          200,
          232,
          213,
          227,
          233,
          246,
          253,
          239,
          245,
          241,
          259,
          218,
          201,
          232,
          214,
          227,
          233,
          245,
          251,
          239,
          244
         ],
         "yaxis": "y"
        },
        {
         "hovertemplate": "variable=Entradas<br>Mês=%{x}<br>value=%{y}<extra></extra>",
         "legendgroup": "Entradas",
         "line": {
          "color": "#00cc96",
          "dash": "solid"
         },
         "marker": {
          "symbol": "circle"
         },
         "mode": "markers+lines",
         "name": "Entradas",
         "orientation": "v",
         "showlegend": true,
         "type": "scatter",
         "x": [
          "2023-12-01T00:00:00",
          "2024-01-01T00:00:00",
          "2024-02-01T00:00:00",
          "2024-03-01T00:00:00",
          "2024-04-01T00:00:00",
          "2024-05-01T00:00:00",
          "2024-06-01T00:00:00",
          "2024-07-01T00:00:00",
          "2024-08-01T00:00:00",
          "2024-09-01T00:00:00",
          "2024-10-01T00:00:00",
          "2024-11-01T00:00:00",
          "2024-12-01T00:00:00",
          "2025-01-01T00:00:00",
          "2025-02-01T00:00:00",
          "2025-03-01T00:00:00",
          "2025-04-01T00:00:00",
          "2025-05-01T00:00:00",
          "2025-06-01T00:00:00",
          "2025-07-01T00:00:00",
          "2025-08-01T00:00:00",
          "2025-09-01T00:00:00",
          "2025-10-01T00:00:00",
          "2025-11-01T00:00:00",
          "2025-12-01T00:00:00",
          "2026-01-01T00:00:00",
          "2026-02-01T00:00:00",
          "2026-03-01T00:00:00",
          "2026-04-01T00:00:00",
          "2026-05-01T00:00:00",
          "2026-06-01T00:00:00",
          "2026-07-01T00:00:00",
          "2026-08-01T00:00:00",
          "2026-09-01T00:00:00",
          "2026-10-01T00:00:00",
          "2026-11-01T00:00:00"
         ],
         "xaxis": "x",
         "y": [
          1255,
          1000,
          1345,
          0,
          0,
          630,
          715,
          760,
          776,
          714,
          750,
          727,
          809,
          616,
          587,
          735,
          628,
          701,
          713,
          757,
          772,
          712,
          747,
          725,
          803,
          620,
          592,
          733,
          631,
          700,
          712,
          754,
          768,
          712,
          744,
          724
         ],
         "yaxis": "y"
        },
        {
         "hovertemplate": "variable=Estoque_Final<br>Mês=%{x}<br>value=%{y}<extra></extra>",
         "legendgroup": "Estoque_Final",
         "line": {
          "color": "#ab63fa",
          "dash": "solid"
         },
         "marker": {
          "symbol": "circle"
         },
         "mode": "markers+lines",
         "name": "Estoque_Final",
         "orientation": "v",
         "showlegend": true,
         "type": "scatter",
         "x": [
          "2023-12-01T00:00:00",
          "2024-01-01T00:00:00",
          "2024-02-01T00:00:00",
          "2024-03-01T00:00:00",
          "2024-04-01T00:00:00",
          "2024-05-01T00:00:00",
          "2024-06-01T00:00:00",
          "2024-07-01T00:00:00",
          "2024-08-01T00:00:00",
          "2024-09-01T00:00:00",
          "2024-10-01T00:00:00",
          "2024-11-01T00:00:00",
          "2024-12-01T00:00:00",
          "2025-01-01T00:00:00",
          "2025-02-01T00:00:00",
          "2025-03-01T00:00:00",
          "2025-04-01T00:00:00",
          "2025-05-01T00:00:00",
          "2025-06-01T00:00:00",
          "2025-07-01T00:00:00",
          "2025-08-01T00:00:00",
          "2025-09-01T00:00:00",
          "2025-10-01T00:00:00",
          "2025-11-01T00:00:00",
          "2025-12-01T00:00:00",
          "2026-01-01T00:00:00",
          "2026-02-01T00:00:00",
          "2026-03-01T00:00:00",
          "2026-04-01T00:00:00",
          "2026-05-01T00:00:00",
          "2026-06-01T00:00:00",
          "2026-07-01T00:00:00",
          "2026-08-01T00:00:00",
          "2026-09-01T00:00:00",
          "2026-10-01T00:00:00",
          "2026-11-01T00:00:00"
         ],
         "xaxis": "x",
         "y": [
          547,
          889,
          1633,
          929,
          284,
          227,
          234,
          247,
          254,
          240,
          246,
          241,
          261,
          218,
          200,
          232,
          213,
          227,
          233,
          246,
          253,
          239,
          245,
          241,
          259,
          218,
          201,
          232,
          214,
          227,
          233,
          245,
          251,
          239,
          244,
          240
         ],
         "yaxis": "y"
        }
       ],
       "layout": {
        "annotations": [
         {
          "font": {
           "color": "Black",
           "family": "Arial, sans-serif",
           "size": 14
          },
          "showarrow": false,
          "text": "Cobertura de Estoque: 10 dias",
          "x": 0.95,
          "xref": "paper",
          "y": 0.9,
          "yref": "paper"
         }
        ],
        "font": {
         "color": "RebeccaPurple",
         "family": "Courier New, monospace",
         "size": 12
        },
        "legend": {
         "title": {
          "text": "Categorias"
         },
         "tracegroupgap": 0
        },
        "margin": {
         "t": 60
        },
        "template": {
         "data": {
          "bar": [
           {
            "error_x": {
             "color": "#2a3f5f"
            },
            "error_y": {
             "color": "#2a3f5f"
            },
            "marker": {
             "line": {
              "color": "#E5ECF6",
              "width": 0.5
             },
             "pattern": {
              "fillmode": "overlay",
              "size": 10,
              "solidity": 0.2
             }
            },
            "type": "bar"
           }
          ],
          "barpolar": [
           {
            "marker": {
             "line": {
              "color": "#E5ECF6",
              "width": 0.5
             },
             "pattern": {
              "fillmode": "overlay",
              "size": 10,
              "solidity": 0.2
             }
            },
            "type": "barpolar"
           }
          ],
          "carpet": [
           {
            "aaxis": {
             "endlinecolor": "#2a3f5f",
             "gridcolor": "white",
             "linecolor": "white",
             "minorgridcolor": "white",
             "startlinecolor": "#2a3f5f"
            },
            "baxis": {
             "endlinecolor": "#2a3f5f",
             "gridcolor": "white",
             "linecolor": "white",
             "minorgridcolor": "white",
             "startlinecolor": "#2a3f5f"
            },
            "type": "carpet"
           }
          ],
          "choropleth": [
           {
            "colorbar": {
             "outlinewidth": 0,
             "ticks": ""
            },
            "type": "choropleth"
           }
          ],
          "contour": [
           {
            "colorbar": {
             "outlinewidth": 0,
             "ticks": ""
            },
            "colorscale": [
             [
              0,
              "#0d0887"
             ],
             [
              0.1111111111111111,
              "#46039f"
             ],
             [
              0.2222222222222222,
              "#7201a8"
             ],
             [
              0.3333333333333333,
              "#9c179e"
             ],
             [
              0.4444444444444444,
              "#bd3786"
             ],
             [
              0.5555555555555556,
              "#d8576b"
             ],
             [
              0.6666666666666666,
              "#ed7953"
             ],
             [
              0.7777777777777778,
              "#fb9f3a"
             ],
             [
              0.8888888888888888,
              "#fdca26"
             ],
             [
              1,
              "#f0f921"
             ]
            ],
            "type": "contour"
           }
          ],
          "contourcarpet": [
           {
            "colorbar": {
             "outlinewidth": 0,
             "ticks": ""
            },
            "type": "contourcarpet"
           }
          ],
          "heatmap": [
           {
            "colorbar": {
             "outlinewidth": 0,
             "ticks": ""
            },
            "colorscale": [
             [
              0,
              "#0d0887"
             ],
             [
              0.1111111111111111,
              "#46039f"
             ],
             [
              0.2222222222222222,
              "#7201a8"
             ],
             [
              0.3333333333333333,
              "#9c179e"
             ],
             [
              0.4444444444444444,
              "#bd3786"
             ],
             [
              0.5555555555555556,
              "#d8576b"
             ],
             [
              0.6666666666666666,
              "#ed7953"
             ],
             [
              0.7777777777777778,
              "#fb9f3a"
             ],
             [
              0.8888888888888888,
              "#fdca26"
             ],
             [
              1,
              "#f0f921"
             ]
            ],
            "type": "heatmap"
           }
          ],
          "heatmapgl": [
           {
            "colorbar": {
             "outlinewidth": 0,
             "ticks": ""
            },
            "colorscale": [
             [
              0,
              "#0d0887"
             ],
             [
              0.1111111111111111,
              "#46039f"
             ],
             [
              0.2222222222222222,
              "#7201a8"
             ],
             [
              0.3333333333333333,
              "#9c179e"
             ],
             [
              0.4444444444444444,
              "#bd3786"
             ],
             [
              0.5555555555555556,
              "#d8576b"
             ],
             [
              0.6666666666666666,
              "#ed7953"
             ],
             [
              0.7777777777777778,
              "#fb9f3a"
             ],
             [
              0.8888888888888888,
              "#fdca26"
             ],
             [
              1,
              "#f0f921"
             ]
            ],
            "type": "heatmapgl"
           }
          ],
          "histogram": [
           {
            "marker": {
             "pattern": {
              "fillmode": "overlay",
              "size": 10,
              "solidity": 0.2
             }
            },
            "type": "histogram"
           }
          ],
          "histogram2d": [
           {
            "colorbar": {
             "outlinewidth": 0,
             "ticks": ""
            },
            "colorscale": [
             [
              0,
              "#0d0887"
             ],
             [
              0.1111111111111111,
              "#46039f"
             ],
             [
              0.2222222222222222,
              "#7201a8"
             ],
             [
              0.3333333333333333,
              "#9c179e"
             ],
             [
              0.4444444444444444,
              "#bd3786"
             ],
             [
              0.5555555555555556,
              "#d8576b"
             ],
             [
              0.6666666666666666,
              "#ed7953"
             ],
             [
              0.7777777777777778,
              "#fb9f3a"
             ],
             [
              0.8888888888888888,
              "#fdca26"
             ],
             [
              1,
              "#f0f921"
             ]
            ],
            "type": "histogram2d"
           }
          ],
          "histogram2dcontour": [
           {
            "colorbar": {
             "outlinewidth": 0,
             "ticks": ""
            },
            "colorscale": [
             [
              0,
              "#0d0887"
             ],
             [
              0.1111111111111111,
              "#46039f"
             ],
             [
              0.2222222222222222,
              "#7201a8"
             ],
             [
              0.3333333333333333,
              "#9c179e"
             ],
             [
              0.4444444444444444,
              "#bd3786"
             ],
             [
              0.5555555555555556,
              "#d8576b"
             ],
             [
              0.6666666666666666,
              "#ed7953"
             ],
             [
              0.7777777777777778,
              "#fb9f3a"
             ],
             [
              0.8888888888888888,
              "#fdca26"
             ],
             [
              1,
              "#f0f921"
             ]
            ],
            "type": "histogram2dcontour"
           }
          ],
          "mesh3d": [
           {
            "colorbar": {
             "outlinewidth": 0,
             "ticks": ""
            },
            "type": "mesh3d"
           }
          ],
          "parcoords": [
           {
            "line": {
             "colorbar": {
              "outlinewidth": 0,
              "ticks": ""
             }
            },
            "type": "parcoords"
           }
          ],
          "pie": [
           {
            "automargin": true,
            "type": "pie"
           }
          ],
          "scatter": [
           {
            "fillpattern": {
             "fillmode": "overlay",
             "size": 10,
             "solidity": 0.2
            },
            "type": "scatter"
           }
          ],
          "scatter3d": [
           {
            "line": {
             "colorbar": {
              "outlinewidth": 0,
              "ticks": ""
             }
            },
            "marker": {
             "colorbar": {
              "outlinewidth": 0,
              "ticks": ""
             }
            },
            "type": "scatter3d"
           }
          ],
          "scattercarpet": [
           {
            "marker": {
             "colorbar": {
              "outlinewidth": 0,
              "ticks": ""
             }
            },
            "type": "scattercarpet"
           }
          ],
          "scattergeo": [
           {
            "marker": {
             "colorbar": {
              "outlinewidth": 0,
              "ticks": ""
             }
            },
            "type": "scattergeo"
           }
          ],
          "scattergl": [
           {
            "marker": {
             "colorbar": {
              "outlinewidth": 0,
              "ticks": ""
             }
            },
            "type": "scattergl"
           }
          ],
          "scattermapbox": [
           {
            "marker": {
             "colorbar": {
              "outlinewidth": 0,
              "ticks": ""
             }
            },
            "type": "scattermapbox"
           }
          ],
          "scatterpolar": [
           {
            "marker": {
             "colorbar": {
              "outlinewidth": 0,
              "ticks": ""
             }
            },
            "type": "scatterpolar"
           }
          ],
          "scatterpolargl": [
           {
            "marker": {
             "colorbar": {
              "outlinewidth": 0,
              "ticks": ""
             }
            },
            "type": "scatterpolargl"
           }
          ],
          "scatterternary": [
           {
            "marker": {
             "colorbar": {
              "outlinewidth": 0,
              "ticks": ""
             }
            },
            "type": "scatterternary"
           }
          ],
          "surface": [
           {
            "colorbar": {
             "outlinewidth": 0,
             "ticks": ""
            },
            "colorscale": [
             [
              0,
              "#0d0887"
             ],
             [
              0.1111111111111111,
              "#46039f"
             ],
             [
              0.2222222222222222,
              "#7201a8"
             ],
             [
              0.3333333333333333,
              "#9c179e"
             ],
             [
              0.4444444444444444,
              "#bd3786"
             ],
             [
              0.5555555555555556,
              "#d8576b"
             ],
             [
              0.6666666666666666,
              "#ed7953"
             ],
             [
              0.7777777777777778,
              "#fb9f3a"
             ],
             [
              0.8888888888888888,
              "#fdca26"
             ],
             [
              1,
              "#f0f921"
             ]
            ],
            "type": "surface"
           }
          ],
          "table": [
           {
            "cells": {
             "fill": {
              "color": "#EBF0F8"
             },
             "line": {
              "color": "white"
             }
            },
            "header": {
             "fill": {
              "color": "#C8D4E3"
             },
             "line": {
              "color": "white"
             }
            },
            "type": "table"
           }
          ]
         },
         "layout": {
          "annotationdefaults": {
           "arrowcolor": "#2a3f5f",
           "arrowhead": 0,
           "arrowwidth": 1
          },
          "autotypenumbers": "strict",
          "coloraxis": {
           "colorbar": {
            "outlinewidth": 0,
            "ticks": ""
           }
          },
          "colorscale": {
           "diverging": [
            [
             0,
             "#8e0152"
            ],
            [
             0.1,
             "#c51b7d"
            ],
            [
             0.2,
             "#de77ae"
            ],
            [
             0.3,
             "#f1b6da"
            ],
            [
             0.4,
             "#fde0ef"
            ],
            [
             0.5,
             "#f7f7f7"
            ],
            [
             0.6,
             "#e6f5d0"
            ],
            [
             0.7,
             "#b8e186"
            ],
            [
             0.8,
             "#7fbc41"
            ],
            [
             0.9,
             "#4d9221"
            ],
            [
             1,
             "#276419"
            ]
           ],
           "sequential": [
            [
             0,
             "#0d0887"
            ],
            [
             0.1111111111111111,
             "#46039f"
            ],
            [
             0.2222222222222222,
             "#7201a8"
            ],
            [
             0.3333333333333333,
             "#9c179e"
            ],
            [
             0.4444444444444444,
             "#bd3786"
            ],
            [
             0.5555555555555556,
             "#d8576b"
            ],
            [
             0.6666666666666666,
             "#ed7953"
            ],
            [
             0.7777777777777778,
             "#fb9f3a"
            ],
            [
             0.8888888888888888,
             "#fdca26"
            ],
            [
             1,
             "#f0f921"
            ]
           ],
           "sequentialminus": [
            [
             0,
             "#0d0887"
            ],
            [
             0.1111111111111111,
             "#46039f"
            ],
            [
             0.2222222222222222,
             "#7201a8"
            ],
            [
             0.3333333333333333,
             "#9c179e"
            ],
            [
             0.4444444444444444,
             "#bd3786"
            ],
            [
             0.5555555555555556,
             "#d8576b"
            ],
            [
             0.6666666666666666,
             "#ed7953"
            ],
            [
             0.7777777777777778,
             "#fb9f3a"
            ],
            [
             0.8888888888888888,
             "#fdca26"
            ],
            [
             1,
             "#f0f921"
            ]
           ]
          },
          "colorway": [
           "#636efa",
           "#EF553B",
           "#00cc96",
           "#ab63fa",
           "#FFA15A",
           "#19d3f3",
           "#FF6692",
           "#B6E880",
           "#FF97FF",
           "#FECB52"
          ],
          "font": {
           "color": "#2a3f5f"
          },
          "geo": {
           "bgcolor": "white",
           "lakecolor": "white",
           "landcolor": "#E5ECF6",
           "showlakes": true,
           "showland": true,
           "subunitcolor": "white"
          },
          "hoverlabel": {
           "align": "left"
          },
          "hovermode": "closest",
          "mapbox": {
           "style": "light"
          },
          "paper_bgcolor": "white",
          "plot_bgcolor": "#E5ECF6",
          "polar": {
           "angularaxis": {
            "gridcolor": "white",
            "linecolor": "white",
            "ticks": ""
           },
           "bgcolor": "#E5ECF6",
           "radialaxis": {
            "gridcolor": "white",
            "linecolor": "white",
            "ticks": ""
           }
          },
          "scene": {
           "xaxis": {
            "backgroundcolor": "#E5ECF6",
            "gridcolor": "white",
            "gridwidth": 2,
            "linecolor": "white",
            "showbackground": true,
            "ticks": "",
            "zerolinecolor": "white"
           },
           "yaxis": {
            "backgroundcolor": "#E5ECF6",
            "gridcolor": "white",
            "gridwidth": 2,
            "linecolor": "white",
            "showbackground": true,
            "ticks": "",
            "zerolinecolor": "white"
           },
           "zaxis": {
            "backgroundcolor": "#E5ECF6",
            "gridcolor": "white",
            "gridwidth": 2,
            "linecolor": "white",
            "showbackground": true,
            "ticks": "",
            "zerolinecolor": "white"
           }
          },
          "shapedefaults": {
           "line": {
            "color": "#2a3f5f"
           }
          },
          "ternary": {
           "aaxis": {
            "gridcolor": "white",
            "linecolor": "white",
            "ticks": ""
           },
           "baxis": {
            "gridcolor": "white",
            "linecolor": "white",
            "ticks": ""
           },
           "bgcolor": "#E5ECF6",
           "caxis": {
            "gridcolor": "white",
            "linecolor": "white",
            "ticks": ""
           }
          },
          "title": {
           "x": 0.05
          },
          "xaxis": {
           "automargin": true,
           "gridcolor": "white",
           "linecolor": "white",
           "ticks": "",
           "title": {
            "standoff": 15
           },
           "zerolinecolor": "white",
           "zerolinewidth": 2
          },
          "yaxis": {
           "automargin": true,
           "gridcolor": "white",
           "linecolor": "white",
           "ticks": "",
           "title": {
            "standoff": 15
           },
           "zerolinecolor": "white",
           "zerolinewidth": 2
          }
         }
        },
        "title": {
         "text": "Plano de Entradas e Estoque"
        },
        "xaxis": {
         "anchor": "y",
         "domain": [
          0,
          1
         ],
         "title": {
          "text": "Mês"
         }
        },
        "yaxis": {
         "anchor": "x",
         "domain": [
          0,
          1
         ],
         "title": {
          "text": "Quantidade"
         }
        }
       }
      },
      "text/html": [
       "<div>                            <div id=\"80c05814-6068-4bab-a791-9f8878a35280\" class=\"plotly-graph-div\" style=\"height:525px; width:100%;\"></div>            <script type=\"text/javascript\">                require([\"plotly\"], function(Plotly) {                    window.PLOTLYENV=window.PLOTLYENV || {};                                    if (document.getElementById(\"80c05814-6068-4bab-a791-9f8878a35280\")) {                    Plotly.newPlot(                        \"80c05814-6068-4bab-a791-9f8878a35280\",                        [{\"hovertemplate\":\"variable=Demanda\\u003cbr\\u003eM\\u00eas=%{x}\\u003cbr\\u003evalue=%{y}\\u003cextra\\u003e\\u003c\\u002fextra\\u003e\",\"legendgroup\":\"Demanda\",\"line\":{\"color\":\"#636efa\",\"dash\":\"solid\"},\"marker\":{\"symbol\":\"circle\"},\"mode\":\"markers+lines\",\"name\":\"Demanda\",\"orientation\":\"v\",\"showlegend\":true,\"x\":[\"2023-12-01T00:00:00\",\"2024-01-01T00:00:00\",\"2024-02-01T00:00:00\",\"2024-03-01T00:00:00\",\"2024-04-01T00:00:00\",\"2024-05-01T00:00:00\",\"2024-06-01T00:00:00\",\"2024-07-01T00:00:00\",\"2024-08-01T00:00:00\",\"2024-09-01T00:00:00\",\"2024-10-01T00:00:00\",\"2024-11-01T00:00:00\",\"2024-12-01T00:00:00\",\"2025-01-01T00:00:00\",\"2025-02-01T00:00:00\",\"2025-03-01T00:00:00\",\"2025-04-01T00:00:00\",\"2025-05-01T00:00:00\",\"2025-06-01T00:00:00\",\"2025-07-01T00:00:00\",\"2025-08-01T00:00:00\",\"2025-09-01T00:00:00\",\"2025-10-01T00:00:00\",\"2025-11-01T00:00:00\",\"2025-12-01T00:00:00\",\"2026-01-01T00:00:00\",\"2026-02-01T00:00:00\",\"2026-03-01T00:00:00\",\"2026-04-01T00:00:00\",\"2026-05-01T00:00:00\",\"2026-06-01T00:00:00\",\"2026-07-01T00:00:00\",\"2026-08-01T00:00:00\",\"2026-09-01T00:00:00\",\"2026-10-01T00:00:00\",\"2026-11-01T00:00:00\"],\"xaxis\":\"x\",\"y\":[793.475,657.645,600.78,703.715,644.64,686.97,707.965,747.235,769.165,727.515,744.005,731.595,789.82,659.175,605.03,703.205,646.85,687.225,707.115,744.515,765.34,725.73,741.455,729.64,785.06,660.705,609.195,702.61,648.975,687.395,706.35,741.965,761.77,724.03,738.99,727.77],\"yaxis\":\"y\",\"type\":\"scatter\"},{\"hovertemplate\":\"variable=Estoque_Inicial\\u003cbr\\u003eM\\u00eas=%{x}\\u003cbr\\u003evalue=%{y}\\u003cextra\\u003e\\u003c\\u002fextra\\u003e\",\"legendgroup\":\"Estoque_Inicial\",\"line\":{\"color\":\"#EF553B\",\"dash\":\"solid\"},\"marker\":{\"symbol\":\"circle\"},\"mode\":\"markers+lines\",\"name\":\"Estoque_Inicial\",\"orientation\":\"v\",\"showlegend\":true,\"x\":[\"2023-12-01T00:00:00\",\"2024-01-01T00:00:00\",\"2024-02-01T00:00:00\",\"2024-03-01T00:00:00\",\"2024-04-01T00:00:00\",\"2024-05-01T00:00:00\",\"2024-06-01T00:00:00\",\"2024-07-01T00:00:00\",\"2024-08-01T00:00:00\",\"2024-09-01T00:00:00\",\"2024-10-01T00:00:00\",\"2024-11-01T00:00:00\",\"2024-12-01T00:00:00\",\"2025-01-01T00:00:00\",\"2025-02-01T00:00:00\",\"2025-03-01T00:00:00\",\"2025-04-01T00:00:00\",\"2025-05-01T00:00:00\",\"2025-06-01T00:00:00\",\"2025-07-01T00:00:00\",\"2025-08-01T00:00:00\",\"2025-09-01T00:00:00\",\"2025-10-01T00:00:00\",\"2025-11-01T00:00:00\",\"2025-12-01T00:00:00\",\"2026-01-01T00:00:00\",\"2026-02-01T00:00:00\",\"2026-03-01T00:00:00\",\"2026-04-01T00:00:00\",\"2026-05-01T00:00:00\",\"2026-06-01T00:00:00\",\"2026-07-01T00:00:00\",\"2026-08-01T00:00:00\",\"2026-09-01T00:00:00\",\"2026-10-01T00:00:00\",\"2026-11-01T00:00:00\"],\"xaxis\":\"x\",\"y\":[85.0,547.0,889.0,1633.0,929.0,284.0,227.0,234.0,247.0,254.0,240.0,246.0,241.0,261.0,218.0,200.0,232.0,213.0,227.0,233.0,246.0,253.0,239.0,245.0,241.0,259.0,218.0,201.0,232.0,214.0,227.0,233.0,245.0,251.0,239.0,244.0],\"yaxis\":\"y\",\"type\":\"scatter\"},{\"hovertemplate\":\"variable=Entradas\\u003cbr\\u003eM\\u00eas=%{x}\\u003cbr\\u003evalue=%{y}\\u003cextra\\u003e\\u003c\\u002fextra\\u003e\",\"legendgroup\":\"Entradas\",\"line\":{\"color\":\"#00cc96\",\"dash\":\"solid\"},\"marker\":{\"symbol\":\"circle\"},\"mode\":\"markers+lines\",\"name\":\"Entradas\",\"orientation\":\"v\",\"showlegend\":true,\"x\":[\"2023-12-01T00:00:00\",\"2024-01-01T00:00:00\",\"2024-02-01T00:00:00\",\"2024-03-01T00:00:00\",\"2024-04-01T00:00:00\",\"2024-05-01T00:00:00\",\"2024-06-01T00:00:00\",\"2024-07-01T00:00:00\",\"2024-08-01T00:00:00\",\"2024-09-01T00:00:00\",\"2024-10-01T00:00:00\",\"2024-11-01T00:00:00\",\"2024-12-01T00:00:00\",\"2025-01-01T00:00:00\",\"2025-02-01T00:00:00\",\"2025-03-01T00:00:00\",\"2025-04-01T00:00:00\",\"2025-05-01T00:00:00\",\"2025-06-01T00:00:00\",\"2025-07-01T00:00:00\",\"2025-08-01T00:00:00\",\"2025-09-01T00:00:00\",\"2025-10-01T00:00:00\",\"2025-11-01T00:00:00\",\"2025-12-01T00:00:00\",\"2026-01-01T00:00:00\",\"2026-02-01T00:00:00\",\"2026-03-01T00:00:00\",\"2026-04-01T00:00:00\",\"2026-05-01T00:00:00\",\"2026-06-01T00:00:00\",\"2026-07-01T00:00:00\",\"2026-08-01T00:00:00\",\"2026-09-01T00:00:00\",\"2026-10-01T00:00:00\",\"2026-11-01T00:00:00\"],\"xaxis\":\"x\",\"y\":[1255.0,1000.0,1345.0,0.0,0.0,630.0,715.0,760.0,776.0,714.0,750.0,727.0,809.0,616.0,587.0,735.0,628.0,701.0,713.0,757.0,772.0,712.0,747.0,725.0,803.0,620.0,592.0,733.0,631.0,700.0,712.0,754.0,768.0,712.0,744.0,724.0],\"yaxis\":\"y\",\"type\":\"scatter\"},{\"hovertemplate\":\"variable=Estoque_Final\\u003cbr\\u003eM\\u00eas=%{x}\\u003cbr\\u003evalue=%{y}\\u003cextra\\u003e\\u003c\\u002fextra\\u003e\",\"legendgroup\":\"Estoque_Final\",\"line\":{\"color\":\"#ab63fa\",\"dash\":\"solid\"},\"marker\":{\"symbol\":\"circle\"},\"mode\":\"markers+lines\",\"name\":\"Estoque_Final\",\"orientation\":\"v\",\"showlegend\":true,\"x\":[\"2023-12-01T00:00:00\",\"2024-01-01T00:00:00\",\"2024-02-01T00:00:00\",\"2024-03-01T00:00:00\",\"2024-04-01T00:00:00\",\"2024-05-01T00:00:00\",\"2024-06-01T00:00:00\",\"2024-07-01T00:00:00\",\"2024-08-01T00:00:00\",\"2024-09-01T00:00:00\",\"2024-10-01T00:00:00\",\"2024-11-01T00:00:00\",\"2024-12-01T00:00:00\",\"2025-01-01T00:00:00\",\"2025-02-01T00:00:00\",\"2025-03-01T00:00:00\",\"2025-04-01T00:00:00\",\"2025-05-01T00:00:00\",\"2025-06-01T00:00:00\",\"2025-07-01T00:00:00\",\"2025-08-01T00:00:00\",\"2025-09-01T00:00:00\",\"2025-10-01T00:00:00\",\"2025-11-01T00:00:00\",\"2025-12-01T00:00:00\",\"2026-01-01T00:00:00\",\"2026-02-01T00:00:00\",\"2026-03-01T00:00:00\",\"2026-04-01T00:00:00\",\"2026-05-01T00:00:00\",\"2026-06-01T00:00:00\",\"2026-07-01T00:00:00\",\"2026-08-01T00:00:00\",\"2026-09-01T00:00:00\",\"2026-10-01T00:00:00\",\"2026-11-01T00:00:00\"],\"xaxis\":\"x\",\"y\":[547.0,889.0,1633.0,929.0,284.0,227.0,234.0,247.0,254.0,240.0,246.0,241.0,261.0,218.0,200.0,232.0,213.0,227.0,233.0,246.0,253.0,239.0,245.0,241.0,259.0,218.0,201.0,232.0,214.0,227.0,233.0,245.0,251.0,239.0,244.0,240.0],\"yaxis\":\"y\",\"type\":\"scatter\"}],                        {\"template\":{\"data\":{\"histogram2dcontour\":[{\"type\":\"histogram2dcontour\",\"colorbar\":{\"outlinewidth\":0,\"ticks\":\"\"},\"colorscale\":[[0.0,\"#0d0887\"],[0.1111111111111111,\"#46039f\"],[0.2222222222222222,\"#7201a8\"],[0.3333333333333333,\"#9c179e\"],[0.4444444444444444,\"#bd3786\"],[0.5555555555555556,\"#d8576b\"],[0.6666666666666666,\"#ed7953\"],[0.7777777777777778,\"#fb9f3a\"],[0.8888888888888888,\"#fdca26\"],[1.0,\"#f0f921\"]]}],\"choropleth\":[{\"type\":\"choropleth\",\"colorbar\":{\"outlinewidth\":0,\"ticks\":\"\"}}],\"histogram2d\":[{\"type\":\"histogram2d\",\"colorbar\":{\"outlinewidth\":0,\"ticks\":\"\"},\"colorscale\":[[0.0,\"#0d0887\"],[0.1111111111111111,\"#46039f\"],[0.2222222222222222,\"#7201a8\"],[0.3333333333333333,\"#9c179e\"],[0.4444444444444444,\"#bd3786\"],[0.5555555555555556,\"#d8576b\"],[0.6666666666666666,\"#ed7953\"],[0.7777777777777778,\"#fb9f3a\"],[0.8888888888888888,\"#fdca26\"],[1.0,\"#f0f921\"]]}],\"heatmap\":[{\"type\":\"heatmap\",\"colorbar\":{\"outlinewidth\":0,\"ticks\":\"\"},\"colorscale\":[[0.0,\"#0d0887\"],[0.1111111111111111,\"#46039f\"],[0.2222222222222222,\"#7201a8\"],[0.3333333333333333,\"#9c179e\"],[0.4444444444444444,\"#bd3786\"],[0.5555555555555556,\"#d8576b\"],[0.6666666666666666,\"#ed7953\"],[0.7777777777777778,\"#fb9f3a\"],[0.8888888888888888,\"#fdca26\"],[1.0,\"#f0f921\"]]}],\"heatmapgl\":[{\"type\":\"heatmapgl\",\"colorbar\":{\"outlinewidth\":0,\"ticks\":\"\"},\"colorscale\":[[0.0,\"#0d0887\"],[0.1111111111111111,\"#46039f\"],[0.2222222222222222,\"#7201a8\"],[0.3333333333333333,\"#9c179e\"],[0.4444444444444444,\"#bd3786\"],[0.5555555555555556,\"#d8576b\"],[0.6666666666666666,\"#ed7953\"],[0.7777777777777778,\"#fb9f3a\"],[0.8888888888888888,\"#fdca26\"],[1.0,\"#f0f921\"]]}],\"contourcarpet\":[{\"type\":\"contourcarpet\",\"colorbar\":{\"outlinewidth\":0,\"ticks\":\"\"}}],\"contour\":[{\"type\":\"contour\",\"colorbar\":{\"outlinewidth\":0,\"ticks\":\"\"},\"colorscale\":[[0.0,\"#0d0887\"],[0.1111111111111111,\"#46039f\"],[0.2222222222222222,\"#7201a8\"],[0.3333333333333333,\"#9c179e\"],[0.4444444444444444,\"#bd3786\"],[0.5555555555555556,\"#d8576b\"],[0.6666666666666666,\"#ed7953\"],[0.7777777777777778,\"#fb9f3a\"],[0.8888888888888888,\"#fdca26\"],[1.0,\"#f0f921\"]]}],\"surface\":[{\"type\":\"surface\",\"colorbar\":{\"outlinewidth\":0,\"ticks\":\"\"},\"colorscale\":[[0.0,\"#0d0887\"],[0.1111111111111111,\"#46039f\"],[0.2222222222222222,\"#7201a8\"],[0.3333333333333333,\"#9c179e\"],[0.4444444444444444,\"#bd3786\"],[0.5555555555555556,\"#d8576b\"],[0.6666666666666666,\"#ed7953\"],[0.7777777777777778,\"#fb9f3a\"],[0.8888888888888888,\"#fdca26\"],[1.0,\"#f0f921\"]]}],\"mesh3d\":[{\"type\":\"mesh3d\",\"colorbar\":{\"outlinewidth\":0,\"ticks\":\"\"}}],\"scatter\":[{\"fillpattern\":{\"fillmode\":\"overlay\",\"size\":10,\"solidity\":0.2},\"type\":\"scatter\"}],\"parcoords\":[{\"type\":\"parcoords\",\"line\":{\"colorbar\":{\"outlinewidth\":0,\"ticks\":\"\"}}}],\"scatterpolargl\":[{\"type\":\"scatterpolargl\",\"marker\":{\"colorbar\":{\"outlinewidth\":0,\"ticks\":\"\"}}}],\"bar\":[{\"error_x\":{\"color\":\"#2a3f5f\"},\"error_y\":{\"color\":\"#2a3f5f\"},\"marker\":{\"line\":{\"color\":\"#E5ECF6\",\"width\":0.5},\"pattern\":{\"fillmode\":\"overlay\",\"size\":10,\"solidity\":0.2}},\"type\":\"bar\"}],\"scattergeo\":[{\"type\":\"scattergeo\",\"marker\":{\"colorbar\":{\"outlinewidth\":0,\"ticks\":\"\"}}}],\"scatterpolar\":[{\"type\":\"scatterpolar\",\"marker\":{\"colorbar\":{\"outlinewidth\":0,\"ticks\":\"\"}}}],\"histogram\":[{\"marker\":{\"pattern\":{\"fillmode\":\"overlay\",\"size\":10,\"solidity\":0.2}},\"type\":\"histogram\"}],\"scattergl\":[{\"type\":\"scattergl\",\"marker\":{\"colorbar\":{\"outlinewidth\":0,\"ticks\":\"\"}}}],\"scatter3d\":[{\"type\":\"scatter3d\",\"line\":{\"colorbar\":{\"outlinewidth\":0,\"ticks\":\"\"}},\"marker\":{\"colorbar\":{\"outlinewidth\":0,\"ticks\":\"\"}}}],\"scattermapbox\":[{\"type\":\"scattermapbox\",\"marker\":{\"colorbar\":{\"outlinewidth\":0,\"ticks\":\"\"}}}],\"scatterternary\":[{\"type\":\"scatterternary\",\"marker\":{\"colorbar\":{\"outlinewidth\":0,\"ticks\":\"\"}}}],\"scattercarpet\":[{\"type\":\"scattercarpet\",\"marker\":{\"colorbar\":{\"outlinewidth\":0,\"ticks\":\"\"}}}],\"carpet\":[{\"aaxis\":{\"endlinecolor\":\"#2a3f5f\",\"gridcolor\":\"white\",\"linecolor\":\"white\",\"minorgridcolor\":\"white\",\"startlinecolor\":\"#2a3f5f\"},\"baxis\":{\"endlinecolor\":\"#2a3f5f\",\"gridcolor\":\"white\",\"linecolor\":\"white\",\"minorgridcolor\":\"white\",\"startlinecolor\":\"#2a3f5f\"},\"type\":\"carpet\"}],\"table\":[{\"cells\":{\"fill\":{\"color\":\"#EBF0F8\"},\"line\":{\"color\":\"white\"}},\"header\":{\"fill\":{\"color\":\"#C8D4E3\"},\"line\":{\"color\":\"white\"}},\"type\":\"table\"}],\"barpolar\":[{\"marker\":{\"line\":{\"color\":\"#E5ECF6\",\"width\":0.5},\"pattern\":{\"fillmode\":\"overlay\",\"size\":10,\"solidity\":0.2}},\"type\":\"barpolar\"}],\"pie\":[{\"automargin\":true,\"type\":\"pie\"}]},\"layout\":{\"autotypenumbers\":\"strict\",\"colorway\":[\"#636efa\",\"#EF553B\",\"#00cc96\",\"#ab63fa\",\"#FFA15A\",\"#19d3f3\",\"#FF6692\",\"#B6E880\",\"#FF97FF\",\"#FECB52\"],\"font\":{\"color\":\"#2a3f5f\"},\"hovermode\":\"closest\",\"hoverlabel\":{\"align\":\"left\"},\"paper_bgcolor\":\"white\",\"plot_bgcolor\":\"#E5ECF6\",\"polar\":{\"bgcolor\":\"#E5ECF6\",\"angularaxis\":{\"gridcolor\":\"white\",\"linecolor\":\"white\",\"ticks\":\"\"},\"radialaxis\":{\"gridcolor\":\"white\",\"linecolor\":\"white\",\"ticks\":\"\"}},\"ternary\":{\"bgcolor\":\"#E5ECF6\",\"aaxis\":{\"gridcolor\":\"white\",\"linecolor\":\"white\",\"ticks\":\"\"},\"baxis\":{\"gridcolor\":\"white\",\"linecolor\":\"white\",\"ticks\":\"\"},\"caxis\":{\"gridcolor\":\"white\",\"linecolor\":\"white\",\"ticks\":\"\"}},\"coloraxis\":{\"colorbar\":{\"outlinewidth\":0,\"ticks\":\"\"}},\"colorscale\":{\"sequential\":[[0.0,\"#0d0887\"],[0.1111111111111111,\"#46039f\"],[0.2222222222222222,\"#7201a8\"],[0.3333333333333333,\"#9c179e\"],[0.4444444444444444,\"#bd3786\"],[0.5555555555555556,\"#d8576b\"],[0.6666666666666666,\"#ed7953\"],[0.7777777777777778,\"#fb9f3a\"],[0.8888888888888888,\"#fdca26\"],[1.0,\"#f0f921\"]],\"sequentialminus\":[[0.0,\"#0d0887\"],[0.1111111111111111,\"#46039f\"],[0.2222222222222222,\"#7201a8\"],[0.3333333333333333,\"#9c179e\"],[0.4444444444444444,\"#bd3786\"],[0.5555555555555556,\"#d8576b\"],[0.6666666666666666,\"#ed7953\"],[0.7777777777777778,\"#fb9f3a\"],[0.8888888888888888,\"#fdca26\"],[1.0,\"#f0f921\"]],\"diverging\":[[0,\"#8e0152\"],[0.1,\"#c51b7d\"],[0.2,\"#de77ae\"],[0.3,\"#f1b6da\"],[0.4,\"#fde0ef\"],[0.5,\"#f7f7f7\"],[0.6,\"#e6f5d0\"],[0.7,\"#b8e186\"],[0.8,\"#7fbc41\"],[0.9,\"#4d9221\"],[1,\"#276419\"]]},\"xaxis\":{\"gridcolor\":\"white\",\"linecolor\":\"white\",\"ticks\":\"\",\"title\":{\"standoff\":15},\"zerolinecolor\":\"white\",\"automargin\":true,\"zerolinewidth\":2},\"yaxis\":{\"gridcolor\":\"white\",\"linecolor\":\"white\",\"ticks\":\"\",\"title\":{\"standoff\":15},\"zerolinecolor\":\"white\",\"automargin\":true,\"zerolinewidth\":2},\"scene\":{\"xaxis\":{\"backgroundcolor\":\"#E5ECF6\",\"gridcolor\":\"white\",\"linecolor\":\"white\",\"showbackground\":true,\"ticks\":\"\",\"zerolinecolor\":\"white\",\"gridwidth\":2},\"yaxis\":{\"backgroundcolor\":\"#E5ECF6\",\"gridcolor\":\"white\",\"linecolor\":\"white\",\"showbackground\":true,\"ticks\":\"\",\"zerolinecolor\":\"white\",\"gridwidth\":2},\"zaxis\":{\"backgroundcolor\":\"#E5ECF6\",\"gridcolor\":\"white\",\"linecolor\":\"white\",\"showbackground\":true,\"ticks\":\"\",\"zerolinecolor\":\"white\",\"gridwidth\":2}},\"shapedefaults\":{\"line\":{\"color\":\"#2a3f5f\"}},\"annotationdefaults\":{\"arrowcolor\":\"#2a3f5f\",\"arrowhead\":0,\"arrowwidth\":1},\"geo\":{\"bgcolor\":\"white\",\"landcolor\":\"#E5ECF6\",\"subunitcolor\":\"white\",\"showland\":true,\"showlakes\":true,\"lakecolor\":\"white\"},\"title\":{\"x\":0.05},\"mapbox\":{\"style\":\"light\"}}},\"xaxis\":{\"anchor\":\"y\",\"domain\":[0.0,1.0],\"title\":{\"text\":\"M\\u00eas\"}},\"yaxis\":{\"anchor\":\"x\",\"domain\":[0.0,1.0],\"title\":{\"text\":\"Quantidade\"}},\"legend\":{\"title\":{\"text\":\"Categorias\"},\"tracegroupgap\":0},\"margin\":{\"t\":60},\"font\":{\"family\":\"Courier New, monospace\",\"size\":12,\"color\":\"RebeccaPurple\"},\"title\":{\"text\":\"Plano de Entradas e Estoque\"},\"annotations\":[{\"font\":{\"color\":\"Black\",\"family\":\"Arial, sans-serif\",\"size\":14},\"showarrow\":false,\"text\":\"Cobertura de Estoque: 10 dias\",\"x\":0.95,\"xref\":\"paper\",\"y\":0.9,\"yref\":\"paper\"}]},                        {\"responsive\": true}                    ).then(function(){\n",
       "                            \n",
       "var gd = document.getElementById('80c05814-6068-4bab-a791-9f8878a35280');\n",
       "var x = new MutationObserver(function (mutations, observer) {{\n",
       "        var display = window.getComputedStyle(gd).display;\n",
       "        if (!display || display === 'none') {{\n",
       "            console.log([gd, 'removed!']);\n",
       "            Plotly.purge(gd);\n",
       "            observer.disconnect();\n",
       "        }}\n",
       "}});\n",
       "\n",
       "// Listen for the removal of the full notebook cells\n",
       "var notebookContainer = gd.closest('#notebook-container');\n",
       "if (notebookContainer) {{\n",
       "    x.observe(notebookContainer, {childList: true});\n",
       "}}\n",
       "\n",
       "// Listen for the clearing of the current output cell\n",
       "var outputEl = gd.closest('.output');\n",
       "if (outputEl) {{\n",
       "    x.observe(outputEl, {childList: true});\n",
       "}}\n",
       "\n",
       "                        })                };                });            </script>        </div>"
      ]
     },
     "metadata": {},
     "output_type": "display_data"
    }
   ],
   "source": [
    "import plotly.express as px\n",
    "\n",
    "\n",
    "\n",
    "# Criar a figura\n",
    "figura_plano_entradas = px.line(plano_entradas, x='Mês', y=['Demanda','Estoque_Inicial', 'Entradas', 'Estoque_Final'], markers=True)\n",
    "\n",
    "# Personalizar o layout (títulos, cores, tamanho das fontes, legendas)\n",
    "figura_plano_entradas.update_layout(\n",
    "    title='Plano de Entradas e Estoque',\n",
    "    xaxis_title='Mês',\n",
    "    yaxis_title='Quantidade',\n",
    "    legend_title='Categorias',\n",
    "    font=dict(\n",
    "        family=\"Courier New, monospace\",\n",
    "        size=12,\n",
    "        color=\"RebeccaPurple\"\n",
    "    )\n",
    ")\n",
    "\n",
    "# Adicionar anotação sobre a cobertura de estoque\n",
    "figura_plano_entradas.add_annotation(\n",
    "    xref='paper', yref='paper',\n",
    "    x=0.95, y=0.9,\n",
    "    text='Cobertura de Estoque: 10 dias',\n",
    "    showarrow=False,\n",
    "    font=dict(\n",
    "        family=\"Arial, sans-serif\",\n",
    "        size=14,\n",
    "        color=\"Black\"\n",
    "    )\n",
    ")\n",
    "\n",
    "# Mostrar a figura\n",
    "figura_plano_entradas.show()\n"
   ]
  },
  {
   "cell_type": "code",
   "execution_count": 27,
   "id": "199dc9a1",
   "metadata": {},
   "outputs": [
    {
     "name": "stdout",
     "output_type": "stream",
     "text": [
      "          Mês  Cobertura_Estoque_Dias\n",
      "0  2023-12-01                    21.0\n",
      "1  2024-01-01                    41.0\n",
      "2  2024-02-01                    82.0\n",
      "3  2024-03-01                    40.0\n",
      "4  2024-04-01                    13.0\n",
      "5  2024-05-01                    10.0\n",
      "6  2024-06-01                    10.0\n",
      "7  2024-07-01                    10.0\n",
      "8  2024-08-01                    10.0\n",
      "9  2024-09-01                    10.0\n",
      "10 2024-10-01                    10.0\n",
      "11 2024-11-01                    10.0\n",
      "12 2024-12-01                    10.0\n",
      "13 2025-01-01                    10.0\n",
      "14 2025-02-01                    10.0\n",
      "15 2025-03-01                    10.0\n",
      "16 2025-04-01                    10.0\n",
      "17 2025-05-01                    10.0\n",
      "18 2025-06-01                    10.0\n",
      "19 2025-07-01                    10.0\n",
      "20 2025-08-01                    10.0\n",
      "21 2025-09-01                    10.0\n",
      "22 2025-10-01                    10.0\n",
      "23 2025-11-01                    10.0\n",
      "24 2025-12-01                    10.0\n",
      "25 2026-01-01                    10.0\n",
      "26 2026-02-01                    10.0\n",
      "27 2026-03-01                    10.0\n",
      "28 2026-04-01                    10.0\n",
      "29 2026-05-01                    10.0\n",
      "30 2026-06-01                    10.0\n",
      "31 2026-07-01                    10.0\n",
      "32 2026-08-01                    10.0\n",
      "33 2026-09-01                    10.0\n",
      "34 2026-10-01                    10.0\n",
      "35 2026-11-01                    10.0\n"
     ]
    }
   ],
   "source": [
    "# Selecionar colunas \"Mês\" e \"Margem de Contribuição\"\n",
    "cobertura_dias = plano_entradas.loc[:, [\"Mês\", \"Cobertura_Estoque_Dias\"]]\n",
    "\n",
    "# Exibir o DataFrame resultante\n",
    "print(cobertura_dias)"
   ]
  },
  {
   "cell_type": "code",
   "execution_count": 28,
   "id": "0101293e",
   "metadata": {},
   "outputs": [
    {
     "data": {
      "application/vnd.plotly.v1+json": {
       "config": {
        "plotlyServerURL": "https://plot.ly"
       },
       "data": [
        {
         "hovertemplate": "Mês=%{x}<br>Cobertura_Estoque_Dias=%{y}<extra></extra>",
         "legendgroup": "",
         "line": {
          "color": "#636efa",
          "dash": "solid"
         },
         "marker": {
          "symbol": "circle"
         },
         "mode": "markers+lines",
         "name": "",
         "orientation": "v",
         "showlegend": false,
         "type": "scatter",
         "x": [
          "2023-12-01T00:00:00",
          "2024-01-01T00:00:00",
          "2024-02-01T00:00:00",
          "2024-03-01T00:00:00",
          "2024-04-01T00:00:00",
          "2024-05-01T00:00:00",
          "2024-06-01T00:00:00",
          "2024-07-01T00:00:00",
          "2024-08-01T00:00:00",
          "2024-09-01T00:00:00",
          "2024-10-01T00:00:00",
          "2024-11-01T00:00:00",
          "2024-12-01T00:00:00",
          "2025-01-01T00:00:00",
          "2025-02-01T00:00:00",
          "2025-03-01T00:00:00",
          "2025-04-01T00:00:00",
          "2025-05-01T00:00:00",
          "2025-06-01T00:00:00",
          "2025-07-01T00:00:00",
          "2025-08-01T00:00:00",
          "2025-09-01T00:00:00",
          "2025-10-01T00:00:00",
          "2025-11-01T00:00:00",
          "2025-12-01T00:00:00",
          "2026-01-01T00:00:00",
          "2026-02-01T00:00:00",
          "2026-03-01T00:00:00",
          "2026-04-01T00:00:00",
          "2026-05-01T00:00:00",
          "2026-06-01T00:00:00",
          "2026-07-01T00:00:00",
          "2026-08-01T00:00:00",
          "2026-09-01T00:00:00",
          "2026-10-01T00:00:00",
          "2026-11-01T00:00:00"
         ],
         "xaxis": "x",
         "y": [
          21,
          41,
          82,
          40,
          13,
          10,
          10,
          10,
          10,
          10,
          10,
          10,
          10,
          10,
          10,
          10,
          10,
          10,
          10,
          10,
          10,
          10,
          10,
          10,
          10,
          10,
          10,
          10,
          10,
          10,
          10,
          10,
          10,
          10,
          10,
          10
         ],
         "yaxis": "y"
        }
       ],
       "layout": {
        "annotations": [
         {
          "arrowcolor": "red",
          "arrowhead": 2,
          "ax": 0,
          "ay": -40,
          "showarrow": true,
          "text": "KPI 10 dias",
          "x": "2025-05-17T00:00:00",
          "y": 10
         }
        ],
        "font": {
         "color": "RebeccaPurple",
         "family": "Courier New, monospace",
         "size": 12
        },
        "legend": {
         "title": {
          "text": "Cobertura de Estoque"
         },
         "tracegroupgap": 0
        },
        "margin": {
         "t": 60
        },
        "shapes": [
         {
          "line": {
           "color": "red",
           "dash": "dash"
          },
          "name": "KPI 10 dias",
          "type": "line",
          "x0": "2023-12-01T00:00:00",
          "x1": "2026-11-01T00:00:00",
          "y0": 10,
          "y1": 10
         }
        ],
        "template": {
         "data": {
          "bar": [
           {
            "error_x": {
             "color": "#2a3f5f"
            },
            "error_y": {
             "color": "#2a3f5f"
            },
            "marker": {
             "line": {
              "color": "#E5ECF6",
              "width": 0.5
             },
             "pattern": {
              "fillmode": "overlay",
              "size": 10,
              "solidity": 0.2
             }
            },
            "type": "bar"
           }
          ],
          "barpolar": [
           {
            "marker": {
             "line": {
              "color": "#E5ECF6",
              "width": 0.5
             },
             "pattern": {
              "fillmode": "overlay",
              "size": 10,
              "solidity": 0.2
             }
            },
            "type": "barpolar"
           }
          ],
          "carpet": [
           {
            "aaxis": {
             "endlinecolor": "#2a3f5f",
             "gridcolor": "white",
             "linecolor": "white",
             "minorgridcolor": "white",
             "startlinecolor": "#2a3f5f"
            },
            "baxis": {
             "endlinecolor": "#2a3f5f",
             "gridcolor": "white",
             "linecolor": "white",
             "minorgridcolor": "white",
             "startlinecolor": "#2a3f5f"
            },
            "type": "carpet"
           }
          ],
          "choropleth": [
           {
            "colorbar": {
             "outlinewidth": 0,
             "ticks": ""
            },
            "type": "choropleth"
           }
          ],
          "contour": [
           {
            "colorbar": {
             "outlinewidth": 0,
             "ticks": ""
            },
            "colorscale": [
             [
              0,
              "#0d0887"
             ],
             [
              0.1111111111111111,
              "#46039f"
             ],
             [
              0.2222222222222222,
              "#7201a8"
             ],
             [
              0.3333333333333333,
              "#9c179e"
             ],
             [
              0.4444444444444444,
              "#bd3786"
             ],
             [
              0.5555555555555556,
              "#d8576b"
             ],
             [
              0.6666666666666666,
              "#ed7953"
             ],
             [
              0.7777777777777778,
              "#fb9f3a"
             ],
             [
              0.8888888888888888,
              "#fdca26"
             ],
             [
              1,
              "#f0f921"
             ]
            ],
            "type": "contour"
           }
          ],
          "contourcarpet": [
           {
            "colorbar": {
             "outlinewidth": 0,
             "ticks": ""
            },
            "type": "contourcarpet"
           }
          ],
          "heatmap": [
           {
            "colorbar": {
             "outlinewidth": 0,
             "ticks": ""
            },
            "colorscale": [
             [
              0,
              "#0d0887"
             ],
             [
              0.1111111111111111,
              "#46039f"
             ],
             [
              0.2222222222222222,
              "#7201a8"
             ],
             [
              0.3333333333333333,
              "#9c179e"
             ],
             [
              0.4444444444444444,
              "#bd3786"
             ],
             [
              0.5555555555555556,
              "#d8576b"
             ],
             [
              0.6666666666666666,
              "#ed7953"
             ],
             [
              0.7777777777777778,
              "#fb9f3a"
             ],
             [
              0.8888888888888888,
              "#fdca26"
             ],
             [
              1,
              "#f0f921"
             ]
            ],
            "type": "heatmap"
           }
          ],
          "heatmapgl": [
           {
            "colorbar": {
             "outlinewidth": 0,
             "ticks": ""
            },
            "colorscale": [
             [
              0,
              "#0d0887"
             ],
             [
              0.1111111111111111,
              "#46039f"
             ],
             [
              0.2222222222222222,
              "#7201a8"
             ],
             [
              0.3333333333333333,
              "#9c179e"
             ],
             [
              0.4444444444444444,
              "#bd3786"
             ],
             [
              0.5555555555555556,
              "#d8576b"
             ],
             [
              0.6666666666666666,
              "#ed7953"
             ],
             [
              0.7777777777777778,
              "#fb9f3a"
             ],
             [
              0.8888888888888888,
              "#fdca26"
             ],
             [
              1,
              "#f0f921"
             ]
            ],
            "type": "heatmapgl"
           }
          ],
          "histogram": [
           {
            "marker": {
             "pattern": {
              "fillmode": "overlay",
              "size": 10,
              "solidity": 0.2
             }
            },
            "type": "histogram"
           }
          ],
          "histogram2d": [
           {
            "colorbar": {
             "outlinewidth": 0,
             "ticks": ""
            },
            "colorscale": [
             [
              0,
              "#0d0887"
             ],
             [
              0.1111111111111111,
              "#46039f"
             ],
             [
              0.2222222222222222,
              "#7201a8"
             ],
             [
              0.3333333333333333,
              "#9c179e"
             ],
             [
              0.4444444444444444,
              "#bd3786"
             ],
             [
              0.5555555555555556,
              "#d8576b"
             ],
             [
              0.6666666666666666,
              "#ed7953"
             ],
             [
              0.7777777777777778,
              "#fb9f3a"
             ],
             [
              0.8888888888888888,
              "#fdca26"
             ],
             [
              1,
              "#f0f921"
             ]
            ],
            "type": "histogram2d"
           }
          ],
          "histogram2dcontour": [
           {
            "colorbar": {
             "outlinewidth": 0,
             "ticks": ""
            },
            "colorscale": [
             [
              0,
              "#0d0887"
             ],
             [
              0.1111111111111111,
              "#46039f"
             ],
             [
              0.2222222222222222,
              "#7201a8"
             ],
             [
              0.3333333333333333,
              "#9c179e"
             ],
             [
              0.4444444444444444,
              "#bd3786"
             ],
             [
              0.5555555555555556,
              "#d8576b"
             ],
             [
              0.6666666666666666,
              "#ed7953"
             ],
             [
              0.7777777777777778,
              "#fb9f3a"
             ],
             [
              0.8888888888888888,
              "#fdca26"
             ],
             [
              1,
              "#f0f921"
             ]
            ],
            "type": "histogram2dcontour"
           }
          ],
          "mesh3d": [
           {
            "colorbar": {
             "outlinewidth": 0,
             "ticks": ""
            },
            "type": "mesh3d"
           }
          ],
          "parcoords": [
           {
            "line": {
             "colorbar": {
              "outlinewidth": 0,
              "ticks": ""
             }
            },
            "type": "parcoords"
           }
          ],
          "pie": [
           {
            "automargin": true,
            "type": "pie"
           }
          ],
          "scatter": [
           {
            "fillpattern": {
             "fillmode": "overlay",
             "size": 10,
             "solidity": 0.2
            },
            "type": "scatter"
           }
          ],
          "scatter3d": [
           {
            "line": {
             "colorbar": {
              "outlinewidth": 0,
              "ticks": ""
             }
            },
            "marker": {
             "colorbar": {
              "outlinewidth": 0,
              "ticks": ""
             }
            },
            "type": "scatter3d"
           }
          ],
          "scattercarpet": [
           {
            "marker": {
             "colorbar": {
              "outlinewidth": 0,
              "ticks": ""
             }
            },
            "type": "scattercarpet"
           }
          ],
          "scattergeo": [
           {
            "marker": {
             "colorbar": {
              "outlinewidth": 0,
              "ticks": ""
             }
            },
            "type": "scattergeo"
           }
          ],
          "scattergl": [
           {
            "marker": {
             "colorbar": {
              "outlinewidth": 0,
              "ticks": ""
             }
            },
            "type": "scattergl"
           }
          ],
          "scattermapbox": [
           {
            "marker": {
             "colorbar": {
              "outlinewidth": 0,
              "ticks": ""
             }
            },
            "type": "scattermapbox"
           }
          ],
          "scatterpolar": [
           {
            "marker": {
             "colorbar": {
              "outlinewidth": 0,
              "ticks": ""
             }
            },
            "type": "scatterpolar"
           }
          ],
          "scatterpolargl": [
           {
            "marker": {
             "colorbar": {
              "outlinewidth": 0,
              "ticks": ""
             }
            },
            "type": "scatterpolargl"
           }
          ],
          "scatterternary": [
           {
            "marker": {
             "colorbar": {
              "outlinewidth": 0,
              "ticks": ""
             }
            },
            "type": "scatterternary"
           }
          ],
          "surface": [
           {
            "colorbar": {
             "outlinewidth": 0,
             "ticks": ""
            },
            "colorscale": [
             [
              0,
              "#0d0887"
             ],
             [
              0.1111111111111111,
              "#46039f"
             ],
             [
              0.2222222222222222,
              "#7201a8"
             ],
             [
              0.3333333333333333,
              "#9c179e"
             ],
             [
              0.4444444444444444,
              "#bd3786"
             ],
             [
              0.5555555555555556,
              "#d8576b"
             ],
             [
              0.6666666666666666,
              "#ed7953"
             ],
             [
              0.7777777777777778,
              "#fb9f3a"
             ],
             [
              0.8888888888888888,
              "#fdca26"
             ],
             [
              1,
              "#f0f921"
             ]
            ],
            "type": "surface"
           }
          ],
          "table": [
           {
            "cells": {
             "fill": {
              "color": "#EBF0F8"
             },
             "line": {
              "color": "white"
             }
            },
            "header": {
             "fill": {
              "color": "#C8D4E3"
             },
             "line": {
              "color": "white"
             }
            },
            "type": "table"
           }
          ]
         },
         "layout": {
          "annotationdefaults": {
           "arrowcolor": "#2a3f5f",
           "arrowhead": 0,
           "arrowwidth": 1
          },
          "autotypenumbers": "strict",
          "coloraxis": {
           "colorbar": {
            "outlinewidth": 0,
            "ticks": ""
           }
          },
          "colorscale": {
           "diverging": [
            [
             0,
             "#8e0152"
            ],
            [
             0.1,
             "#c51b7d"
            ],
            [
             0.2,
             "#de77ae"
            ],
            [
             0.3,
             "#f1b6da"
            ],
            [
             0.4,
             "#fde0ef"
            ],
            [
             0.5,
             "#f7f7f7"
            ],
            [
             0.6,
             "#e6f5d0"
            ],
            [
             0.7,
             "#b8e186"
            ],
            [
             0.8,
             "#7fbc41"
            ],
            [
             0.9,
             "#4d9221"
            ],
            [
             1,
             "#276419"
            ]
           ],
           "sequential": [
            [
             0,
             "#0d0887"
            ],
            [
             0.1111111111111111,
             "#46039f"
            ],
            [
             0.2222222222222222,
             "#7201a8"
            ],
            [
             0.3333333333333333,
             "#9c179e"
            ],
            [
             0.4444444444444444,
             "#bd3786"
            ],
            [
             0.5555555555555556,
             "#d8576b"
            ],
            [
             0.6666666666666666,
             "#ed7953"
            ],
            [
             0.7777777777777778,
             "#fb9f3a"
            ],
            [
             0.8888888888888888,
             "#fdca26"
            ],
            [
             1,
             "#f0f921"
            ]
           ],
           "sequentialminus": [
            [
             0,
             "#0d0887"
            ],
            [
             0.1111111111111111,
             "#46039f"
            ],
            [
             0.2222222222222222,
             "#7201a8"
            ],
            [
             0.3333333333333333,
             "#9c179e"
            ],
            [
             0.4444444444444444,
             "#bd3786"
            ],
            [
             0.5555555555555556,
             "#d8576b"
            ],
            [
             0.6666666666666666,
             "#ed7953"
            ],
            [
             0.7777777777777778,
             "#fb9f3a"
            ],
            [
             0.8888888888888888,
             "#fdca26"
            ],
            [
             1,
             "#f0f921"
            ]
           ]
          },
          "colorway": [
           "#636efa",
           "#EF553B",
           "#00cc96",
           "#ab63fa",
           "#FFA15A",
           "#19d3f3",
           "#FF6692",
           "#B6E880",
           "#FF97FF",
           "#FECB52"
          ],
          "font": {
           "color": "#2a3f5f"
          },
          "geo": {
           "bgcolor": "white",
           "lakecolor": "white",
           "landcolor": "#E5ECF6",
           "showlakes": true,
           "showland": true,
           "subunitcolor": "white"
          },
          "hoverlabel": {
           "align": "left"
          },
          "hovermode": "closest",
          "mapbox": {
           "style": "light"
          },
          "paper_bgcolor": "white",
          "plot_bgcolor": "#E5ECF6",
          "polar": {
           "angularaxis": {
            "gridcolor": "white",
            "linecolor": "white",
            "ticks": ""
           },
           "bgcolor": "#E5ECF6",
           "radialaxis": {
            "gridcolor": "white",
            "linecolor": "white",
            "ticks": ""
           }
          },
          "scene": {
           "xaxis": {
            "backgroundcolor": "#E5ECF6",
            "gridcolor": "white",
            "gridwidth": 2,
            "linecolor": "white",
            "showbackground": true,
            "ticks": "",
            "zerolinecolor": "white"
           },
           "yaxis": {
            "backgroundcolor": "#E5ECF6",
            "gridcolor": "white",
            "gridwidth": 2,
            "linecolor": "white",
            "showbackground": true,
            "ticks": "",
            "zerolinecolor": "white"
           },
           "zaxis": {
            "backgroundcolor": "#E5ECF6",
            "gridcolor": "white",
            "gridwidth": 2,
            "linecolor": "white",
            "showbackground": true,
            "ticks": "",
            "zerolinecolor": "white"
           }
          },
          "shapedefaults": {
           "line": {
            "color": "#2a3f5f"
           }
          },
          "ternary": {
           "aaxis": {
            "gridcolor": "white",
            "linecolor": "white",
            "ticks": ""
           },
           "baxis": {
            "gridcolor": "white",
            "linecolor": "white",
            "ticks": ""
           },
           "bgcolor": "#E5ECF6",
           "caxis": {
            "gridcolor": "white",
            "linecolor": "white",
            "ticks": ""
           }
          },
          "title": {
           "x": 0.05
          },
          "xaxis": {
           "automargin": true,
           "gridcolor": "white",
           "linecolor": "white",
           "ticks": "",
           "title": {
            "standoff": 15
           },
           "zerolinecolor": "white",
           "zerolinewidth": 2
          },
          "yaxis": {
           "automargin": true,
           "gridcolor": "white",
           "linecolor": "white",
           "ticks": "",
           "title": {
            "standoff": 15
           },
           "zerolinecolor": "white",
           "zerolinewidth": 2
          }
         }
        },
        "title": {
         "text": "Cobertura de Estoque"
        },
        "xaxis": {
         "anchor": "y",
         "domain": [
          0,
          1
         ],
         "title": {
          "text": "Mês"
         }
        },
        "yaxis": {
         "anchor": "x",
         "domain": [
          0,
          1
         ],
         "title": {
          "text": "Dias"
         }
        }
       }
      },
      "text/html": [
       "<div>                            <div id=\"def283d1-a0c5-4727-8d83-1820f8c3e82a\" class=\"plotly-graph-div\" style=\"height:525px; width:100%;\"></div>            <script type=\"text/javascript\">                require([\"plotly\"], function(Plotly) {                    window.PLOTLYENV=window.PLOTLYENV || {};                                    if (document.getElementById(\"def283d1-a0c5-4727-8d83-1820f8c3e82a\")) {                    Plotly.newPlot(                        \"def283d1-a0c5-4727-8d83-1820f8c3e82a\",                        [{\"hovertemplate\":\"M\\u00eas=%{x}\\u003cbr\\u003eCobertura_Estoque_Dias=%{y}\\u003cextra\\u003e\\u003c\\u002fextra\\u003e\",\"legendgroup\":\"\",\"line\":{\"color\":\"#636efa\",\"dash\":\"solid\"},\"marker\":{\"symbol\":\"circle\"},\"mode\":\"markers+lines\",\"name\":\"\",\"orientation\":\"v\",\"showlegend\":false,\"x\":[\"2023-12-01T00:00:00\",\"2024-01-01T00:00:00\",\"2024-02-01T00:00:00\",\"2024-03-01T00:00:00\",\"2024-04-01T00:00:00\",\"2024-05-01T00:00:00\",\"2024-06-01T00:00:00\",\"2024-07-01T00:00:00\",\"2024-08-01T00:00:00\",\"2024-09-01T00:00:00\",\"2024-10-01T00:00:00\",\"2024-11-01T00:00:00\",\"2024-12-01T00:00:00\",\"2025-01-01T00:00:00\",\"2025-02-01T00:00:00\",\"2025-03-01T00:00:00\",\"2025-04-01T00:00:00\",\"2025-05-01T00:00:00\",\"2025-06-01T00:00:00\",\"2025-07-01T00:00:00\",\"2025-08-01T00:00:00\",\"2025-09-01T00:00:00\",\"2025-10-01T00:00:00\",\"2025-11-01T00:00:00\",\"2025-12-01T00:00:00\",\"2026-01-01T00:00:00\",\"2026-02-01T00:00:00\",\"2026-03-01T00:00:00\",\"2026-04-01T00:00:00\",\"2026-05-01T00:00:00\",\"2026-06-01T00:00:00\",\"2026-07-01T00:00:00\",\"2026-08-01T00:00:00\",\"2026-09-01T00:00:00\",\"2026-10-01T00:00:00\",\"2026-11-01T00:00:00\"],\"xaxis\":\"x\",\"y\":[21.0,41.0,82.0,40.0,13.0,10.0,10.0,10.0,10.0,10.0,10.0,10.0,10.0,10.0,10.0,10.0,10.0,10.0,10.0,10.0,10.0,10.0,10.0,10.0,10.0,10.0,10.0,10.0,10.0,10.0,10.0,10.0,10.0,10.0,10.0,10.0],\"yaxis\":\"y\",\"type\":\"scatter\"}],                        {\"template\":{\"data\":{\"histogram2dcontour\":[{\"type\":\"histogram2dcontour\",\"colorbar\":{\"outlinewidth\":0,\"ticks\":\"\"},\"colorscale\":[[0.0,\"#0d0887\"],[0.1111111111111111,\"#46039f\"],[0.2222222222222222,\"#7201a8\"],[0.3333333333333333,\"#9c179e\"],[0.4444444444444444,\"#bd3786\"],[0.5555555555555556,\"#d8576b\"],[0.6666666666666666,\"#ed7953\"],[0.7777777777777778,\"#fb9f3a\"],[0.8888888888888888,\"#fdca26\"],[1.0,\"#f0f921\"]]}],\"choropleth\":[{\"type\":\"choropleth\",\"colorbar\":{\"outlinewidth\":0,\"ticks\":\"\"}}],\"histogram2d\":[{\"type\":\"histogram2d\",\"colorbar\":{\"outlinewidth\":0,\"ticks\":\"\"},\"colorscale\":[[0.0,\"#0d0887\"],[0.1111111111111111,\"#46039f\"],[0.2222222222222222,\"#7201a8\"],[0.3333333333333333,\"#9c179e\"],[0.4444444444444444,\"#bd3786\"],[0.5555555555555556,\"#d8576b\"],[0.6666666666666666,\"#ed7953\"],[0.7777777777777778,\"#fb9f3a\"],[0.8888888888888888,\"#fdca26\"],[1.0,\"#f0f921\"]]}],\"heatmap\":[{\"type\":\"heatmap\",\"colorbar\":{\"outlinewidth\":0,\"ticks\":\"\"},\"colorscale\":[[0.0,\"#0d0887\"],[0.1111111111111111,\"#46039f\"],[0.2222222222222222,\"#7201a8\"],[0.3333333333333333,\"#9c179e\"],[0.4444444444444444,\"#bd3786\"],[0.5555555555555556,\"#d8576b\"],[0.6666666666666666,\"#ed7953\"],[0.7777777777777778,\"#fb9f3a\"],[0.8888888888888888,\"#fdca26\"],[1.0,\"#f0f921\"]]}],\"heatmapgl\":[{\"type\":\"heatmapgl\",\"colorbar\":{\"outlinewidth\":0,\"ticks\":\"\"},\"colorscale\":[[0.0,\"#0d0887\"],[0.1111111111111111,\"#46039f\"],[0.2222222222222222,\"#7201a8\"],[0.3333333333333333,\"#9c179e\"],[0.4444444444444444,\"#bd3786\"],[0.5555555555555556,\"#d8576b\"],[0.6666666666666666,\"#ed7953\"],[0.7777777777777778,\"#fb9f3a\"],[0.8888888888888888,\"#fdca26\"],[1.0,\"#f0f921\"]]}],\"contourcarpet\":[{\"type\":\"contourcarpet\",\"colorbar\":{\"outlinewidth\":0,\"ticks\":\"\"}}],\"contour\":[{\"type\":\"contour\",\"colorbar\":{\"outlinewidth\":0,\"ticks\":\"\"},\"colorscale\":[[0.0,\"#0d0887\"],[0.1111111111111111,\"#46039f\"],[0.2222222222222222,\"#7201a8\"],[0.3333333333333333,\"#9c179e\"],[0.4444444444444444,\"#bd3786\"],[0.5555555555555556,\"#d8576b\"],[0.6666666666666666,\"#ed7953\"],[0.7777777777777778,\"#fb9f3a\"],[0.8888888888888888,\"#fdca26\"],[1.0,\"#f0f921\"]]}],\"surface\":[{\"type\":\"surface\",\"colorbar\":{\"outlinewidth\":0,\"ticks\":\"\"},\"colorscale\":[[0.0,\"#0d0887\"],[0.1111111111111111,\"#46039f\"],[0.2222222222222222,\"#7201a8\"],[0.3333333333333333,\"#9c179e\"],[0.4444444444444444,\"#bd3786\"],[0.5555555555555556,\"#d8576b\"],[0.6666666666666666,\"#ed7953\"],[0.7777777777777778,\"#fb9f3a\"],[0.8888888888888888,\"#fdca26\"],[1.0,\"#f0f921\"]]}],\"mesh3d\":[{\"type\":\"mesh3d\",\"colorbar\":{\"outlinewidth\":0,\"ticks\":\"\"}}],\"scatter\":[{\"fillpattern\":{\"fillmode\":\"overlay\",\"size\":10,\"solidity\":0.2},\"type\":\"scatter\"}],\"parcoords\":[{\"type\":\"parcoords\",\"line\":{\"colorbar\":{\"outlinewidth\":0,\"ticks\":\"\"}}}],\"scatterpolargl\":[{\"type\":\"scatterpolargl\",\"marker\":{\"colorbar\":{\"outlinewidth\":0,\"ticks\":\"\"}}}],\"bar\":[{\"error_x\":{\"color\":\"#2a3f5f\"},\"error_y\":{\"color\":\"#2a3f5f\"},\"marker\":{\"line\":{\"color\":\"#E5ECF6\",\"width\":0.5},\"pattern\":{\"fillmode\":\"overlay\",\"size\":10,\"solidity\":0.2}},\"type\":\"bar\"}],\"scattergeo\":[{\"type\":\"scattergeo\",\"marker\":{\"colorbar\":{\"outlinewidth\":0,\"ticks\":\"\"}}}],\"scatterpolar\":[{\"type\":\"scatterpolar\",\"marker\":{\"colorbar\":{\"outlinewidth\":0,\"ticks\":\"\"}}}],\"histogram\":[{\"marker\":{\"pattern\":{\"fillmode\":\"overlay\",\"size\":10,\"solidity\":0.2}},\"type\":\"histogram\"}],\"scattergl\":[{\"type\":\"scattergl\",\"marker\":{\"colorbar\":{\"outlinewidth\":0,\"ticks\":\"\"}}}],\"scatter3d\":[{\"type\":\"scatter3d\",\"line\":{\"colorbar\":{\"outlinewidth\":0,\"ticks\":\"\"}},\"marker\":{\"colorbar\":{\"outlinewidth\":0,\"ticks\":\"\"}}}],\"scattermapbox\":[{\"type\":\"scattermapbox\",\"marker\":{\"colorbar\":{\"outlinewidth\":0,\"ticks\":\"\"}}}],\"scatterternary\":[{\"type\":\"scatterternary\",\"marker\":{\"colorbar\":{\"outlinewidth\":0,\"ticks\":\"\"}}}],\"scattercarpet\":[{\"type\":\"scattercarpet\",\"marker\":{\"colorbar\":{\"outlinewidth\":0,\"ticks\":\"\"}}}],\"carpet\":[{\"aaxis\":{\"endlinecolor\":\"#2a3f5f\",\"gridcolor\":\"white\",\"linecolor\":\"white\",\"minorgridcolor\":\"white\",\"startlinecolor\":\"#2a3f5f\"},\"baxis\":{\"endlinecolor\":\"#2a3f5f\",\"gridcolor\":\"white\",\"linecolor\":\"white\",\"minorgridcolor\":\"white\",\"startlinecolor\":\"#2a3f5f\"},\"type\":\"carpet\"}],\"table\":[{\"cells\":{\"fill\":{\"color\":\"#EBF0F8\"},\"line\":{\"color\":\"white\"}},\"header\":{\"fill\":{\"color\":\"#C8D4E3\"},\"line\":{\"color\":\"white\"}},\"type\":\"table\"}],\"barpolar\":[{\"marker\":{\"line\":{\"color\":\"#E5ECF6\",\"width\":0.5},\"pattern\":{\"fillmode\":\"overlay\",\"size\":10,\"solidity\":0.2}},\"type\":\"barpolar\"}],\"pie\":[{\"automargin\":true,\"type\":\"pie\"}]},\"layout\":{\"autotypenumbers\":\"strict\",\"colorway\":[\"#636efa\",\"#EF553B\",\"#00cc96\",\"#ab63fa\",\"#FFA15A\",\"#19d3f3\",\"#FF6692\",\"#B6E880\",\"#FF97FF\",\"#FECB52\"],\"font\":{\"color\":\"#2a3f5f\"},\"hovermode\":\"closest\",\"hoverlabel\":{\"align\":\"left\"},\"paper_bgcolor\":\"white\",\"plot_bgcolor\":\"#E5ECF6\",\"polar\":{\"bgcolor\":\"#E5ECF6\",\"angularaxis\":{\"gridcolor\":\"white\",\"linecolor\":\"white\",\"ticks\":\"\"},\"radialaxis\":{\"gridcolor\":\"white\",\"linecolor\":\"white\",\"ticks\":\"\"}},\"ternary\":{\"bgcolor\":\"#E5ECF6\",\"aaxis\":{\"gridcolor\":\"white\",\"linecolor\":\"white\",\"ticks\":\"\"},\"baxis\":{\"gridcolor\":\"white\",\"linecolor\":\"white\",\"ticks\":\"\"},\"caxis\":{\"gridcolor\":\"white\",\"linecolor\":\"white\",\"ticks\":\"\"}},\"coloraxis\":{\"colorbar\":{\"outlinewidth\":0,\"ticks\":\"\"}},\"colorscale\":{\"sequential\":[[0.0,\"#0d0887\"],[0.1111111111111111,\"#46039f\"],[0.2222222222222222,\"#7201a8\"],[0.3333333333333333,\"#9c179e\"],[0.4444444444444444,\"#bd3786\"],[0.5555555555555556,\"#d8576b\"],[0.6666666666666666,\"#ed7953\"],[0.7777777777777778,\"#fb9f3a\"],[0.8888888888888888,\"#fdca26\"],[1.0,\"#f0f921\"]],\"sequentialminus\":[[0.0,\"#0d0887\"],[0.1111111111111111,\"#46039f\"],[0.2222222222222222,\"#7201a8\"],[0.3333333333333333,\"#9c179e\"],[0.4444444444444444,\"#bd3786\"],[0.5555555555555556,\"#d8576b\"],[0.6666666666666666,\"#ed7953\"],[0.7777777777777778,\"#fb9f3a\"],[0.8888888888888888,\"#fdca26\"],[1.0,\"#f0f921\"]],\"diverging\":[[0,\"#8e0152\"],[0.1,\"#c51b7d\"],[0.2,\"#de77ae\"],[0.3,\"#f1b6da\"],[0.4,\"#fde0ef\"],[0.5,\"#f7f7f7\"],[0.6,\"#e6f5d0\"],[0.7,\"#b8e186\"],[0.8,\"#7fbc41\"],[0.9,\"#4d9221\"],[1,\"#276419\"]]},\"xaxis\":{\"gridcolor\":\"white\",\"linecolor\":\"white\",\"ticks\":\"\",\"title\":{\"standoff\":15},\"zerolinecolor\":\"white\",\"automargin\":true,\"zerolinewidth\":2},\"yaxis\":{\"gridcolor\":\"white\",\"linecolor\":\"white\",\"ticks\":\"\",\"title\":{\"standoff\":15},\"zerolinecolor\":\"white\",\"automargin\":true,\"zerolinewidth\":2},\"scene\":{\"xaxis\":{\"backgroundcolor\":\"#E5ECF6\",\"gridcolor\":\"white\",\"linecolor\":\"white\",\"showbackground\":true,\"ticks\":\"\",\"zerolinecolor\":\"white\",\"gridwidth\":2},\"yaxis\":{\"backgroundcolor\":\"#E5ECF6\",\"gridcolor\":\"white\",\"linecolor\":\"white\",\"showbackground\":true,\"ticks\":\"\",\"zerolinecolor\":\"white\",\"gridwidth\":2},\"zaxis\":{\"backgroundcolor\":\"#E5ECF6\",\"gridcolor\":\"white\",\"linecolor\":\"white\",\"showbackground\":true,\"ticks\":\"\",\"zerolinecolor\":\"white\",\"gridwidth\":2}},\"shapedefaults\":{\"line\":{\"color\":\"#2a3f5f\"}},\"annotationdefaults\":{\"arrowcolor\":\"#2a3f5f\",\"arrowhead\":0,\"arrowwidth\":1},\"geo\":{\"bgcolor\":\"white\",\"landcolor\":\"#E5ECF6\",\"subunitcolor\":\"white\",\"showland\":true,\"showlakes\":true,\"lakecolor\":\"white\"},\"title\":{\"x\":0.05},\"mapbox\":{\"style\":\"light\"}}},\"xaxis\":{\"anchor\":\"y\",\"domain\":[0.0,1.0],\"title\":{\"text\":\"M\\u00eas\"}},\"yaxis\":{\"anchor\":\"x\",\"domain\":[0.0,1.0],\"title\":{\"text\":\"Dias\"}},\"legend\":{\"tracegroupgap\":0,\"title\":{\"text\":\"Cobertura de Estoque\"}},\"margin\":{\"t\":60},\"shapes\":[{\"line\":{\"color\":\"red\",\"dash\":\"dash\"},\"name\":\"KPI 10 dias\",\"type\":\"line\",\"x0\":\"2023-12-01T00:00:00\",\"x1\":\"2026-11-01T00:00:00\",\"y0\":10,\"y1\":10}],\"annotations\":[{\"arrowcolor\":\"red\",\"arrowhead\":2,\"ax\":0,\"ay\":-40,\"showarrow\":true,\"text\":\"KPI 10 dias\",\"x\":\"2025-05-17T00:00:00\",\"y\":10}],\"font\":{\"family\":\"Courier New, monospace\",\"size\":12,\"color\":\"RebeccaPurple\"},\"title\":{\"text\":\"Cobertura de Estoque\"}},                        {\"responsive\": true}                    ).then(function(){\n",
       "                            \n",
       "var gd = document.getElementById('def283d1-a0c5-4727-8d83-1820f8c3e82a');\n",
       "var x = new MutationObserver(function (mutations, observer) {{\n",
       "        var display = window.getComputedStyle(gd).display;\n",
       "        if (!display || display === 'none') {{\n",
       "            console.log([gd, 'removed!']);\n",
       "            Plotly.purge(gd);\n",
       "            observer.disconnect();\n",
       "        }}\n",
       "}});\n",
       "\n",
       "// Listen for the removal of the full notebook cells\n",
       "var notebookContainer = gd.closest('#notebook-container');\n",
       "if (notebookContainer) {{\n",
       "    x.observe(notebookContainer, {childList: true});\n",
       "}}\n",
       "\n",
       "// Listen for the clearing of the current output cell\n",
       "var outputEl = gd.closest('.output');\n",
       "if (outputEl) {{\n",
       "    x.observe(outputEl, {childList: true});\n",
       "}}\n",
       "\n",
       "                        })                };                });            </script>        </div>"
      ]
     },
     "metadata": {},
     "output_type": "display_data"
    }
   ],
   "source": [
    "import plotly.express as px\n",
    "import pandas as pd\n",
    "\n",
    "# Supondo que 'Mês' seja a coluna de datas no seu DataFrame\n",
    "cobertura_dias['Mês'] = pd.to_datetime(cobertura_dias['Mês'])\n",
    "\n",
    "# Criar a figura com Plotly Express\n",
    "figura_cobertura_dias = px.line(cobertura_dias, x='Mês', y='Cobertura_Estoque_Dias', markers=True)\n",
    "\n",
    "# Adicionar uma linha horizontal para o KPI de 15 dias\n",
    "figura_cobertura_dias.add_shape(\n",
    "    type='line',\n",
    "    x0=df['Mês'].min(),\n",
    "    x1=df['Mês'].max(),\n",
    "    y0=10,\n",
    "    y1=10,\n",
    "    line=dict(color='red', dash='dash'),\n",
    "    name='KPI 10 dias'\n",
    ")\n",
    "\n",
    "# Adicionar anotação com a legenda do KPI\n",
    "figura_cobertura_dias.add_annotation(\n",
    "    x=df['Mês'].mean(),\n",
    "    y=10,\n",
    "    text='KPI 10 dias',\n",
    "    showarrow=True,\n",
    "    arrowhead=2,\n",
    "    arrowcolor='red',\n",
    "    ax=0,\n",
    "    ay=-40\n",
    ")\n",
    "\n",
    "# Personalizar o layout (títulos, cores, tamanho das fontes, legendas)\n",
    "figura_cobertura_dias.update_layout(\n",
    "    title='Cobertura de Estoque',\n",
    "    xaxis_title='Mês',\n",
    "    yaxis_title='Dias',\n",
    "    legend_title='Cobertura de Estoque',\n",
    "    font=dict(\n",
    "        family=\"Courier New, monospace\",\n",
    "        size=12,\n",
    "        color=\"RebeccaPurple\"\n",
    "    )\n",
    ")\n",
    "\n",
    "# Mostrar a figura\n",
    "figura_cobertura_dias.show()"
   ]
  },
  {
   "cell_type": "markdown",
   "id": "4fad31ce",
   "metadata": {},
   "source": [
    "# PLANEJAMENTO FINANCEIRO (RECEITA, CUSTO DO PRODUTO VENDIDO E MARGEM DE CONTRIBUIÇÃO)¶¶"
   ]
  },
  {
   "cell_type": "code",
   "execution_count": 18,
   "id": "13ac3aa9",
   "metadata": {},
   "outputs": [
    {
     "data": {
      "text/html": [
       "<div>\n",
       "<style scoped>\n",
       "    .dataframe tbody tr th:only-of-type {\n",
       "        vertical-align: middle;\n",
       "    }\n",
       "\n",
       "    .dataframe tbody tr th {\n",
       "        vertical-align: top;\n",
       "    }\n",
       "\n",
       "    .dataframe thead th {\n",
       "        text-align: right;\n",
       "    }\n",
       "</style>\n",
       "<table border=\"1\" class=\"dataframe\">\n",
       "  <thead>\n",
       "    <tr style=\"text-align: right;\">\n",
       "      <th></th>\n",
       "      <th>Mês</th>\n",
       "      <th>Scania</th>\n",
       "      <th>Preço_médio</th>\n",
       "      <th>Custo_Produto_Vendido</th>\n",
       "    </tr>\n",
       "  </thead>\n",
       "  <tbody>\n",
       "    <tr>\n",
       "      <th>0</th>\n",
       "      <td>2023-12-01</td>\n",
       "      <td>793.475</td>\n",
       "      <td>658765.80</td>\n",
       "      <td>483021.0000</td>\n",
       "    </tr>\n",
       "    <tr>\n",
       "      <th>1</th>\n",
       "      <td>2024-01-01</td>\n",
       "      <td>657.645</td>\n",
       "      <td>658765.80</td>\n",
       "      <td>484788.1500</td>\n",
       "    </tr>\n",
       "    <tr>\n",
       "      <th>2</th>\n",
       "      <td>2024-02-01</td>\n",
       "      <td>600.780</td>\n",
       "      <td>639523.50</td>\n",
       "      <td>483021.0000</td>\n",
       "    </tr>\n",
       "    <tr>\n",
       "      <th>3</th>\n",
       "      <td>2024-03-01</td>\n",
       "      <td>703.715</td>\n",
       "      <td>633864.00</td>\n",
       "      <td>517068.0900</td>\n",
       "    </tr>\n",
       "    <tr>\n",
       "      <th>4</th>\n",
       "      <td>2024-04-01</td>\n",
       "      <td>644.640</td>\n",
       "      <td>645183.00</td>\n",
       "      <td>492445.8000</td>\n",
       "    </tr>\n",
       "    <tr>\n",
       "      <th>5</th>\n",
       "      <td>2024-05-01</td>\n",
       "      <td>686.970</td>\n",
       "      <td>673480.50</td>\n",
       "      <td>494212.9500</td>\n",
       "    </tr>\n",
       "    <tr>\n",
       "      <th>6</th>\n",
       "      <td>2024-06-01</td>\n",
       "      <td>707.965</td>\n",
       "      <td>672348.60</td>\n",
       "      <td>519542.1000</td>\n",
       "    </tr>\n",
       "    <tr>\n",
       "      <th>7</th>\n",
       "      <td>2024-07-01</td>\n",
       "      <td>747.235</td>\n",
       "      <td>662161.50</td>\n",
       "      <td>517686.5925</td>\n",
       "    </tr>\n",
       "    <tr>\n",
       "      <th>8</th>\n",
       "      <td>2024-08-01</td>\n",
       "      <td>769.165</td>\n",
       "      <td>656502.00</td>\n",
       "      <td>516202.1865</td>\n",
       "    </tr>\n",
       "    <tr>\n",
       "      <th>9</th>\n",
       "      <td>2024-09-01</td>\n",
       "      <td>727.515</td>\n",
       "      <td>658765.80</td>\n",
       "      <td>513975.5775</td>\n",
       "    </tr>\n",
       "    <tr>\n",
       "      <th>10</th>\n",
       "      <td>2024-10-01</td>\n",
       "      <td>744.005</td>\n",
       "      <td>662161.50</td>\n",
       "      <td>489500.5500</td>\n",
       "    </tr>\n",
       "    <tr>\n",
       "      <th>11</th>\n",
       "      <td>2024-11-01</td>\n",
       "      <td>731.595</td>\n",
       "      <td>662161.50</td>\n",
       "      <td>490089.6000</td>\n",
       "    </tr>\n",
       "    <tr>\n",
       "      <th>12</th>\n",
       "      <td>2024-12-01</td>\n",
       "      <td>789.820</td>\n",
       "      <td>661029.60</td>\n",
       "      <td>492445.8000</td>\n",
       "    </tr>\n",
       "    <tr>\n",
       "      <th>13</th>\n",
       "      <td>2025-01-01</td>\n",
       "      <td>659.175</td>\n",
       "      <td>662161.50</td>\n",
       "      <td>493034.8500</td>\n",
       "    </tr>\n",
       "    <tr>\n",
       "      <th>14</th>\n",
       "      <td>2025-02-01</td>\n",
       "      <td>605.030</td>\n",
       "      <td>673480.50</td>\n",
       "      <td>494212.9500</td>\n",
       "    </tr>\n",
       "    <tr>\n",
       "      <th>15</th>\n",
       "      <td>2025-03-01</td>\n",
       "      <td>703.205</td>\n",
       "      <td>681403.80</td>\n",
       "      <td>519542.1000</td>\n",
       "    </tr>\n",
       "    <tr>\n",
       "      <th>16</th>\n",
       "      <td>2025-04-01</td>\n",
       "      <td>646.850</td>\n",
       "      <td>684799.50</td>\n",
       "      <td>500692.5000</td>\n",
       "    </tr>\n",
       "    <tr>\n",
       "      <th>17</th>\n",
       "      <td>2025-05-01</td>\n",
       "      <td>687.225</td>\n",
       "      <td>687063.30</td>\n",
       "      <td>501281.5500</td>\n",
       "    </tr>\n",
       "    <tr>\n",
       "      <th>18</th>\n",
       "      <td>2025-06-01</td>\n",
       "      <td>707.115</td>\n",
       "      <td>687629.25</td>\n",
       "      <td>506583.0000</td>\n",
       "    </tr>\n",
       "    <tr>\n",
       "      <th>19</th>\n",
       "      <td>2025-07-01</td>\n",
       "      <td>744.515</td>\n",
       "      <td>680271.90</td>\n",
       "      <td>508939.2000</td>\n",
       "    </tr>\n",
       "    <tr>\n",
       "      <th>20</th>\n",
       "      <td>2025-08-01</td>\n",
       "      <td>765.340</td>\n",
       "      <td>683101.65</td>\n",
       "      <td>538097.1750</td>\n",
       "    </tr>\n",
       "    <tr>\n",
       "      <th>21</th>\n",
       "      <td>2025-09-01</td>\n",
       "      <td>725.730</td>\n",
       "      <td>688195.20</td>\n",
       "      <td>538097.1750</td>\n",
       "    </tr>\n",
       "    <tr>\n",
       "      <th>22</th>\n",
       "      <td>2025-10-01</td>\n",
       "      <td>741.455</td>\n",
       "      <td>689327.10</td>\n",
       "      <td>541808.1900</td>\n",
       "    </tr>\n",
       "    <tr>\n",
       "      <th>23</th>\n",
       "      <td>2025-11-01</td>\n",
       "      <td>729.640</td>\n",
       "      <td>690459.00</td>\n",
       "      <td>541808.1900</td>\n",
       "    </tr>\n",
       "    <tr>\n",
       "      <th>24</th>\n",
       "      <td>2025-12-01</td>\n",
       "      <td>785.060</td>\n",
       "      <td>692722.80</td>\n",
       "      <td>506583.0000</td>\n",
       "    </tr>\n",
       "    <tr>\n",
       "      <th>25</th>\n",
       "      <td>2026-01-01</td>\n",
       "      <td>660.705</td>\n",
       "      <td>696118.50</td>\n",
       "      <td>505404.9000</td>\n",
       "    </tr>\n",
       "    <tr>\n",
       "      <th>26</th>\n",
       "      <td>2026-02-01</td>\n",
       "      <td>609.195</td>\n",
       "      <td>701778.00</td>\n",
       "      <td>500692.5000</td>\n",
       "    </tr>\n",
       "    <tr>\n",
       "      <th>27</th>\n",
       "      <td>2026-03-01</td>\n",
       "      <td>702.610</td>\n",
       "      <td>707437.50</td>\n",
       "      <td>512473.5000</td>\n",
       "    </tr>\n",
       "    <tr>\n",
       "      <th>28</th>\n",
       "      <td>2026-04-01</td>\n",
       "      <td>648.975</td>\n",
       "      <td>696118.50</td>\n",
       "      <td>541808.1900</td>\n",
       "    </tr>\n",
       "    <tr>\n",
       "      <th>29</th>\n",
       "      <td>2026-05-01</td>\n",
       "      <td>687.395</td>\n",
       "      <td>684799.50</td>\n",
       "      <td>536035.5000</td>\n",
       "    </tr>\n",
       "    <tr>\n",
       "      <th>30</th>\n",
       "      <td>2026-06-01</td>\n",
       "      <td>706.350</td>\n",
       "      <td>682535.70</td>\n",
       "      <td>541926.0000</td>\n",
       "    </tr>\n",
       "    <tr>\n",
       "      <th>31</th>\n",
       "      <td>2026-07-01</td>\n",
       "      <td>741.965</td>\n",
       "      <td>698382.30</td>\n",
       "      <td>571496.3100</td>\n",
       "    </tr>\n",
       "    <tr>\n",
       "      <th>32</th>\n",
       "      <td>2026-08-01</td>\n",
       "      <td>761.770</td>\n",
       "      <td>696118.50</td>\n",
       "      <td>572733.3150</td>\n",
       "    </tr>\n",
       "    <tr>\n",
       "      <th>33</th>\n",
       "      <td>2026-09-01</td>\n",
       "      <td>724.030</td>\n",
       "      <td>699514.20</td>\n",
       "      <td>573970.3200</td>\n",
       "    </tr>\n",
       "    <tr>\n",
       "      <th>34</th>\n",
       "      <td>2026-10-01</td>\n",
       "      <td>738.990</td>\n",
       "      <td>702909.90</td>\n",
       "      <td>571496.3100</td>\n",
       "    </tr>\n",
       "    <tr>\n",
       "      <th>35</th>\n",
       "      <td>2026-11-01</td>\n",
       "      <td>727.770</td>\n",
       "      <td>707437.50</td>\n",
       "      <td>544871.2500</td>\n",
       "    </tr>\n",
       "  </tbody>\n",
       "</table>\n",
       "</div>"
      ],
      "text/plain": [
       "           Mês   Scania  Preço_médio  Custo_Produto_Vendido\n",
       "0   2023-12-01  793.475    658765.80            483021.0000\n",
       "1   2024-01-01  657.645    658765.80            484788.1500\n",
       "2   2024-02-01  600.780    639523.50            483021.0000\n",
       "3   2024-03-01  703.715    633864.00            517068.0900\n",
       "4   2024-04-01  644.640    645183.00            492445.8000\n",
       "5   2024-05-01  686.970    673480.50            494212.9500\n",
       "6   2024-06-01  707.965    672348.60            519542.1000\n",
       "7   2024-07-01  747.235    662161.50            517686.5925\n",
       "8   2024-08-01  769.165    656502.00            516202.1865\n",
       "9   2024-09-01  727.515    658765.80            513975.5775\n",
       "10  2024-10-01  744.005    662161.50            489500.5500\n",
       "11  2024-11-01  731.595    662161.50            490089.6000\n",
       "12  2024-12-01  789.820    661029.60            492445.8000\n",
       "13  2025-01-01  659.175    662161.50            493034.8500\n",
       "14  2025-02-01  605.030    673480.50            494212.9500\n",
       "15  2025-03-01  703.205    681403.80            519542.1000\n",
       "16  2025-04-01  646.850    684799.50            500692.5000\n",
       "17  2025-05-01  687.225    687063.30            501281.5500\n",
       "18  2025-06-01  707.115    687629.25            506583.0000\n",
       "19  2025-07-01  744.515    680271.90            508939.2000\n",
       "20  2025-08-01  765.340    683101.65            538097.1750\n",
       "21  2025-09-01  725.730    688195.20            538097.1750\n",
       "22  2025-10-01  741.455    689327.10            541808.1900\n",
       "23  2025-11-01  729.640    690459.00            541808.1900\n",
       "24  2025-12-01  785.060    692722.80            506583.0000\n",
       "25  2026-01-01  660.705    696118.50            505404.9000\n",
       "26  2026-02-01  609.195    701778.00            500692.5000\n",
       "27  2026-03-01  702.610    707437.50            512473.5000\n",
       "28  2026-04-01  648.975    696118.50            541808.1900\n",
       "29  2026-05-01  687.395    684799.50            536035.5000\n",
       "30  2026-06-01  706.350    682535.70            541926.0000\n",
       "31  2026-07-01  741.965    698382.30            571496.3100\n",
       "32  2026-08-01  761.770    696118.50            572733.3150\n",
       "33  2026-09-01  724.030    699514.20            573970.3200\n",
       "34  2026-10-01  738.990    702909.90            571496.3100\n",
       "35  2026-11-01  727.770    707437.50            544871.2500"
      ]
     },
     "execution_count": 18,
     "metadata": {},
     "output_type": "execute_result"
    }
   ],
   "source": [
    "# Seu DataFrame com as previsões, preço e cpv\n",
    "# Carregando os dados\n",
    "financeiro = pd.read_excel('FINANCEIRO_CAMINHÕES_Scania.xlsx')\n",
    "#Alterando a coluna \"ano\" de \"int\" para \"str\"\n",
    "financeiro['Mês'] = financeiro['Mês'].astype(str)\n",
    "financeiro"
   ]
  },
  {
   "cell_type": "code",
   "execution_count": 19,
   "id": "5222602b",
   "metadata": {},
   "outputs": [
    {
     "name": "stdout",
     "output_type": "stream",
     "text": [
      "           Mês  Receita Total   Custo Total         Lucro  \\\n",
      "0   2023-12-01   5.227142e+08  3.832651e+08  1.394491e+08   \n",
      "1   2024-01-01   4.332340e+08  3.188185e+08  1.144155e+08   \n",
      "2   2024-02-01   3.842129e+08  2.901894e+08  9.402357e+07   \n",
      "3   2024-03-01   4.460596e+08  3.638686e+08  8.219103e+07   \n",
      "4   2024-04-01   4.159108e+08  3.174503e+08  9.846051e+07   \n",
      "5   2024-05-01   4.626609e+08  3.395095e+08  1.231514e+08   \n",
      "6   2024-06-01   4.759993e+08  3.678176e+08  1.081817e+08   \n",
      "7   2024-07-01   4.947902e+08  3.868335e+08  1.079567e+08   \n",
      "8   2024-08-01   5.049584e+08  3.970447e+08  1.079137e+08   \n",
      "9   2024-09-01   4.792620e+08  3.739249e+08  1.053371e+08   \n",
      "10  2024-10-01   4.926515e+08  3.641909e+08  1.284606e+08   \n",
      "11  2024-11-01   4.844340e+08  3.585471e+08  1.258869e+08   \n",
      "12  2024-12-01   5.220944e+08  3.889435e+08  1.331509e+08   \n",
      "13  2025-01-01   4.364803e+08  3.249962e+08  1.114841e+08   \n",
      "14  2025-02-01   4.074759e+08  2.990137e+08  1.084622e+08   \n",
      "15  2025-03-01   4.791666e+08  3.653446e+08  1.138220e+08   \n",
      "16  2025-04-01   4.429626e+08  3.238729e+08  1.190896e+08   \n",
      "17  2025-05-01   4.721671e+08  3.444932e+08  1.276739e+08   \n",
      "18  2025-06-01   4.862330e+08  3.582124e+08  1.280205e+08   \n",
      "19  2025-07-01   5.064726e+08  3.789129e+08  1.275598e+08   \n",
      "20  2025-08-01   5.228050e+08  4.118273e+08  1.109777e+08   \n",
      "21  2025-09-01   4.994439e+08  3.905133e+08  1.089306e+08   \n",
      "22  2025-10-01   5.111050e+08  4.017264e+08  1.093786e+08   \n",
      "23  2025-11-01   5.037865e+08  3.953249e+08  1.084616e+08   \n",
      "24  2025-12-01   5.438290e+08  3.976980e+08  1.461309e+08   \n",
      "25  2026-01-01   4.599290e+08  3.339235e+08  1.260054e+08   \n",
      "26  2026-02-01   4.275196e+08  3.050194e+08  1.225003e+08   \n",
      "27  2026-03-01   4.970527e+08  3.600690e+08  1.369837e+08   \n",
      "28  2026-04-01   4.517635e+08  3.516200e+08  1.001435e+08   \n",
      "29  2026-05-01   4.707278e+08  3.684681e+08  1.022596e+08   \n",
      "30  2026-06-01   4.821091e+08  3.827894e+08  9.931966e+07   \n",
      "31  2026-07-01   5.181752e+08  4.240303e+08  9.414496e+07   \n",
      "32  2026-08-01   5.302822e+08  4.362911e+08  9.399113e+07   \n",
      "33  2026-09-01   5.064693e+08  4.155717e+08  9.089754e+07   \n",
      "34  2026-10-01   5.194434e+08  4.223301e+08  9.711333e+07   \n",
      "35  2026-11-01   5.148518e+08  3.965409e+08  1.183108e+08   \n",
      "\n",
      "    Margem de Contribuição  \n",
      "0                26.677888  \n",
      "1                26.409636  \n",
      "2                24.471736  \n",
      "3                18.426020  \n",
      "4                23.673469  \n",
      "5                26.618076  \n",
      "6                22.727273  \n",
      "7                21.818681  \n",
      "8                21.370813  \n",
      "9                21.979013  \n",
      "10               26.075353  \n",
      "11               25.986395  \n",
      "12               25.503215  \n",
      "13               25.541601  \n",
      "14               26.618076  \n",
      "15               23.754153  \n",
      "16               26.884804  \n",
      "17               27.039976  \n",
      "18               26.329050  \n",
      "19               25.185915  \n",
      "20               21.227364  \n",
      "21               21.810385  \n",
      "22               21.400422  \n",
      "23               21.529274  \n",
      "24               26.870748  \n",
      "25               27.396715  \n",
      "26               28.653720  \n",
      "27               27.559184  \n",
      "28               22.167247  \n",
      "29               21.723731  \n",
      "30               20.601076  \n",
      "31               18.168558  \n",
      "32               17.724739  \n",
      "33               17.947295  \n",
      "34               18.695652  \n",
      "35               22.979592  \n"
     ]
    }
   ],
   "source": [
    "# Calcular Receita Total\n",
    "financeiro['Receita Total'] = financeiro['Scania'] * financeiro['Preço_médio']\n",
    "\n",
    "# Calcular Custo Total\n",
    "financeiro['Custo Total'] = financeiro['Scania'] * financeiro['Custo_Produto_Vendido']\n",
    "\n",
    "# Calcular Lucro\n",
    "financeiro['Lucro'] = financeiro['Receita Total'] - financeiro['Custo Total']\n",
    "\n",
    "# Calcular Margem de Contribuição\n",
    "financeiro['Margem de Contribuição'] = (financeiro['Lucro'] / financeiro['Receita Total']) * 100\n",
    "\n",
    "# Imprimir os resultados mês a mês\n",
    "print(financeiro[['Mês', 'Receita Total', 'Custo Total', 'Lucro', 'Margem de Contribuição']])\n"
   ]
  },
  {
   "cell_type": "code",
   "execution_count": 20,
   "id": "2f630718",
   "metadata": {},
   "outputs": [
    {
     "data": {
      "text/html": [
       "<div>\n",
       "<style scoped>\n",
       "    .dataframe tbody tr th:only-of-type {\n",
       "        vertical-align: middle;\n",
       "    }\n",
       "\n",
       "    .dataframe tbody tr th {\n",
       "        vertical-align: top;\n",
       "    }\n",
       "\n",
       "    .dataframe thead th {\n",
       "        text-align: right;\n",
       "    }\n",
       "</style>\n",
       "<table border=\"1\" class=\"dataframe\">\n",
       "  <thead>\n",
       "    <tr style=\"text-align: right;\">\n",
       "      <th></th>\n",
       "      <th>Mês</th>\n",
       "      <th>Scania</th>\n",
       "      <th>Preço_médio</th>\n",
       "      <th>Custo_Produto_Vendido</th>\n",
       "      <th>Receita Total</th>\n",
       "      <th>Custo Total</th>\n",
       "      <th>Lucro</th>\n",
       "      <th>Margem de Contribuição</th>\n",
       "    </tr>\n",
       "  </thead>\n",
       "  <tbody>\n",
       "    <tr>\n",
       "      <th>0</th>\n",
       "      <td>2023-12-01</td>\n",
       "      <td>793.475</td>\n",
       "      <td>658765.80</td>\n",
       "      <td>483021.0000</td>\n",
       "      <td>5.227142e+08</td>\n",
       "      <td>3.832651e+08</td>\n",
       "      <td>1.394491e+08</td>\n",
       "      <td>26.677888</td>\n",
       "    </tr>\n",
       "    <tr>\n",
       "      <th>1</th>\n",
       "      <td>2024-01-01</td>\n",
       "      <td>657.645</td>\n",
       "      <td>658765.80</td>\n",
       "      <td>484788.1500</td>\n",
       "      <td>4.332340e+08</td>\n",
       "      <td>3.188185e+08</td>\n",
       "      <td>1.144155e+08</td>\n",
       "      <td>26.409636</td>\n",
       "    </tr>\n",
       "    <tr>\n",
       "      <th>2</th>\n",
       "      <td>2024-02-01</td>\n",
       "      <td>600.780</td>\n",
       "      <td>639523.50</td>\n",
       "      <td>483021.0000</td>\n",
       "      <td>3.842129e+08</td>\n",
       "      <td>2.901894e+08</td>\n",
       "      <td>9.402357e+07</td>\n",
       "      <td>24.471736</td>\n",
       "    </tr>\n",
       "    <tr>\n",
       "      <th>3</th>\n",
       "      <td>2024-03-01</td>\n",
       "      <td>703.715</td>\n",
       "      <td>633864.00</td>\n",
       "      <td>517068.0900</td>\n",
       "      <td>4.460596e+08</td>\n",
       "      <td>3.638686e+08</td>\n",
       "      <td>8.219103e+07</td>\n",
       "      <td>18.426020</td>\n",
       "    </tr>\n",
       "    <tr>\n",
       "      <th>4</th>\n",
       "      <td>2024-04-01</td>\n",
       "      <td>644.640</td>\n",
       "      <td>645183.00</td>\n",
       "      <td>492445.8000</td>\n",
       "      <td>4.159108e+08</td>\n",
       "      <td>3.174503e+08</td>\n",
       "      <td>9.846051e+07</td>\n",
       "      <td>23.673469</td>\n",
       "    </tr>\n",
       "    <tr>\n",
       "      <th>5</th>\n",
       "      <td>2024-05-01</td>\n",
       "      <td>686.970</td>\n",
       "      <td>673480.50</td>\n",
       "      <td>494212.9500</td>\n",
       "      <td>4.626609e+08</td>\n",
       "      <td>3.395095e+08</td>\n",
       "      <td>1.231514e+08</td>\n",
       "      <td>26.618076</td>\n",
       "    </tr>\n",
       "    <tr>\n",
       "      <th>6</th>\n",
       "      <td>2024-06-01</td>\n",
       "      <td>707.965</td>\n",
       "      <td>672348.60</td>\n",
       "      <td>519542.1000</td>\n",
       "      <td>4.759993e+08</td>\n",
       "      <td>3.678176e+08</td>\n",
       "      <td>1.081817e+08</td>\n",
       "      <td>22.727273</td>\n",
       "    </tr>\n",
       "    <tr>\n",
       "      <th>7</th>\n",
       "      <td>2024-07-01</td>\n",
       "      <td>747.235</td>\n",
       "      <td>662161.50</td>\n",
       "      <td>517686.5925</td>\n",
       "      <td>4.947902e+08</td>\n",
       "      <td>3.868335e+08</td>\n",
       "      <td>1.079567e+08</td>\n",
       "      <td>21.818681</td>\n",
       "    </tr>\n",
       "    <tr>\n",
       "      <th>8</th>\n",
       "      <td>2024-08-01</td>\n",
       "      <td>769.165</td>\n",
       "      <td>656502.00</td>\n",
       "      <td>516202.1865</td>\n",
       "      <td>5.049584e+08</td>\n",
       "      <td>3.970447e+08</td>\n",
       "      <td>1.079137e+08</td>\n",
       "      <td>21.370813</td>\n",
       "    </tr>\n",
       "    <tr>\n",
       "      <th>9</th>\n",
       "      <td>2024-09-01</td>\n",
       "      <td>727.515</td>\n",
       "      <td>658765.80</td>\n",
       "      <td>513975.5775</td>\n",
       "      <td>4.792620e+08</td>\n",
       "      <td>3.739249e+08</td>\n",
       "      <td>1.053371e+08</td>\n",
       "      <td>21.979013</td>\n",
       "    </tr>\n",
       "    <tr>\n",
       "      <th>10</th>\n",
       "      <td>2024-10-01</td>\n",
       "      <td>744.005</td>\n",
       "      <td>662161.50</td>\n",
       "      <td>489500.5500</td>\n",
       "      <td>4.926515e+08</td>\n",
       "      <td>3.641909e+08</td>\n",
       "      <td>1.284606e+08</td>\n",
       "      <td>26.075353</td>\n",
       "    </tr>\n",
       "    <tr>\n",
       "      <th>11</th>\n",
       "      <td>2024-11-01</td>\n",
       "      <td>731.595</td>\n",
       "      <td>662161.50</td>\n",
       "      <td>490089.6000</td>\n",
       "      <td>4.844340e+08</td>\n",
       "      <td>3.585471e+08</td>\n",
       "      <td>1.258869e+08</td>\n",
       "      <td>25.986395</td>\n",
       "    </tr>\n",
       "    <tr>\n",
       "      <th>12</th>\n",
       "      <td>2024-12-01</td>\n",
       "      <td>789.820</td>\n",
       "      <td>661029.60</td>\n",
       "      <td>492445.8000</td>\n",
       "      <td>5.220944e+08</td>\n",
       "      <td>3.889435e+08</td>\n",
       "      <td>1.331509e+08</td>\n",
       "      <td>25.503215</td>\n",
       "    </tr>\n",
       "    <tr>\n",
       "      <th>13</th>\n",
       "      <td>2025-01-01</td>\n",
       "      <td>659.175</td>\n",
       "      <td>662161.50</td>\n",
       "      <td>493034.8500</td>\n",
       "      <td>4.364803e+08</td>\n",
       "      <td>3.249962e+08</td>\n",
       "      <td>1.114841e+08</td>\n",
       "      <td>25.541601</td>\n",
       "    </tr>\n",
       "    <tr>\n",
       "      <th>14</th>\n",
       "      <td>2025-02-01</td>\n",
       "      <td>605.030</td>\n",
       "      <td>673480.50</td>\n",
       "      <td>494212.9500</td>\n",
       "      <td>4.074759e+08</td>\n",
       "      <td>2.990137e+08</td>\n",
       "      <td>1.084622e+08</td>\n",
       "      <td>26.618076</td>\n",
       "    </tr>\n",
       "    <tr>\n",
       "      <th>15</th>\n",
       "      <td>2025-03-01</td>\n",
       "      <td>703.205</td>\n",
       "      <td>681403.80</td>\n",
       "      <td>519542.1000</td>\n",
       "      <td>4.791666e+08</td>\n",
       "      <td>3.653446e+08</td>\n",
       "      <td>1.138220e+08</td>\n",
       "      <td>23.754153</td>\n",
       "    </tr>\n",
       "    <tr>\n",
       "      <th>16</th>\n",
       "      <td>2025-04-01</td>\n",
       "      <td>646.850</td>\n",
       "      <td>684799.50</td>\n",
       "      <td>500692.5000</td>\n",
       "      <td>4.429626e+08</td>\n",
       "      <td>3.238729e+08</td>\n",
       "      <td>1.190896e+08</td>\n",
       "      <td>26.884804</td>\n",
       "    </tr>\n",
       "    <tr>\n",
       "      <th>17</th>\n",
       "      <td>2025-05-01</td>\n",
       "      <td>687.225</td>\n",
       "      <td>687063.30</td>\n",
       "      <td>501281.5500</td>\n",
       "      <td>4.721671e+08</td>\n",
       "      <td>3.444932e+08</td>\n",
       "      <td>1.276739e+08</td>\n",
       "      <td>27.039976</td>\n",
       "    </tr>\n",
       "    <tr>\n",
       "      <th>18</th>\n",
       "      <td>2025-06-01</td>\n",
       "      <td>707.115</td>\n",
       "      <td>687629.25</td>\n",
       "      <td>506583.0000</td>\n",
       "      <td>4.862330e+08</td>\n",
       "      <td>3.582124e+08</td>\n",
       "      <td>1.280205e+08</td>\n",
       "      <td>26.329050</td>\n",
       "    </tr>\n",
       "    <tr>\n",
       "      <th>19</th>\n",
       "      <td>2025-07-01</td>\n",
       "      <td>744.515</td>\n",
       "      <td>680271.90</td>\n",
       "      <td>508939.2000</td>\n",
       "      <td>5.064726e+08</td>\n",
       "      <td>3.789129e+08</td>\n",
       "      <td>1.275598e+08</td>\n",
       "      <td>25.185915</td>\n",
       "    </tr>\n",
       "    <tr>\n",
       "      <th>20</th>\n",
       "      <td>2025-08-01</td>\n",
       "      <td>765.340</td>\n",
       "      <td>683101.65</td>\n",
       "      <td>538097.1750</td>\n",
       "      <td>5.228050e+08</td>\n",
       "      <td>4.118273e+08</td>\n",
       "      <td>1.109777e+08</td>\n",
       "      <td>21.227364</td>\n",
       "    </tr>\n",
       "    <tr>\n",
       "      <th>21</th>\n",
       "      <td>2025-09-01</td>\n",
       "      <td>725.730</td>\n",
       "      <td>688195.20</td>\n",
       "      <td>538097.1750</td>\n",
       "      <td>4.994439e+08</td>\n",
       "      <td>3.905133e+08</td>\n",
       "      <td>1.089306e+08</td>\n",
       "      <td>21.810385</td>\n",
       "    </tr>\n",
       "    <tr>\n",
       "      <th>22</th>\n",
       "      <td>2025-10-01</td>\n",
       "      <td>741.455</td>\n",
       "      <td>689327.10</td>\n",
       "      <td>541808.1900</td>\n",
       "      <td>5.111050e+08</td>\n",
       "      <td>4.017264e+08</td>\n",
       "      <td>1.093786e+08</td>\n",
       "      <td>21.400422</td>\n",
       "    </tr>\n",
       "    <tr>\n",
       "      <th>23</th>\n",
       "      <td>2025-11-01</td>\n",
       "      <td>729.640</td>\n",
       "      <td>690459.00</td>\n",
       "      <td>541808.1900</td>\n",
       "      <td>5.037865e+08</td>\n",
       "      <td>3.953249e+08</td>\n",
       "      <td>1.084616e+08</td>\n",
       "      <td>21.529274</td>\n",
       "    </tr>\n",
       "    <tr>\n",
       "      <th>24</th>\n",
       "      <td>2025-12-01</td>\n",
       "      <td>785.060</td>\n",
       "      <td>692722.80</td>\n",
       "      <td>506583.0000</td>\n",
       "      <td>5.438290e+08</td>\n",
       "      <td>3.976980e+08</td>\n",
       "      <td>1.461309e+08</td>\n",
       "      <td>26.870748</td>\n",
       "    </tr>\n",
       "    <tr>\n",
       "      <th>25</th>\n",
       "      <td>2026-01-01</td>\n",
       "      <td>660.705</td>\n",
       "      <td>696118.50</td>\n",
       "      <td>505404.9000</td>\n",
       "      <td>4.599290e+08</td>\n",
       "      <td>3.339235e+08</td>\n",
       "      <td>1.260054e+08</td>\n",
       "      <td>27.396715</td>\n",
       "    </tr>\n",
       "    <tr>\n",
       "      <th>26</th>\n",
       "      <td>2026-02-01</td>\n",
       "      <td>609.195</td>\n",
       "      <td>701778.00</td>\n",
       "      <td>500692.5000</td>\n",
       "      <td>4.275196e+08</td>\n",
       "      <td>3.050194e+08</td>\n",
       "      <td>1.225003e+08</td>\n",
       "      <td>28.653720</td>\n",
       "    </tr>\n",
       "    <tr>\n",
       "      <th>27</th>\n",
       "      <td>2026-03-01</td>\n",
       "      <td>702.610</td>\n",
       "      <td>707437.50</td>\n",
       "      <td>512473.5000</td>\n",
       "      <td>4.970527e+08</td>\n",
       "      <td>3.600690e+08</td>\n",
       "      <td>1.369837e+08</td>\n",
       "      <td>27.559184</td>\n",
       "    </tr>\n",
       "    <tr>\n",
       "      <th>28</th>\n",
       "      <td>2026-04-01</td>\n",
       "      <td>648.975</td>\n",
       "      <td>696118.50</td>\n",
       "      <td>541808.1900</td>\n",
       "      <td>4.517635e+08</td>\n",
       "      <td>3.516200e+08</td>\n",
       "      <td>1.001435e+08</td>\n",
       "      <td>22.167247</td>\n",
       "    </tr>\n",
       "    <tr>\n",
       "      <th>29</th>\n",
       "      <td>2026-05-01</td>\n",
       "      <td>687.395</td>\n",
       "      <td>684799.50</td>\n",
       "      <td>536035.5000</td>\n",
       "      <td>4.707278e+08</td>\n",
       "      <td>3.684681e+08</td>\n",
       "      <td>1.022596e+08</td>\n",
       "      <td>21.723731</td>\n",
       "    </tr>\n",
       "    <tr>\n",
       "      <th>30</th>\n",
       "      <td>2026-06-01</td>\n",
       "      <td>706.350</td>\n",
       "      <td>682535.70</td>\n",
       "      <td>541926.0000</td>\n",
       "      <td>4.821091e+08</td>\n",
       "      <td>3.827894e+08</td>\n",
       "      <td>9.931966e+07</td>\n",
       "      <td>20.601076</td>\n",
       "    </tr>\n",
       "    <tr>\n",
       "      <th>31</th>\n",
       "      <td>2026-07-01</td>\n",
       "      <td>741.965</td>\n",
       "      <td>698382.30</td>\n",
       "      <td>571496.3100</td>\n",
       "      <td>5.181752e+08</td>\n",
       "      <td>4.240303e+08</td>\n",
       "      <td>9.414496e+07</td>\n",
       "      <td>18.168558</td>\n",
       "    </tr>\n",
       "    <tr>\n",
       "      <th>32</th>\n",
       "      <td>2026-08-01</td>\n",
       "      <td>761.770</td>\n",
       "      <td>696118.50</td>\n",
       "      <td>572733.3150</td>\n",
       "      <td>5.302822e+08</td>\n",
       "      <td>4.362911e+08</td>\n",
       "      <td>9.399113e+07</td>\n",
       "      <td>17.724739</td>\n",
       "    </tr>\n",
       "    <tr>\n",
       "      <th>33</th>\n",
       "      <td>2026-09-01</td>\n",
       "      <td>724.030</td>\n",
       "      <td>699514.20</td>\n",
       "      <td>573970.3200</td>\n",
       "      <td>5.064693e+08</td>\n",
       "      <td>4.155717e+08</td>\n",
       "      <td>9.089754e+07</td>\n",
       "      <td>17.947295</td>\n",
       "    </tr>\n",
       "    <tr>\n",
       "      <th>34</th>\n",
       "      <td>2026-10-01</td>\n",
       "      <td>738.990</td>\n",
       "      <td>702909.90</td>\n",
       "      <td>571496.3100</td>\n",
       "      <td>5.194434e+08</td>\n",
       "      <td>4.223301e+08</td>\n",
       "      <td>9.711333e+07</td>\n",
       "      <td>18.695652</td>\n",
       "    </tr>\n",
       "    <tr>\n",
       "      <th>35</th>\n",
       "      <td>2026-11-01</td>\n",
       "      <td>727.770</td>\n",
       "      <td>707437.50</td>\n",
       "      <td>544871.2500</td>\n",
       "      <td>5.148518e+08</td>\n",
       "      <td>3.965409e+08</td>\n",
       "      <td>1.183108e+08</td>\n",
       "      <td>22.979592</td>\n",
       "    </tr>\n",
       "  </tbody>\n",
       "</table>\n",
       "</div>"
      ],
      "text/plain": [
       "           Mês   Scania  Preço_médio  Custo_Produto_Vendido  Receita Total  \\\n",
       "0   2023-12-01  793.475    658765.80            483021.0000   5.227142e+08   \n",
       "1   2024-01-01  657.645    658765.80            484788.1500   4.332340e+08   \n",
       "2   2024-02-01  600.780    639523.50            483021.0000   3.842129e+08   \n",
       "3   2024-03-01  703.715    633864.00            517068.0900   4.460596e+08   \n",
       "4   2024-04-01  644.640    645183.00            492445.8000   4.159108e+08   \n",
       "5   2024-05-01  686.970    673480.50            494212.9500   4.626609e+08   \n",
       "6   2024-06-01  707.965    672348.60            519542.1000   4.759993e+08   \n",
       "7   2024-07-01  747.235    662161.50            517686.5925   4.947902e+08   \n",
       "8   2024-08-01  769.165    656502.00            516202.1865   5.049584e+08   \n",
       "9   2024-09-01  727.515    658765.80            513975.5775   4.792620e+08   \n",
       "10  2024-10-01  744.005    662161.50            489500.5500   4.926515e+08   \n",
       "11  2024-11-01  731.595    662161.50            490089.6000   4.844340e+08   \n",
       "12  2024-12-01  789.820    661029.60            492445.8000   5.220944e+08   \n",
       "13  2025-01-01  659.175    662161.50            493034.8500   4.364803e+08   \n",
       "14  2025-02-01  605.030    673480.50            494212.9500   4.074759e+08   \n",
       "15  2025-03-01  703.205    681403.80            519542.1000   4.791666e+08   \n",
       "16  2025-04-01  646.850    684799.50            500692.5000   4.429626e+08   \n",
       "17  2025-05-01  687.225    687063.30            501281.5500   4.721671e+08   \n",
       "18  2025-06-01  707.115    687629.25            506583.0000   4.862330e+08   \n",
       "19  2025-07-01  744.515    680271.90            508939.2000   5.064726e+08   \n",
       "20  2025-08-01  765.340    683101.65            538097.1750   5.228050e+08   \n",
       "21  2025-09-01  725.730    688195.20            538097.1750   4.994439e+08   \n",
       "22  2025-10-01  741.455    689327.10            541808.1900   5.111050e+08   \n",
       "23  2025-11-01  729.640    690459.00            541808.1900   5.037865e+08   \n",
       "24  2025-12-01  785.060    692722.80            506583.0000   5.438290e+08   \n",
       "25  2026-01-01  660.705    696118.50            505404.9000   4.599290e+08   \n",
       "26  2026-02-01  609.195    701778.00            500692.5000   4.275196e+08   \n",
       "27  2026-03-01  702.610    707437.50            512473.5000   4.970527e+08   \n",
       "28  2026-04-01  648.975    696118.50            541808.1900   4.517635e+08   \n",
       "29  2026-05-01  687.395    684799.50            536035.5000   4.707278e+08   \n",
       "30  2026-06-01  706.350    682535.70            541926.0000   4.821091e+08   \n",
       "31  2026-07-01  741.965    698382.30            571496.3100   5.181752e+08   \n",
       "32  2026-08-01  761.770    696118.50            572733.3150   5.302822e+08   \n",
       "33  2026-09-01  724.030    699514.20            573970.3200   5.064693e+08   \n",
       "34  2026-10-01  738.990    702909.90            571496.3100   5.194434e+08   \n",
       "35  2026-11-01  727.770    707437.50            544871.2500   5.148518e+08   \n",
       "\n",
       "     Custo Total         Lucro  Margem de Contribuição  \n",
       "0   3.832651e+08  1.394491e+08               26.677888  \n",
       "1   3.188185e+08  1.144155e+08               26.409636  \n",
       "2   2.901894e+08  9.402357e+07               24.471736  \n",
       "3   3.638686e+08  8.219103e+07               18.426020  \n",
       "4   3.174503e+08  9.846051e+07               23.673469  \n",
       "5   3.395095e+08  1.231514e+08               26.618076  \n",
       "6   3.678176e+08  1.081817e+08               22.727273  \n",
       "7   3.868335e+08  1.079567e+08               21.818681  \n",
       "8   3.970447e+08  1.079137e+08               21.370813  \n",
       "9   3.739249e+08  1.053371e+08               21.979013  \n",
       "10  3.641909e+08  1.284606e+08               26.075353  \n",
       "11  3.585471e+08  1.258869e+08               25.986395  \n",
       "12  3.889435e+08  1.331509e+08               25.503215  \n",
       "13  3.249962e+08  1.114841e+08               25.541601  \n",
       "14  2.990137e+08  1.084622e+08               26.618076  \n",
       "15  3.653446e+08  1.138220e+08               23.754153  \n",
       "16  3.238729e+08  1.190896e+08               26.884804  \n",
       "17  3.444932e+08  1.276739e+08               27.039976  \n",
       "18  3.582124e+08  1.280205e+08               26.329050  \n",
       "19  3.789129e+08  1.275598e+08               25.185915  \n",
       "20  4.118273e+08  1.109777e+08               21.227364  \n",
       "21  3.905133e+08  1.089306e+08               21.810385  \n",
       "22  4.017264e+08  1.093786e+08               21.400422  \n",
       "23  3.953249e+08  1.084616e+08               21.529274  \n",
       "24  3.976980e+08  1.461309e+08               26.870748  \n",
       "25  3.339235e+08  1.260054e+08               27.396715  \n",
       "26  3.050194e+08  1.225003e+08               28.653720  \n",
       "27  3.600690e+08  1.369837e+08               27.559184  \n",
       "28  3.516200e+08  1.001435e+08               22.167247  \n",
       "29  3.684681e+08  1.022596e+08               21.723731  \n",
       "30  3.827894e+08  9.931966e+07               20.601076  \n",
       "31  4.240303e+08  9.414496e+07               18.168558  \n",
       "32  4.362911e+08  9.399113e+07               17.724739  \n",
       "33  4.155717e+08  9.089754e+07               17.947295  \n",
       "34  4.223301e+08  9.711333e+07               18.695652  \n",
       "35  3.965409e+08  1.183108e+08               22.979592  "
      ]
     },
     "execution_count": 20,
     "metadata": {},
     "output_type": "execute_result"
    }
   ],
   "source": [
    "financeiro"
   ]
  },
  {
   "cell_type": "code",
   "execution_count": 21,
   "id": "ca3dc467",
   "metadata": {},
   "outputs": [
    {
     "data": {
      "application/vnd.plotly.v1+json": {
       "config": {
        "plotlyServerURL": "https://plot.ly"
       },
       "data": [
        {
         "hovertemplate": "variable=Preço_médio<br>Mês=%{x}<br>value=%{y}<extra></extra>",
         "legendgroup": "Preço_médio",
         "line": {
          "color": "red",
          "dash": "dash"
         },
         "marker": {
          "symbol": "circle"
         },
         "mode": "lines",
         "name": "Preço_médio",
         "orientation": "v",
         "showlegend": true,
         "type": "scatter",
         "x": [
          "2023-12-01",
          "2024-01-01",
          "2024-02-01",
          "2024-03-01",
          "2024-04-01",
          "2024-05-01",
          "2024-06-01",
          "2024-07-01",
          "2024-08-01",
          "2024-09-01",
          "2024-10-01",
          "2024-11-01",
          "2024-12-01",
          "2025-01-01",
          "2025-02-01",
          "2025-03-01",
          "2025-04-01",
          "2025-05-01",
          "2025-06-01",
          "2025-07-01",
          "2025-08-01",
          "2025-09-01",
          "2025-10-01",
          "2025-11-01",
          "2025-12-01",
          "2026-01-01",
          "2026-02-01",
          "2026-03-01",
          "2026-04-01",
          "2026-05-01",
          "2026-06-01",
          "2026-07-01",
          "2026-08-01",
          "2026-09-01",
          "2026-10-01",
          "2026-11-01"
         ],
         "xaxis": "x",
         "y": [
          658765.8,
          658765.8,
          639523.5,
          633864,
          645183,
          673480.5,
          672348.6000000001,
          662161.5,
          656502,
          658765.8,
          662161.5,
          662161.5,
          661029.6000000001,
          662161.5,
          673480.5,
          681403.8,
          684799.5,
          687063.3,
          687629.25,
          680271.9,
          683101.65,
          688195.2000000001,
          689327.1000000001,
          690459,
          692722.8,
          696118.5,
          701778,
          707437.5,
          696118.5,
          684799.5,
          682535.7000000001,
          698382.3,
          696118.5,
          699514.2000000001,
          702909.9,
          707437.5
         ],
         "yaxis": "y"
        },
        {
         "hovertemplate": "variable=Custo_Produto_Vendido<br>Mês=%{x}<br>value=%{y}<extra></extra>",
         "legendgroup": "Custo_Produto_Vendido",
         "line": {
          "color": "green",
          "dash": "solid"
         },
         "marker": {
          "symbol": "circle"
         },
         "mode": "lines",
         "name": "Custo_Produto_Vendido",
         "orientation": "v",
         "showlegend": true,
         "type": "scatter",
         "x": [
          "2023-12-01",
          "2024-01-01",
          "2024-02-01",
          "2024-03-01",
          "2024-04-01",
          "2024-05-01",
          "2024-06-01",
          "2024-07-01",
          "2024-08-01",
          "2024-09-01",
          "2024-10-01",
          "2024-11-01",
          "2024-12-01",
          "2025-01-01",
          "2025-02-01",
          "2025-03-01",
          "2025-04-01",
          "2025-05-01",
          "2025-06-01",
          "2025-07-01",
          "2025-08-01",
          "2025-09-01",
          "2025-10-01",
          "2025-11-01",
          "2025-12-01",
          "2026-01-01",
          "2026-02-01",
          "2026-03-01",
          "2026-04-01",
          "2026-05-01",
          "2026-06-01",
          "2026-07-01",
          "2026-08-01",
          "2026-09-01",
          "2026-10-01",
          "2026-11-01"
         ],
         "xaxis": "x",
         "y": [
          483021.00000000006,
          484788.1500000001,
          483021.00000000006,
          517068.0900000001,
          492445.80000000005,
          494212.95000000007,
          519542.1000000001,
          517686.5925000001,
          516202.18650000007,
          513975.5775000001,
          489500.55000000005,
          490089.6000000001,
          492445.80000000005,
          493034.8500000001,
          494212.95000000007,
          519542.1000000001,
          500692.50000000006,
          501281.55000000005,
          506583.00000000006,
          508939.20000000007,
          538097.175,
          538097.175,
          541808.1900000001,
          541808.1900000001,
          506583.00000000006,
          505404.9000000001,
          500692.50000000006,
          512473.50000000006,
          541808.1900000001,
          536035.5,
          541926,
          571496.31,
          572733.3150000001,
          573970.3200000001,
          571496.31,
          544871.25
         ],
         "yaxis": "y"
        }
       ],
       "layout": {
        "legend": {
         "title": {
          "text": "variable"
         },
         "tracegroupgap": 0
        },
        "template": {
         "data": {
          "bar": [
           {
            "error_x": {
             "color": "#2a3f5f"
            },
            "error_y": {
             "color": "#2a3f5f"
            },
            "marker": {
             "line": {
              "color": "#E5ECF6",
              "width": 0.5
             },
             "pattern": {
              "fillmode": "overlay",
              "size": 10,
              "solidity": 0.2
             }
            },
            "type": "bar"
           }
          ],
          "barpolar": [
           {
            "marker": {
             "line": {
              "color": "#E5ECF6",
              "width": 0.5
             },
             "pattern": {
              "fillmode": "overlay",
              "size": 10,
              "solidity": 0.2
             }
            },
            "type": "barpolar"
           }
          ],
          "carpet": [
           {
            "aaxis": {
             "endlinecolor": "#2a3f5f",
             "gridcolor": "white",
             "linecolor": "white",
             "minorgridcolor": "white",
             "startlinecolor": "#2a3f5f"
            },
            "baxis": {
             "endlinecolor": "#2a3f5f",
             "gridcolor": "white",
             "linecolor": "white",
             "minorgridcolor": "white",
             "startlinecolor": "#2a3f5f"
            },
            "type": "carpet"
           }
          ],
          "choropleth": [
           {
            "colorbar": {
             "outlinewidth": 0,
             "ticks": ""
            },
            "type": "choropleth"
           }
          ],
          "contour": [
           {
            "colorbar": {
             "outlinewidth": 0,
             "ticks": ""
            },
            "colorscale": [
             [
              0,
              "#0d0887"
             ],
             [
              0.1111111111111111,
              "#46039f"
             ],
             [
              0.2222222222222222,
              "#7201a8"
             ],
             [
              0.3333333333333333,
              "#9c179e"
             ],
             [
              0.4444444444444444,
              "#bd3786"
             ],
             [
              0.5555555555555556,
              "#d8576b"
             ],
             [
              0.6666666666666666,
              "#ed7953"
             ],
             [
              0.7777777777777778,
              "#fb9f3a"
             ],
             [
              0.8888888888888888,
              "#fdca26"
             ],
             [
              1,
              "#f0f921"
             ]
            ],
            "type": "contour"
           }
          ],
          "contourcarpet": [
           {
            "colorbar": {
             "outlinewidth": 0,
             "ticks": ""
            },
            "type": "contourcarpet"
           }
          ],
          "heatmap": [
           {
            "colorbar": {
             "outlinewidth": 0,
             "ticks": ""
            },
            "colorscale": [
             [
              0,
              "#0d0887"
             ],
             [
              0.1111111111111111,
              "#46039f"
             ],
             [
              0.2222222222222222,
              "#7201a8"
             ],
             [
              0.3333333333333333,
              "#9c179e"
             ],
             [
              0.4444444444444444,
              "#bd3786"
             ],
             [
              0.5555555555555556,
              "#d8576b"
             ],
             [
              0.6666666666666666,
              "#ed7953"
             ],
             [
              0.7777777777777778,
              "#fb9f3a"
             ],
             [
              0.8888888888888888,
              "#fdca26"
             ],
             [
              1,
              "#f0f921"
             ]
            ],
            "type": "heatmap"
           }
          ],
          "heatmapgl": [
           {
            "colorbar": {
             "outlinewidth": 0,
             "ticks": ""
            },
            "colorscale": [
             [
              0,
              "#0d0887"
             ],
             [
              0.1111111111111111,
              "#46039f"
             ],
             [
              0.2222222222222222,
              "#7201a8"
             ],
             [
              0.3333333333333333,
              "#9c179e"
             ],
             [
              0.4444444444444444,
              "#bd3786"
             ],
             [
              0.5555555555555556,
              "#d8576b"
             ],
             [
              0.6666666666666666,
              "#ed7953"
             ],
             [
              0.7777777777777778,
              "#fb9f3a"
             ],
             [
              0.8888888888888888,
              "#fdca26"
             ],
             [
              1,
              "#f0f921"
             ]
            ],
            "type": "heatmapgl"
           }
          ],
          "histogram": [
           {
            "marker": {
             "pattern": {
              "fillmode": "overlay",
              "size": 10,
              "solidity": 0.2
             }
            },
            "type": "histogram"
           }
          ],
          "histogram2d": [
           {
            "colorbar": {
             "outlinewidth": 0,
             "ticks": ""
            },
            "colorscale": [
             [
              0,
              "#0d0887"
             ],
             [
              0.1111111111111111,
              "#46039f"
             ],
             [
              0.2222222222222222,
              "#7201a8"
             ],
             [
              0.3333333333333333,
              "#9c179e"
             ],
             [
              0.4444444444444444,
              "#bd3786"
             ],
             [
              0.5555555555555556,
              "#d8576b"
             ],
             [
              0.6666666666666666,
              "#ed7953"
             ],
             [
              0.7777777777777778,
              "#fb9f3a"
             ],
             [
              0.8888888888888888,
              "#fdca26"
             ],
             [
              1,
              "#f0f921"
             ]
            ],
            "type": "histogram2d"
           }
          ],
          "histogram2dcontour": [
           {
            "colorbar": {
             "outlinewidth": 0,
             "ticks": ""
            },
            "colorscale": [
             [
              0,
              "#0d0887"
             ],
             [
              0.1111111111111111,
              "#46039f"
             ],
             [
              0.2222222222222222,
              "#7201a8"
             ],
             [
              0.3333333333333333,
              "#9c179e"
             ],
             [
              0.4444444444444444,
              "#bd3786"
             ],
             [
              0.5555555555555556,
              "#d8576b"
             ],
             [
              0.6666666666666666,
              "#ed7953"
             ],
             [
              0.7777777777777778,
              "#fb9f3a"
             ],
             [
              0.8888888888888888,
              "#fdca26"
             ],
             [
              1,
              "#f0f921"
             ]
            ],
            "type": "histogram2dcontour"
           }
          ],
          "mesh3d": [
           {
            "colorbar": {
             "outlinewidth": 0,
             "ticks": ""
            },
            "type": "mesh3d"
           }
          ],
          "parcoords": [
           {
            "line": {
             "colorbar": {
              "outlinewidth": 0,
              "ticks": ""
             }
            },
            "type": "parcoords"
           }
          ],
          "pie": [
           {
            "automargin": true,
            "type": "pie"
           }
          ],
          "scatter": [
           {
            "fillpattern": {
             "fillmode": "overlay",
             "size": 10,
             "solidity": 0.2
            },
            "type": "scatter"
           }
          ],
          "scatter3d": [
           {
            "line": {
             "colorbar": {
              "outlinewidth": 0,
              "ticks": ""
             }
            },
            "marker": {
             "colorbar": {
              "outlinewidth": 0,
              "ticks": ""
             }
            },
            "type": "scatter3d"
           }
          ],
          "scattercarpet": [
           {
            "marker": {
             "colorbar": {
              "outlinewidth": 0,
              "ticks": ""
             }
            },
            "type": "scattercarpet"
           }
          ],
          "scattergeo": [
           {
            "marker": {
             "colorbar": {
              "outlinewidth": 0,
              "ticks": ""
             }
            },
            "type": "scattergeo"
           }
          ],
          "scattergl": [
           {
            "marker": {
             "colorbar": {
              "outlinewidth": 0,
              "ticks": ""
             }
            },
            "type": "scattergl"
           }
          ],
          "scattermapbox": [
           {
            "marker": {
             "colorbar": {
              "outlinewidth": 0,
              "ticks": ""
             }
            },
            "type": "scattermapbox"
           }
          ],
          "scatterpolar": [
           {
            "marker": {
             "colorbar": {
              "outlinewidth": 0,
              "ticks": ""
             }
            },
            "type": "scatterpolar"
           }
          ],
          "scatterpolargl": [
           {
            "marker": {
             "colorbar": {
              "outlinewidth": 0,
              "ticks": ""
             }
            },
            "type": "scatterpolargl"
           }
          ],
          "scatterternary": [
           {
            "marker": {
             "colorbar": {
              "outlinewidth": 0,
              "ticks": ""
             }
            },
            "type": "scatterternary"
           }
          ],
          "surface": [
           {
            "colorbar": {
             "outlinewidth": 0,
             "ticks": ""
            },
            "colorscale": [
             [
              0,
              "#0d0887"
             ],
             [
              0.1111111111111111,
              "#46039f"
             ],
             [
              0.2222222222222222,
              "#7201a8"
             ],
             [
              0.3333333333333333,
              "#9c179e"
             ],
             [
              0.4444444444444444,
              "#bd3786"
             ],
             [
              0.5555555555555556,
              "#d8576b"
             ],
             [
              0.6666666666666666,
              "#ed7953"
             ],
             [
              0.7777777777777778,
              "#fb9f3a"
             ],
             [
              0.8888888888888888,
              "#fdca26"
             ],
             [
              1,
              "#f0f921"
             ]
            ],
            "type": "surface"
           }
          ],
          "table": [
           {
            "cells": {
             "fill": {
              "color": "#EBF0F8"
             },
             "line": {
              "color": "white"
             }
            },
            "header": {
             "fill": {
              "color": "#C8D4E3"
             },
             "line": {
              "color": "white"
             }
            },
            "type": "table"
           }
          ]
         },
         "layout": {
          "annotationdefaults": {
           "arrowcolor": "#2a3f5f",
           "arrowhead": 0,
           "arrowwidth": 1
          },
          "autotypenumbers": "strict",
          "coloraxis": {
           "colorbar": {
            "outlinewidth": 0,
            "ticks": ""
           }
          },
          "colorscale": {
           "diverging": [
            [
             0,
             "#8e0152"
            ],
            [
             0.1,
             "#c51b7d"
            ],
            [
             0.2,
             "#de77ae"
            ],
            [
             0.3,
             "#f1b6da"
            ],
            [
             0.4,
             "#fde0ef"
            ],
            [
             0.5,
             "#f7f7f7"
            ],
            [
             0.6,
             "#e6f5d0"
            ],
            [
             0.7,
             "#b8e186"
            ],
            [
             0.8,
             "#7fbc41"
            ],
            [
             0.9,
             "#4d9221"
            ],
            [
             1,
             "#276419"
            ]
           ],
           "sequential": [
            [
             0,
             "#0d0887"
            ],
            [
             0.1111111111111111,
             "#46039f"
            ],
            [
             0.2222222222222222,
             "#7201a8"
            ],
            [
             0.3333333333333333,
             "#9c179e"
            ],
            [
             0.4444444444444444,
             "#bd3786"
            ],
            [
             0.5555555555555556,
             "#d8576b"
            ],
            [
             0.6666666666666666,
             "#ed7953"
            ],
            [
             0.7777777777777778,
             "#fb9f3a"
            ],
            [
             0.8888888888888888,
             "#fdca26"
            ],
            [
             1,
             "#f0f921"
            ]
           ],
           "sequentialminus": [
            [
             0,
             "#0d0887"
            ],
            [
             0.1111111111111111,
             "#46039f"
            ],
            [
             0.2222222222222222,
             "#7201a8"
            ],
            [
             0.3333333333333333,
             "#9c179e"
            ],
            [
             0.4444444444444444,
             "#bd3786"
            ],
            [
             0.5555555555555556,
             "#d8576b"
            ],
            [
             0.6666666666666666,
             "#ed7953"
            ],
            [
             0.7777777777777778,
             "#fb9f3a"
            ],
            [
             0.8888888888888888,
             "#fdca26"
            ],
            [
             1,
             "#f0f921"
            ]
           ]
          },
          "colorway": [
           "#636efa",
           "#EF553B",
           "#00cc96",
           "#ab63fa",
           "#FFA15A",
           "#19d3f3",
           "#FF6692",
           "#B6E880",
           "#FF97FF",
           "#FECB52"
          ],
          "font": {
           "color": "#2a3f5f"
          },
          "geo": {
           "bgcolor": "white",
           "lakecolor": "white",
           "landcolor": "#E5ECF6",
           "showlakes": true,
           "showland": true,
           "subunitcolor": "white"
          },
          "hoverlabel": {
           "align": "left"
          },
          "hovermode": "closest",
          "mapbox": {
           "style": "light"
          },
          "paper_bgcolor": "white",
          "plot_bgcolor": "#E5ECF6",
          "polar": {
           "angularaxis": {
            "gridcolor": "white",
            "linecolor": "white",
            "ticks": ""
           },
           "bgcolor": "#E5ECF6",
           "radialaxis": {
            "gridcolor": "white",
            "linecolor": "white",
            "ticks": ""
           }
          },
          "scene": {
           "xaxis": {
            "backgroundcolor": "#E5ECF6",
            "gridcolor": "white",
            "gridwidth": 2,
            "linecolor": "white",
            "showbackground": true,
            "ticks": "",
            "zerolinecolor": "white"
           },
           "yaxis": {
            "backgroundcolor": "#E5ECF6",
            "gridcolor": "white",
            "gridwidth": 2,
            "linecolor": "white",
            "showbackground": true,
            "ticks": "",
            "zerolinecolor": "white"
           },
           "zaxis": {
            "backgroundcolor": "#E5ECF6",
            "gridcolor": "white",
            "gridwidth": 2,
            "linecolor": "white",
            "showbackground": true,
            "ticks": "",
            "zerolinecolor": "white"
           }
          },
          "shapedefaults": {
           "line": {
            "color": "#2a3f5f"
           }
          },
          "ternary": {
           "aaxis": {
            "gridcolor": "white",
            "linecolor": "white",
            "ticks": ""
           },
           "baxis": {
            "gridcolor": "white",
            "linecolor": "white",
            "ticks": ""
           },
           "bgcolor": "#E5ECF6",
           "caxis": {
            "gridcolor": "white",
            "linecolor": "white",
            "ticks": ""
           }
          },
          "title": {
           "x": 0.05
          },
          "xaxis": {
           "automargin": true,
           "gridcolor": "white",
           "linecolor": "white",
           "ticks": "",
           "title": {
            "standoff": 15
           },
           "zerolinecolor": "white",
           "zerolinewidth": 2
          },
          "yaxis": {
           "automargin": true,
           "gridcolor": "white",
           "linecolor": "white",
           "ticks": "",
           "title": {
            "standoff": 15
           },
           "zerolinecolor": "white",
           "zerolinewidth": 2
          }
         }
        },
        "title": {
         "font": {
          "family": "Arial",
          "size": 18
         },
         "text": "Preços & Custos"
        },
        "xaxis": {
         "anchor": "y",
         "domain": [
          0,
          1
         ],
         "title": {
          "text": "Meses"
         }
        },
        "yaxis": {
         "anchor": "x",
         "domain": [
          0,
          1
         ],
         "title": {
          "text": "Valores"
         }
        }
       }
      },
      "text/html": [
       "<div>                            <div id=\"793522f9-495c-4e2d-970c-e934808dbc0a\" class=\"plotly-graph-div\" style=\"height:525px; width:100%;\"></div>            <script type=\"text/javascript\">                require([\"plotly\"], function(Plotly) {                    window.PLOTLYENV=window.PLOTLYENV || {};                                    if (document.getElementById(\"793522f9-495c-4e2d-970c-e934808dbc0a\")) {                    Plotly.newPlot(                        \"793522f9-495c-4e2d-970c-e934808dbc0a\",                        [{\"hovertemplate\":\"variable=Pre\\u00e7o_m\\u00e9dio\\u003cbr\\u003eM\\u00eas=%{x}\\u003cbr\\u003evalue=%{y}\\u003cextra\\u003e\\u003c\\u002fextra\\u003e\",\"legendgroup\":\"Pre\\u00e7o_m\\u00e9dio\",\"line\":{\"color\":\"red\",\"dash\":\"dash\"},\"marker\":{\"symbol\":\"circle\"},\"mode\":\"lines\",\"name\":\"Pre\\u00e7o_m\\u00e9dio\",\"orientation\":\"v\",\"showlegend\":true,\"x\":[\"2023-12-01\",\"2024-01-01\",\"2024-02-01\",\"2024-03-01\",\"2024-04-01\",\"2024-05-01\",\"2024-06-01\",\"2024-07-01\",\"2024-08-01\",\"2024-09-01\",\"2024-10-01\",\"2024-11-01\",\"2024-12-01\",\"2025-01-01\",\"2025-02-01\",\"2025-03-01\",\"2025-04-01\",\"2025-05-01\",\"2025-06-01\",\"2025-07-01\",\"2025-08-01\",\"2025-09-01\",\"2025-10-01\",\"2025-11-01\",\"2025-12-01\",\"2026-01-01\",\"2026-02-01\",\"2026-03-01\",\"2026-04-01\",\"2026-05-01\",\"2026-06-01\",\"2026-07-01\",\"2026-08-01\",\"2026-09-01\",\"2026-10-01\",\"2026-11-01\"],\"xaxis\":\"x\",\"y\":[658765.8,658765.8,639523.5,633864.0,645183.0,673480.5,672348.6000000001,662161.5,656502.0,658765.8,662161.5,662161.5,661029.6000000001,662161.5,673480.5,681403.8,684799.5,687063.3,687629.25,680271.9,683101.65,688195.2000000001,689327.1000000001,690459.0,692722.8,696118.5,701778.0,707437.5,696118.5,684799.5,682535.7000000001,698382.3,696118.5,699514.2000000001,702909.9,707437.5],\"yaxis\":\"y\",\"type\":\"scatter\"},{\"hovertemplate\":\"variable=Custo_Produto_Vendido\\u003cbr\\u003eM\\u00eas=%{x}\\u003cbr\\u003evalue=%{y}\\u003cextra\\u003e\\u003c\\u002fextra\\u003e\",\"legendgroup\":\"Custo_Produto_Vendido\",\"line\":{\"color\":\"green\",\"dash\":\"solid\"},\"marker\":{\"symbol\":\"circle\"},\"mode\":\"lines\",\"name\":\"Custo_Produto_Vendido\",\"orientation\":\"v\",\"showlegend\":true,\"x\":[\"2023-12-01\",\"2024-01-01\",\"2024-02-01\",\"2024-03-01\",\"2024-04-01\",\"2024-05-01\",\"2024-06-01\",\"2024-07-01\",\"2024-08-01\",\"2024-09-01\",\"2024-10-01\",\"2024-11-01\",\"2024-12-01\",\"2025-01-01\",\"2025-02-01\",\"2025-03-01\",\"2025-04-01\",\"2025-05-01\",\"2025-06-01\",\"2025-07-01\",\"2025-08-01\",\"2025-09-01\",\"2025-10-01\",\"2025-11-01\",\"2025-12-01\",\"2026-01-01\",\"2026-02-01\",\"2026-03-01\",\"2026-04-01\",\"2026-05-01\",\"2026-06-01\",\"2026-07-01\",\"2026-08-01\",\"2026-09-01\",\"2026-10-01\",\"2026-11-01\"],\"xaxis\":\"x\",\"y\":[483021.00000000006,484788.1500000001,483021.00000000006,517068.0900000001,492445.80000000005,494212.95000000007,519542.1000000001,517686.5925000001,516202.18650000007,513975.5775000001,489500.55000000005,490089.6000000001,492445.80000000005,493034.8500000001,494212.95000000007,519542.1000000001,500692.50000000006,501281.55000000005,506583.00000000006,508939.20000000007,538097.175,538097.175,541808.1900000001,541808.1900000001,506583.00000000006,505404.9000000001,500692.50000000006,512473.50000000006,541808.1900000001,536035.5,541926.0,571496.31,572733.3150000001,573970.3200000001,571496.31,544871.25],\"yaxis\":\"y\",\"type\":\"scatter\"}],                        {\"template\":{\"data\":{\"histogram2dcontour\":[{\"type\":\"histogram2dcontour\",\"colorbar\":{\"outlinewidth\":0,\"ticks\":\"\"},\"colorscale\":[[0.0,\"#0d0887\"],[0.1111111111111111,\"#46039f\"],[0.2222222222222222,\"#7201a8\"],[0.3333333333333333,\"#9c179e\"],[0.4444444444444444,\"#bd3786\"],[0.5555555555555556,\"#d8576b\"],[0.6666666666666666,\"#ed7953\"],[0.7777777777777778,\"#fb9f3a\"],[0.8888888888888888,\"#fdca26\"],[1.0,\"#f0f921\"]]}],\"choropleth\":[{\"type\":\"choropleth\",\"colorbar\":{\"outlinewidth\":0,\"ticks\":\"\"}}],\"histogram2d\":[{\"type\":\"histogram2d\",\"colorbar\":{\"outlinewidth\":0,\"ticks\":\"\"},\"colorscale\":[[0.0,\"#0d0887\"],[0.1111111111111111,\"#46039f\"],[0.2222222222222222,\"#7201a8\"],[0.3333333333333333,\"#9c179e\"],[0.4444444444444444,\"#bd3786\"],[0.5555555555555556,\"#d8576b\"],[0.6666666666666666,\"#ed7953\"],[0.7777777777777778,\"#fb9f3a\"],[0.8888888888888888,\"#fdca26\"],[1.0,\"#f0f921\"]]}],\"heatmap\":[{\"type\":\"heatmap\",\"colorbar\":{\"outlinewidth\":0,\"ticks\":\"\"},\"colorscale\":[[0.0,\"#0d0887\"],[0.1111111111111111,\"#46039f\"],[0.2222222222222222,\"#7201a8\"],[0.3333333333333333,\"#9c179e\"],[0.4444444444444444,\"#bd3786\"],[0.5555555555555556,\"#d8576b\"],[0.6666666666666666,\"#ed7953\"],[0.7777777777777778,\"#fb9f3a\"],[0.8888888888888888,\"#fdca26\"],[1.0,\"#f0f921\"]]}],\"heatmapgl\":[{\"type\":\"heatmapgl\",\"colorbar\":{\"outlinewidth\":0,\"ticks\":\"\"},\"colorscale\":[[0.0,\"#0d0887\"],[0.1111111111111111,\"#46039f\"],[0.2222222222222222,\"#7201a8\"],[0.3333333333333333,\"#9c179e\"],[0.4444444444444444,\"#bd3786\"],[0.5555555555555556,\"#d8576b\"],[0.6666666666666666,\"#ed7953\"],[0.7777777777777778,\"#fb9f3a\"],[0.8888888888888888,\"#fdca26\"],[1.0,\"#f0f921\"]]}],\"contourcarpet\":[{\"type\":\"contourcarpet\",\"colorbar\":{\"outlinewidth\":0,\"ticks\":\"\"}}],\"contour\":[{\"type\":\"contour\",\"colorbar\":{\"outlinewidth\":0,\"ticks\":\"\"},\"colorscale\":[[0.0,\"#0d0887\"],[0.1111111111111111,\"#46039f\"],[0.2222222222222222,\"#7201a8\"],[0.3333333333333333,\"#9c179e\"],[0.4444444444444444,\"#bd3786\"],[0.5555555555555556,\"#d8576b\"],[0.6666666666666666,\"#ed7953\"],[0.7777777777777778,\"#fb9f3a\"],[0.8888888888888888,\"#fdca26\"],[1.0,\"#f0f921\"]]}],\"surface\":[{\"type\":\"surface\",\"colorbar\":{\"outlinewidth\":0,\"ticks\":\"\"},\"colorscale\":[[0.0,\"#0d0887\"],[0.1111111111111111,\"#46039f\"],[0.2222222222222222,\"#7201a8\"],[0.3333333333333333,\"#9c179e\"],[0.4444444444444444,\"#bd3786\"],[0.5555555555555556,\"#d8576b\"],[0.6666666666666666,\"#ed7953\"],[0.7777777777777778,\"#fb9f3a\"],[0.8888888888888888,\"#fdca26\"],[1.0,\"#f0f921\"]]}],\"mesh3d\":[{\"type\":\"mesh3d\",\"colorbar\":{\"outlinewidth\":0,\"ticks\":\"\"}}],\"scatter\":[{\"fillpattern\":{\"fillmode\":\"overlay\",\"size\":10,\"solidity\":0.2},\"type\":\"scatter\"}],\"parcoords\":[{\"type\":\"parcoords\",\"line\":{\"colorbar\":{\"outlinewidth\":0,\"ticks\":\"\"}}}],\"scatterpolargl\":[{\"type\":\"scatterpolargl\",\"marker\":{\"colorbar\":{\"outlinewidth\":0,\"ticks\":\"\"}}}],\"bar\":[{\"error_x\":{\"color\":\"#2a3f5f\"},\"error_y\":{\"color\":\"#2a3f5f\"},\"marker\":{\"line\":{\"color\":\"#E5ECF6\",\"width\":0.5},\"pattern\":{\"fillmode\":\"overlay\",\"size\":10,\"solidity\":0.2}},\"type\":\"bar\"}],\"scattergeo\":[{\"type\":\"scattergeo\",\"marker\":{\"colorbar\":{\"outlinewidth\":0,\"ticks\":\"\"}}}],\"scatterpolar\":[{\"type\":\"scatterpolar\",\"marker\":{\"colorbar\":{\"outlinewidth\":0,\"ticks\":\"\"}}}],\"histogram\":[{\"marker\":{\"pattern\":{\"fillmode\":\"overlay\",\"size\":10,\"solidity\":0.2}},\"type\":\"histogram\"}],\"scattergl\":[{\"type\":\"scattergl\",\"marker\":{\"colorbar\":{\"outlinewidth\":0,\"ticks\":\"\"}}}],\"scatter3d\":[{\"type\":\"scatter3d\",\"line\":{\"colorbar\":{\"outlinewidth\":0,\"ticks\":\"\"}},\"marker\":{\"colorbar\":{\"outlinewidth\":0,\"ticks\":\"\"}}}],\"scattermapbox\":[{\"type\":\"scattermapbox\",\"marker\":{\"colorbar\":{\"outlinewidth\":0,\"ticks\":\"\"}}}],\"scatterternary\":[{\"type\":\"scatterternary\",\"marker\":{\"colorbar\":{\"outlinewidth\":0,\"ticks\":\"\"}}}],\"scattercarpet\":[{\"type\":\"scattercarpet\",\"marker\":{\"colorbar\":{\"outlinewidth\":0,\"ticks\":\"\"}}}],\"carpet\":[{\"aaxis\":{\"endlinecolor\":\"#2a3f5f\",\"gridcolor\":\"white\",\"linecolor\":\"white\",\"minorgridcolor\":\"white\",\"startlinecolor\":\"#2a3f5f\"},\"baxis\":{\"endlinecolor\":\"#2a3f5f\",\"gridcolor\":\"white\",\"linecolor\":\"white\",\"minorgridcolor\":\"white\",\"startlinecolor\":\"#2a3f5f\"},\"type\":\"carpet\"}],\"table\":[{\"cells\":{\"fill\":{\"color\":\"#EBF0F8\"},\"line\":{\"color\":\"white\"}},\"header\":{\"fill\":{\"color\":\"#C8D4E3\"},\"line\":{\"color\":\"white\"}},\"type\":\"table\"}],\"barpolar\":[{\"marker\":{\"line\":{\"color\":\"#E5ECF6\",\"width\":0.5},\"pattern\":{\"fillmode\":\"overlay\",\"size\":10,\"solidity\":0.2}},\"type\":\"barpolar\"}],\"pie\":[{\"automargin\":true,\"type\":\"pie\"}]},\"layout\":{\"autotypenumbers\":\"strict\",\"colorway\":[\"#636efa\",\"#EF553B\",\"#00cc96\",\"#ab63fa\",\"#FFA15A\",\"#19d3f3\",\"#FF6692\",\"#B6E880\",\"#FF97FF\",\"#FECB52\"],\"font\":{\"color\":\"#2a3f5f\"},\"hovermode\":\"closest\",\"hoverlabel\":{\"align\":\"left\"},\"paper_bgcolor\":\"white\",\"plot_bgcolor\":\"#E5ECF6\",\"polar\":{\"bgcolor\":\"#E5ECF6\",\"angularaxis\":{\"gridcolor\":\"white\",\"linecolor\":\"white\",\"ticks\":\"\"},\"radialaxis\":{\"gridcolor\":\"white\",\"linecolor\":\"white\",\"ticks\":\"\"}},\"ternary\":{\"bgcolor\":\"#E5ECF6\",\"aaxis\":{\"gridcolor\":\"white\",\"linecolor\":\"white\",\"ticks\":\"\"},\"baxis\":{\"gridcolor\":\"white\",\"linecolor\":\"white\",\"ticks\":\"\"},\"caxis\":{\"gridcolor\":\"white\",\"linecolor\":\"white\",\"ticks\":\"\"}},\"coloraxis\":{\"colorbar\":{\"outlinewidth\":0,\"ticks\":\"\"}},\"colorscale\":{\"sequential\":[[0.0,\"#0d0887\"],[0.1111111111111111,\"#46039f\"],[0.2222222222222222,\"#7201a8\"],[0.3333333333333333,\"#9c179e\"],[0.4444444444444444,\"#bd3786\"],[0.5555555555555556,\"#d8576b\"],[0.6666666666666666,\"#ed7953\"],[0.7777777777777778,\"#fb9f3a\"],[0.8888888888888888,\"#fdca26\"],[1.0,\"#f0f921\"]],\"sequentialminus\":[[0.0,\"#0d0887\"],[0.1111111111111111,\"#46039f\"],[0.2222222222222222,\"#7201a8\"],[0.3333333333333333,\"#9c179e\"],[0.4444444444444444,\"#bd3786\"],[0.5555555555555556,\"#d8576b\"],[0.6666666666666666,\"#ed7953\"],[0.7777777777777778,\"#fb9f3a\"],[0.8888888888888888,\"#fdca26\"],[1.0,\"#f0f921\"]],\"diverging\":[[0,\"#8e0152\"],[0.1,\"#c51b7d\"],[0.2,\"#de77ae\"],[0.3,\"#f1b6da\"],[0.4,\"#fde0ef\"],[0.5,\"#f7f7f7\"],[0.6,\"#e6f5d0\"],[0.7,\"#b8e186\"],[0.8,\"#7fbc41\"],[0.9,\"#4d9221\"],[1,\"#276419\"]]},\"xaxis\":{\"gridcolor\":\"white\",\"linecolor\":\"white\",\"ticks\":\"\",\"title\":{\"standoff\":15},\"zerolinecolor\":\"white\",\"automargin\":true,\"zerolinewidth\":2},\"yaxis\":{\"gridcolor\":\"white\",\"linecolor\":\"white\",\"ticks\":\"\",\"title\":{\"standoff\":15},\"zerolinecolor\":\"white\",\"automargin\":true,\"zerolinewidth\":2},\"scene\":{\"xaxis\":{\"backgroundcolor\":\"#E5ECF6\",\"gridcolor\":\"white\",\"linecolor\":\"white\",\"showbackground\":true,\"ticks\":\"\",\"zerolinecolor\":\"white\",\"gridwidth\":2},\"yaxis\":{\"backgroundcolor\":\"#E5ECF6\",\"gridcolor\":\"white\",\"linecolor\":\"white\",\"showbackground\":true,\"ticks\":\"\",\"zerolinecolor\":\"white\",\"gridwidth\":2},\"zaxis\":{\"backgroundcolor\":\"#E5ECF6\",\"gridcolor\":\"white\",\"linecolor\":\"white\",\"showbackground\":true,\"ticks\":\"\",\"zerolinecolor\":\"white\",\"gridwidth\":2}},\"shapedefaults\":{\"line\":{\"color\":\"#2a3f5f\"}},\"annotationdefaults\":{\"arrowcolor\":\"#2a3f5f\",\"arrowhead\":0,\"arrowwidth\":1},\"geo\":{\"bgcolor\":\"white\",\"landcolor\":\"#E5ECF6\",\"subunitcolor\":\"white\",\"showland\":true,\"showlakes\":true,\"lakecolor\":\"white\"},\"title\":{\"x\":0.05},\"mapbox\":{\"style\":\"light\"}}},\"xaxis\":{\"anchor\":\"y\",\"domain\":[0.0,1.0],\"title\":{\"text\":\"Meses\"}},\"yaxis\":{\"anchor\":\"x\",\"domain\":[0.0,1.0],\"title\":{\"text\":\"Valores\"}},\"legend\":{\"title\":{\"text\":\"variable\"},\"tracegroupgap\":0},\"title\":{\"text\":\"Pre\\u00e7os & Custos\",\"font\":{\"family\":\"Arial\",\"size\":18}}},                        {\"responsive\": true}                    ).then(function(){\n",
       "                            \n",
       "var gd = document.getElementById('793522f9-495c-4e2d-970c-e934808dbc0a');\n",
       "var x = new MutationObserver(function (mutations, observer) {{\n",
       "        var display = window.getComputedStyle(gd).display;\n",
       "        if (!display || display === 'none') {{\n",
       "            console.log([gd, 'removed!']);\n",
       "            Plotly.purge(gd);\n",
       "            observer.disconnect();\n",
       "        }}\n",
       "}});\n",
       "\n",
       "// Listen for the removal of the full notebook cells\n",
       "var notebookContainer = gd.closest('#notebook-container');\n",
       "if (notebookContainer) {{\n",
       "    x.observe(notebookContainer, {childList: true});\n",
       "}}\n",
       "\n",
       "// Listen for the clearing of the current output cell\n",
       "var outputEl = gd.closest('.output');\n",
       "if (outputEl) {{\n",
       "    x.observe(outputEl, {childList: true});\n",
       "}}\n",
       "\n",
       "                        })                };                });            </script>        </div>"
      ]
     },
     "metadata": {},
     "output_type": "display_data"
    }
   ],
   "source": [
    "import plotly.express as px\n",
    "\n",
    "# Criando o gráfico com Plotly Express\n",
    "fig_financeiro = px.line(financeiro, x=\"Mês\", y=['Preço_médio','Custo_Produto_Vendido'], title='Preços & Custos')\n",
    "\n",
    "# Alterando a cor da linha para 'Receita Total'\n",
    "fig_financeiro.update_traces(line=dict(color='red'), selector=dict(name='Preço_médio'))\n",
    "\n",
    "# Alterando a cor da linha para 'Custo Total'\n",
    "fig_financeiro.update_traces(line=dict(color='green'), selector=dict(name='Custo_Produto_Vendido'))\n",
    "\n",
    "\n",
    "# Alterando o título do eixo x\n",
    "fig_financeiro.update_layout(xaxis_title='Meses')\n",
    "\n",
    "# Alterando o título do eixo y\n",
    "fig_financeiro.update_layout(yaxis_title='Valores')\n",
    "\n",
    "# Alterando o título do gráfico\n",
    "fig_financeiro.update_layout(title='Preços & Custos')\n",
    "\n",
    "# Alterando a fonte e o tamanho de letra do título\n",
    "fig_financeiro.update_layout(title_font=dict(family='Arial', size=18))\n",
    "\n",
    "# Alterando o estilo da linha para trace 'Receita Total'\n",
    "fig_financeiro.update_traces(line=dict(dash='dash'), selector=dict(name='Preço_médio'))\n",
    "\n",
    "# Exibindo o gráfico\n",
    "fig_financeiro.show()\n"
   ]
  },
  {
   "cell_type": "code",
   "execution_count": 22,
   "id": "d501a682",
   "metadata": {},
   "outputs": [
    {
     "data": {
      "application/vnd.plotly.v1+json": {
       "config": {
        "plotlyServerURL": "https://plot.ly"
       },
       "data": [
        {
         "hovertemplate": "variable=Receita Total<br>Mês=%{x}<br>value=%{y}<extra></extra>",
         "legendgroup": "Receita Total",
         "line": {
          "color": "red",
          "dash": "dash"
         },
         "marker": {
          "symbol": "circle"
         },
         "mode": "lines",
         "name": "Receita Total",
         "orientation": "v",
         "showlegend": true,
         "type": "scatter",
         "x": [
          "2023-12-01",
          "2024-01-01",
          "2024-02-01",
          "2024-03-01",
          "2024-04-01",
          "2024-05-01",
          "2024-06-01",
          "2024-07-01",
          "2024-08-01",
          "2024-09-01",
          "2024-10-01",
          "2024-11-01",
          "2024-12-01",
          "2025-01-01",
          "2025-02-01",
          "2025-03-01",
          "2025-04-01",
          "2025-05-01",
          "2025-06-01",
          "2025-07-01",
          "2025-08-01",
          "2025-09-01",
          "2025-10-01",
          "2025-11-01",
          "2025-12-01",
          "2026-01-01",
          "2026-02-01",
          "2026-03-01",
          "2026-04-01",
          "2026-05-01",
          "2026-06-01",
          "2026-07-01",
          "2026-08-01",
          "2026-09-01",
          "2026-10-01",
          "2026-11-01"
         ],
         "xaxis": "x",
         "y": [
          522714193.15500003,
          433234034.541,
          384212928.33,
          446059604.76,
          415910769.12,
          462660899.08500004,
          475999276.5990001,
          494790248.4525,
          504958360.83,
          479262000.98700005,
          492651466.8075,
          484434042.59250003,
          522094398.6720001,
          436480306.7625,
          407475906.91499996,
          479166559.1790001,
          442962556.575,
          472167076.34250003,
          486232957.11375,
          506472633.6285,
          522805016.81100005,
          499443902.49600005,
          511105024.9305001,
          503786504.76,
          543828961.368,
          459928973.5425,
          427519648.71000004,
          497052661.875,
          451763503.5375,
          470727752.3025,
          482109091.69500005,
          518175223.21950006,
          530282189.745,
          506469266.226,
          519443387.00100005,
          514851789.375
         ],
         "yaxis": "y"
        },
        {
         "hovertemplate": "variable=Custo Total<br>Mês=%{x}<br>value=%{y}<extra></extra>",
         "legendgroup": "Custo Total",
         "line": {
          "color": "green",
          "dash": "solid"
         },
         "marker": {
          "symbol": "circle"
         },
         "mode": "lines",
         "name": "Custo Total",
         "orientation": "v",
         "showlegend": true,
         "type": "scatter",
         "x": [
          "2023-12-01",
          "2024-01-01",
          "2024-02-01",
          "2024-03-01",
          "2024-04-01",
          "2024-05-01",
          "2024-06-01",
          "2024-07-01",
          "2024-08-01",
          "2024-09-01",
          "2024-10-01",
          "2024-11-01",
          "2024-12-01",
          "2025-01-01",
          "2025-02-01",
          "2025-03-01",
          "2025-04-01",
          "2025-05-01",
          "2025-06-01",
          "2025-07-01",
          "2025-08-01",
          "2025-09-01",
          "2025-10-01",
          "2025-11-01",
          "2025-12-01",
          "2026-01-01",
          "2026-02-01",
          "2026-03-01",
          "2026-04-01",
          "2026-05-01",
          "2026-06-01",
          "2026-07-01",
          "2026-08-01",
          "2026-09-01",
          "2026-10-01",
          "2026-11-01"
         ],
         "xaxis": "x",
         "y": [
          383265087.9750001,
          318818502.90675,
          290189356.38,
          363868570.95435005,
          317450260.512,
          339509470.26150006,
          367817622.82650006,
          386833540.9467376,
          397044654.77927256,
          373924942.26491255,
          364190856.70275,
          358547100.91200006,
          388943541.75600004,
          324996247.24875003,
          299013661.13850003,
          365344602.4305001,
          323872943.62500006,
          344493213.19875,
          358212438.045,
          378912868.48800004,
          411827291.91450006,
          390513262.81275004,
          401726391.51645005,
          395324927.7516,
          397698049.98,
          333923544.4545001,
          305019367.5375001,
          360069005.83500004,
          351619970.10525006,
          368468122.5225,
          382789430.1,
          424030259.6491501,
          436291057.36755,
          415571730.7896,
          422330058.1269,
          396540949.6125
         ],
         "yaxis": "y"
        },
        {
         "hovertemplate": "variable=Lucro<br>Mês=%{x}<br>value=%{y}<extra></extra>",
         "legendgroup": "Lucro",
         "line": {
          "color": "blue",
          "dash": "solid"
         },
         "marker": {
          "symbol": "circle"
         },
         "mode": "lines",
         "name": "Lucro",
         "orientation": "v",
         "showlegend": true,
         "type": "scatter",
         "x": [
          "2023-12-01",
          "2024-01-01",
          "2024-02-01",
          "2024-03-01",
          "2024-04-01",
          "2024-05-01",
          "2024-06-01",
          "2024-07-01",
          "2024-08-01",
          "2024-09-01",
          "2024-10-01",
          "2024-11-01",
          "2024-12-01",
          "2025-01-01",
          "2025-02-01",
          "2025-03-01",
          "2025-04-01",
          "2025-05-01",
          "2025-06-01",
          "2025-07-01",
          "2025-08-01",
          "2025-09-01",
          "2025-10-01",
          "2025-11-01",
          "2025-12-01",
          "2026-01-01",
          "2026-02-01",
          "2026-03-01",
          "2026-04-01",
          "2026-05-01",
          "2026-06-01",
          "2026-07-01",
          "2026-08-01",
          "2026-09-01",
          "2026-10-01",
          "2026-11-01"
         ],
         "xaxis": "x",
         "y": [
          139449105.17999995,
          114415531.63424999,
          94023571.94999999,
          82191033.80564994,
          98460508.60799998,
          123151428.82349998,
          108181653.77250004,
          107956707.5057624,
          107913706.05072743,
          105337058.7220875,
          128460610.10474998,
          125886941.68049997,
          133150856.91600007,
          111484059.51374996,
          108462245.77649993,
          113821956.74849999,
          119089612.94999993,
          127673863.14375001,
          128020519.06874996,
          127559765.14049995,
          110977724.89649999,
          108930639.68325001,
          109378633.41405004,
          108461577.00839996,
          146130911.388,
          126005429.08799994,
          122500281.17249995,
          136983656.03999996,
          100143533.43224996,
          102259629.78000003,
          99319661.59500003,
          94144963.57034999,
          93991132.37744999,
          90897535.4364,
          97113328.87410003,
          118310839.76249999
         ],
         "yaxis": "y"
        }
       ],
       "layout": {
        "legend": {
         "title": {
          "text": "variable"
         },
         "tracegroupgap": 0
        },
        "template": {
         "data": {
          "bar": [
           {
            "error_x": {
             "color": "#2a3f5f"
            },
            "error_y": {
             "color": "#2a3f5f"
            },
            "marker": {
             "line": {
              "color": "#E5ECF6",
              "width": 0.5
             },
             "pattern": {
              "fillmode": "overlay",
              "size": 10,
              "solidity": 0.2
             }
            },
            "type": "bar"
           }
          ],
          "barpolar": [
           {
            "marker": {
             "line": {
              "color": "#E5ECF6",
              "width": 0.5
             },
             "pattern": {
              "fillmode": "overlay",
              "size": 10,
              "solidity": 0.2
             }
            },
            "type": "barpolar"
           }
          ],
          "carpet": [
           {
            "aaxis": {
             "endlinecolor": "#2a3f5f",
             "gridcolor": "white",
             "linecolor": "white",
             "minorgridcolor": "white",
             "startlinecolor": "#2a3f5f"
            },
            "baxis": {
             "endlinecolor": "#2a3f5f",
             "gridcolor": "white",
             "linecolor": "white",
             "minorgridcolor": "white",
             "startlinecolor": "#2a3f5f"
            },
            "type": "carpet"
           }
          ],
          "choropleth": [
           {
            "colorbar": {
             "outlinewidth": 0,
             "ticks": ""
            },
            "type": "choropleth"
           }
          ],
          "contour": [
           {
            "colorbar": {
             "outlinewidth": 0,
             "ticks": ""
            },
            "colorscale": [
             [
              0,
              "#0d0887"
             ],
             [
              0.1111111111111111,
              "#46039f"
             ],
             [
              0.2222222222222222,
              "#7201a8"
             ],
             [
              0.3333333333333333,
              "#9c179e"
             ],
             [
              0.4444444444444444,
              "#bd3786"
             ],
             [
              0.5555555555555556,
              "#d8576b"
             ],
             [
              0.6666666666666666,
              "#ed7953"
             ],
             [
              0.7777777777777778,
              "#fb9f3a"
             ],
             [
              0.8888888888888888,
              "#fdca26"
             ],
             [
              1,
              "#f0f921"
             ]
            ],
            "type": "contour"
           }
          ],
          "contourcarpet": [
           {
            "colorbar": {
             "outlinewidth": 0,
             "ticks": ""
            },
            "type": "contourcarpet"
           }
          ],
          "heatmap": [
           {
            "colorbar": {
             "outlinewidth": 0,
             "ticks": ""
            },
            "colorscale": [
             [
              0,
              "#0d0887"
             ],
             [
              0.1111111111111111,
              "#46039f"
             ],
             [
              0.2222222222222222,
              "#7201a8"
             ],
             [
              0.3333333333333333,
              "#9c179e"
             ],
             [
              0.4444444444444444,
              "#bd3786"
             ],
             [
              0.5555555555555556,
              "#d8576b"
             ],
             [
              0.6666666666666666,
              "#ed7953"
             ],
             [
              0.7777777777777778,
              "#fb9f3a"
             ],
             [
              0.8888888888888888,
              "#fdca26"
             ],
             [
              1,
              "#f0f921"
             ]
            ],
            "type": "heatmap"
           }
          ],
          "heatmapgl": [
           {
            "colorbar": {
             "outlinewidth": 0,
             "ticks": ""
            },
            "colorscale": [
             [
              0,
              "#0d0887"
             ],
             [
              0.1111111111111111,
              "#46039f"
             ],
             [
              0.2222222222222222,
              "#7201a8"
             ],
             [
              0.3333333333333333,
              "#9c179e"
             ],
             [
              0.4444444444444444,
              "#bd3786"
             ],
             [
              0.5555555555555556,
              "#d8576b"
             ],
             [
              0.6666666666666666,
              "#ed7953"
             ],
             [
              0.7777777777777778,
              "#fb9f3a"
             ],
             [
              0.8888888888888888,
              "#fdca26"
             ],
             [
              1,
              "#f0f921"
             ]
            ],
            "type": "heatmapgl"
           }
          ],
          "histogram": [
           {
            "marker": {
             "pattern": {
              "fillmode": "overlay",
              "size": 10,
              "solidity": 0.2
             }
            },
            "type": "histogram"
           }
          ],
          "histogram2d": [
           {
            "colorbar": {
             "outlinewidth": 0,
             "ticks": ""
            },
            "colorscale": [
             [
              0,
              "#0d0887"
             ],
             [
              0.1111111111111111,
              "#46039f"
             ],
             [
              0.2222222222222222,
              "#7201a8"
             ],
             [
              0.3333333333333333,
              "#9c179e"
             ],
             [
              0.4444444444444444,
              "#bd3786"
             ],
             [
              0.5555555555555556,
              "#d8576b"
             ],
             [
              0.6666666666666666,
              "#ed7953"
             ],
             [
              0.7777777777777778,
              "#fb9f3a"
             ],
             [
              0.8888888888888888,
              "#fdca26"
             ],
             [
              1,
              "#f0f921"
             ]
            ],
            "type": "histogram2d"
           }
          ],
          "histogram2dcontour": [
           {
            "colorbar": {
             "outlinewidth": 0,
             "ticks": ""
            },
            "colorscale": [
             [
              0,
              "#0d0887"
             ],
             [
              0.1111111111111111,
              "#46039f"
             ],
             [
              0.2222222222222222,
              "#7201a8"
             ],
             [
              0.3333333333333333,
              "#9c179e"
             ],
             [
              0.4444444444444444,
              "#bd3786"
             ],
             [
              0.5555555555555556,
              "#d8576b"
             ],
             [
              0.6666666666666666,
              "#ed7953"
             ],
             [
              0.7777777777777778,
              "#fb9f3a"
             ],
             [
              0.8888888888888888,
              "#fdca26"
             ],
             [
              1,
              "#f0f921"
             ]
            ],
            "type": "histogram2dcontour"
           }
          ],
          "mesh3d": [
           {
            "colorbar": {
             "outlinewidth": 0,
             "ticks": ""
            },
            "type": "mesh3d"
           }
          ],
          "parcoords": [
           {
            "line": {
             "colorbar": {
              "outlinewidth": 0,
              "ticks": ""
             }
            },
            "type": "parcoords"
           }
          ],
          "pie": [
           {
            "automargin": true,
            "type": "pie"
           }
          ],
          "scatter": [
           {
            "fillpattern": {
             "fillmode": "overlay",
             "size": 10,
             "solidity": 0.2
            },
            "type": "scatter"
           }
          ],
          "scatter3d": [
           {
            "line": {
             "colorbar": {
              "outlinewidth": 0,
              "ticks": ""
             }
            },
            "marker": {
             "colorbar": {
              "outlinewidth": 0,
              "ticks": ""
             }
            },
            "type": "scatter3d"
           }
          ],
          "scattercarpet": [
           {
            "marker": {
             "colorbar": {
              "outlinewidth": 0,
              "ticks": ""
             }
            },
            "type": "scattercarpet"
           }
          ],
          "scattergeo": [
           {
            "marker": {
             "colorbar": {
              "outlinewidth": 0,
              "ticks": ""
             }
            },
            "type": "scattergeo"
           }
          ],
          "scattergl": [
           {
            "marker": {
             "colorbar": {
              "outlinewidth": 0,
              "ticks": ""
             }
            },
            "type": "scattergl"
           }
          ],
          "scattermapbox": [
           {
            "marker": {
             "colorbar": {
              "outlinewidth": 0,
              "ticks": ""
             }
            },
            "type": "scattermapbox"
           }
          ],
          "scatterpolar": [
           {
            "marker": {
             "colorbar": {
              "outlinewidth": 0,
              "ticks": ""
             }
            },
            "type": "scatterpolar"
           }
          ],
          "scatterpolargl": [
           {
            "marker": {
             "colorbar": {
              "outlinewidth": 0,
              "ticks": ""
             }
            },
            "type": "scatterpolargl"
           }
          ],
          "scatterternary": [
           {
            "marker": {
             "colorbar": {
              "outlinewidth": 0,
              "ticks": ""
             }
            },
            "type": "scatterternary"
           }
          ],
          "surface": [
           {
            "colorbar": {
             "outlinewidth": 0,
             "ticks": ""
            },
            "colorscale": [
             [
              0,
              "#0d0887"
             ],
             [
              0.1111111111111111,
              "#46039f"
             ],
             [
              0.2222222222222222,
              "#7201a8"
             ],
             [
              0.3333333333333333,
              "#9c179e"
             ],
             [
              0.4444444444444444,
              "#bd3786"
             ],
             [
              0.5555555555555556,
              "#d8576b"
             ],
             [
              0.6666666666666666,
              "#ed7953"
             ],
             [
              0.7777777777777778,
              "#fb9f3a"
             ],
             [
              0.8888888888888888,
              "#fdca26"
             ],
             [
              1,
              "#f0f921"
             ]
            ],
            "type": "surface"
           }
          ],
          "table": [
           {
            "cells": {
             "fill": {
              "color": "#EBF0F8"
             },
             "line": {
              "color": "white"
             }
            },
            "header": {
             "fill": {
              "color": "#C8D4E3"
             },
             "line": {
              "color": "white"
             }
            },
            "type": "table"
           }
          ]
         },
         "layout": {
          "annotationdefaults": {
           "arrowcolor": "#2a3f5f",
           "arrowhead": 0,
           "arrowwidth": 1
          },
          "autotypenumbers": "strict",
          "coloraxis": {
           "colorbar": {
            "outlinewidth": 0,
            "ticks": ""
           }
          },
          "colorscale": {
           "diverging": [
            [
             0,
             "#8e0152"
            ],
            [
             0.1,
             "#c51b7d"
            ],
            [
             0.2,
             "#de77ae"
            ],
            [
             0.3,
             "#f1b6da"
            ],
            [
             0.4,
             "#fde0ef"
            ],
            [
             0.5,
             "#f7f7f7"
            ],
            [
             0.6,
             "#e6f5d0"
            ],
            [
             0.7,
             "#b8e186"
            ],
            [
             0.8,
             "#7fbc41"
            ],
            [
             0.9,
             "#4d9221"
            ],
            [
             1,
             "#276419"
            ]
           ],
           "sequential": [
            [
             0,
             "#0d0887"
            ],
            [
             0.1111111111111111,
             "#46039f"
            ],
            [
             0.2222222222222222,
             "#7201a8"
            ],
            [
             0.3333333333333333,
             "#9c179e"
            ],
            [
             0.4444444444444444,
             "#bd3786"
            ],
            [
             0.5555555555555556,
             "#d8576b"
            ],
            [
             0.6666666666666666,
             "#ed7953"
            ],
            [
             0.7777777777777778,
             "#fb9f3a"
            ],
            [
             0.8888888888888888,
             "#fdca26"
            ],
            [
             1,
             "#f0f921"
            ]
           ],
           "sequentialminus": [
            [
             0,
             "#0d0887"
            ],
            [
             0.1111111111111111,
             "#46039f"
            ],
            [
             0.2222222222222222,
             "#7201a8"
            ],
            [
             0.3333333333333333,
             "#9c179e"
            ],
            [
             0.4444444444444444,
             "#bd3786"
            ],
            [
             0.5555555555555556,
             "#d8576b"
            ],
            [
             0.6666666666666666,
             "#ed7953"
            ],
            [
             0.7777777777777778,
             "#fb9f3a"
            ],
            [
             0.8888888888888888,
             "#fdca26"
            ],
            [
             1,
             "#f0f921"
            ]
           ]
          },
          "colorway": [
           "#636efa",
           "#EF553B",
           "#00cc96",
           "#ab63fa",
           "#FFA15A",
           "#19d3f3",
           "#FF6692",
           "#B6E880",
           "#FF97FF",
           "#FECB52"
          ],
          "font": {
           "color": "#2a3f5f"
          },
          "geo": {
           "bgcolor": "white",
           "lakecolor": "white",
           "landcolor": "#E5ECF6",
           "showlakes": true,
           "showland": true,
           "subunitcolor": "white"
          },
          "hoverlabel": {
           "align": "left"
          },
          "hovermode": "closest",
          "mapbox": {
           "style": "light"
          },
          "paper_bgcolor": "white",
          "plot_bgcolor": "#E5ECF6",
          "polar": {
           "angularaxis": {
            "gridcolor": "white",
            "linecolor": "white",
            "ticks": ""
           },
           "bgcolor": "#E5ECF6",
           "radialaxis": {
            "gridcolor": "white",
            "linecolor": "white",
            "ticks": ""
           }
          },
          "scene": {
           "xaxis": {
            "backgroundcolor": "#E5ECF6",
            "gridcolor": "white",
            "gridwidth": 2,
            "linecolor": "white",
            "showbackground": true,
            "ticks": "",
            "zerolinecolor": "white"
           },
           "yaxis": {
            "backgroundcolor": "#E5ECF6",
            "gridcolor": "white",
            "gridwidth": 2,
            "linecolor": "white",
            "showbackground": true,
            "ticks": "",
            "zerolinecolor": "white"
           },
           "zaxis": {
            "backgroundcolor": "#E5ECF6",
            "gridcolor": "white",
            "gridwidth": 2,
            "linecolor": "white",
            "showbackground": true,
            "ticks": "",
            "zerolinecolor": "white"
           }
          },
          "shapedefaults": {
           "line": {
            "color": "#2a3f5f"
           }
          },
          "ternary": {
           "aaxis": {
            "gridcolor": "white",
            "linecolor": "white",
            "ticks": ""
           },
           "baxis": {
            "gridcolor": "white",
            "linecolor": "white",
            "ticks": ""
           },
           "bgcolor": "#E5ECF6",
           "caxis": {
            "gridcolor": "white",
            "linecolor": "white",
            "ticks": ""
           }
          },
          "title": {
           "x": 0.05
          },
          "xaxis": {
           "automargin": true,
           "gridcolor": "white",
           "linecolor": "white",
           "ticks": "",
           "title": {
            "standoff": 15
           },
           "zerolinecolor": "white",
           "zerolinewidth": 2
          },
          "yaxis": {
           "automargin": true,
           "gridcolor": "white",
           "linecolor": "white",
           "ticks": "",
           "title": {
            "standoff": 15
           },
           "zerolinecolor": "white",
           "zerolinewidth": 2
          }
         }
        },
        "title": {
         "font": {
          "family": "Arial",
          "size": 18
         },
         "text": "Análise Financeira"
        },
        "xaxis": {
         "anchor": "y",
         "domain": [
          0,
          1
         ],
         "title": {
          "text": "Meses"
         }
        },
        "yaxis": {
         "anchor": "x",
         "domain": [
          0,
          1
         ],
         "title": {
          "text": "Valores"
         }
        }
       }
      },
      "text/html": [
       "<div>                            <div id=\"e2e4c907-59d8-47da-b705-409b57c4c0d5\" class=\"plotly-graph-div\" style=\"height:525px; width:100%;\"></div>            <script type=\"text/javascript\">                require([\"plotly\"], function(Plotly) {                    window.PLOTLYENV=window.PLOTLYENV || {};                                    if (document.getElementById(\"e2e4c907-59d8-47da-b705-409b57c4c0d5\")) {                    Plotly.newPlot(                        \"e2e4c907-59d8-47da-b705-409b57c4c0d5\",                        [{\"hovertemplate\":\"variable=Receita Total\\u003cbr\\u003eM\\u00eas=%{x}\\u003cbr\\u003evalue=%{y}\\u003cextra\\u003e\\u003c\\u002fextra\\u003e\",\"legendgroup\":\"Receita Total\",\"line\":{\"color\":\"red\",\"dash\":\"dash\"},\"marker\":{\"symbol\":\"circle\"},\"mode\":\"lines\",\"name\":\"Receita Total\",\"orientation\":\"v\",\"showlegend\":true,\"x\":[\"2023-12-01\",\"2024-01-01\",\"2024-02-01\",\"2024-03-01\",\"2024-04-01\",\"2024-05-01\",\"2024-06-01\",\"2024-07-01\",\"2024-08-01\",\"2024-09-01\",\"2024-10-01\",\"2024-11-01\",\"2024-12-01\",\"2025-01-01\",\"2025-02-01\",\"2025-03-01\",\"2025-04-01\",\"2025-05-01\",\"2025-06-01\",\"2025-07-01\",\"2025-08-01\",\"2025-09-01\",\"2025-10-01\",\"2025-11-01\",\"2025-12-01\",\"2026-01-01\",\"2026-02-01\",\"2026-03-01\",\"2026-04-01\",\"2026-05-01\",\"2026-06-01\",\"2026-07-01\",\"2026-08-01\",\"2026-09-01\",\"2026-10-01\",\"2026-11-01\"],\"xaxis\":\"x\",\"y\":[522714193.15500003,433234034.541,384212928.33,446059604.76,415910769.12,462660899.08500004,475999276.5990001,494790248.4525,504958360.83,479262000.98700005,492651466.8075,484434042.59250003,522094398.6720001,436480306.7625,407475906.91499996,479166559.1790001,442962556.575,472167076.34250003,486232957.11375,506472633.6285,522805016.81100005,499443902.49600005,511105024.9305001,503786504.76,543828961.368,459928973.5425,427519648.71000004,497052661.875,451763503.5375,470727752.3025,482109091.69500005,518175223.21950006,530282189.745,506469266.226,519443387.00100005,514851789.375],\"yaxis\":\"y\",\"type\":\"scatter\"},{\"hovertemplate\":\"variable=Custo Total\\u003cbr\\u003eM\\u00eas=%{x}\\u003cbr\\u003evalue=%{y}\\u003cextra\\u003e\\u003c\\u002fextra\\u003e\",\"legendgroup\":\"Custo Total\",\"line\":{\"color\":\"green\",\"dash\":\"solid\"},\"marker\":{\"symbol\":\"circle\"},\"mode\":\"lines\",\"name\":\"Custo Total\",\"orientation\":\"v\",\"showlegend\":true,\"x\":[\"2023-12-01\",\"2024-01-01\",\"2024-02-01\",\"2024-03-01\",\"2024-04-01\",\"2024-05-01\",\"2024-06-01\",\"2024-07-01\",\"2024-08-01\",\"2024-09-01\",\"2024-10-01\",\"2024-11-01\",\"2024-12-01\",\"2025-01-01\",\"2025-02-01\",\"2025-03-01\",\"2025-04-01\",\"2025-05-01\",\"2025-06-01\",\"2025-07-01\",\"2025-08-01\",\"2025-09-01\",\"2025-10-01\",\"2025-11-01\",\"2025-12-01\",\"2026-01-01\",\"2026-02-01\",\"2026-03-01\",\"2026-04-01\",\"2026-05-01\",\"2026-06-01\",\"2026-07-01\",\"2026-08-01\",\"2026-09-01\",\"2026-10-01\",\"2026-11-01\"],\"xaxis\":\"x\",\"y\":[383265087.9750001,318818502.90675,290189356.38,363868570.95435005,317450260.512,339509470.26150006,367817622.82650006,386833540.9467376,397044654.77927256,373924942.26491255,364190856.70275,358547100.91200006,388943541.75600004,324996247.24875003,299013661.13850003,365344602.4305001,323872943.62500006,344493213.19875,358212438.045,378912868.48800004,411827291.91450006,390513262.81275004,401726391.51645005,395324927.7516,397698049.98,333923544.4545001,305019367.5375001,360069005.83500004,351619970.10525006,368468122.5225,382789430.1,424030259.6491501,436291057.36755,415571730.7896,422330058.1269,396540949.6125],\"yaxis\":\"y\",\"type\":\"scatter\"},{\"hovertemplate\":\"variable=Lucro\\u003cbr\\u003eM\\u00eas=%{x}\\u003cbr\\u003evalue=%{y}\\u003cextra\\u003e\\u003c\\u002fextra\\u003e\",\"legendgroup\":\"Lucro\",\"line\":{\"color\":\"blue\",\"dash\":\"solid\"},\"marker\":{\"symbol\":\"circle\"},\"mode\":\"lines\",\"name\":\"Lucro\",\"orientation\":\"v\",\"showlegend\":true,\"x\":[\"2023-12-01\",\"2024-01-01\",\"2024-02-01\",\"2024-03-01\",\"2024-04-01\",\"2024-05-01\",\"2024-06-01\",\"2024-07-01\",\"2024-08-01\",\"2024-09-01\",\"2024-10-01\",\"2024-11-01\",\"2024-12-01\",\"2025-01-01\",\"2025-02-01\",\"2025-03-01\",\"2025-04-01\",\"2025-05-01\",\"2025-06-01\",\"2025-07-01\",\"2025-08-01\",\"2025-09-01\",\"2025-10-01\",\"2025-11-01\",\"2025-12-01\",\"2026-01-01\",\"2026-02-01\",\"2026-03-01\",\"2026-04-01\",\"2026-05-01\",\"2026-06-01\",\"2026-07-01\",\"2026-08-01\",\"2026-09-01\",\"2026-10-01\",\"2026-11-01\"],\"xaxis\":\"x\",\"y\":[139449105.17999995,114415531.63424999,94023571.94999999,82191033.80564994,98460508.60799998,123151428.82349998,108181653.77250004,107956707.5057624,107913706.05072743,105337058.7220875,128460610.10474998,125886941.68049997,133150856.91600007,111484059.51374996,108462245.77649993,113821956.74849999,119089612.94999993,127673863.14375001,128020519.06874996,127559765.14049995,110977724.89649999,108930639.68325001,109378633.41405004,108461577.00839996,146130911.388,126005429.08799994,122500281.17249995,136983656.03999996,100143533.43224996,102259629.78000003,99319661.59500003,94144963.57034999,93991132.37744999,90897535.4364,97113328.87410003,118310839.76249999],\"yaxis\":\"y\",\"type\":\"scatter\"}],                        {\"template\":{\"data\":{\"histogram2dcontour\":[{\"type\":\"histogram2dcontour\",\"colorbar\":{\"outlinewidth\":0,\"ticks\":\"\"},\"colorscale\":[[0.0,\"#0d0887\"],[0.1111111111111111,\"#46039f\"],[0.2222222222222222,\"#7201a8\"],[0.3333333333333333,\"#9c179e\"],[0.4444444444444444,\"#bd3786\"],[0.5555555555555556,\"#d8576b\"],[0.6666666666666666,\"#ed7953\"],[0.7777777777777778,\"#fb9f3a\"],[0.8888888888888888,\"#fdca26\"],[1.0,\"#f0f921\"]]}],\"choropleth\":[{\"type\":\"choropleth\",\"colorbar\":{\"outlinewidth\":0,\"ticks\":\"\"}}],\"histogram2d\":[{\"type\":\"histogram2d\",\"colorbar\":{\"outlinewidth\":0,\"ticks\":\"\"},\"colorscale\":[[0.0,\"#0d0887\"],[0.1111111111111111,\"#46039f\"],[0.2222222222222222,\"#7201a8\"],[0.3333333333333333,\"#9c179e\"],[0.4444444444444444,\"#bd3786\"],[0.5555555555555556,\"#d8576b\"],[0.6666666666666666,\"#ed7953\"],[0.7777777777777778,\"#fb9f3a\"],[0.8888888888888888,\"#fdca26\"],[1.0,\"#f0f921\"]]}],\"heatmap\":[{\"type\":\"heatmap\",\"colorbar\":{\"outlinewidth\":0,\"ticks\":\"\"},\"colorscale\":[[0.0,\"#0d0887\"],[0.1111111111111111,\"#46039f\"],[0.2222222222222222,\"#7201a8\"],[0.3333333333333333,\"#9c179e\"],[0.4444444444444444,\"#bd3786\"],[0.5555555555555556,\"#d8576b\"],[0.6666666666666666,\"#ed7953\"],[0.7777777777777778,\"#fb9f3a\"],[0.8888888888888888,\"#fdca26\"],[1.0,\"#f0f921\"]]}],\"heatmapgl\":[{\"type\":\"heatmapgl\",\"colorbar\":{\"outlinewidth\":0,\"ticks\":\"\"},\"colorscale\":[[0.0,\"#0d0887\"],[0.1111111111111111,\"#46039f\"],[0.2222222222222222,\"#7201a8\"],[0.3333333333333333,\"#9c179e\"],[0.4444444444444444,\"#bd3786\"],[0.5555555555555556,\"#d8576b\"],[0.6666666666666666,\"#ed7953\"],[0.7777777777777778,\"#fb9f3a\"],[0.8888888888888888,\"#fdca26\"],[1.0,\"#f0f921\"]]}],\"contourcarpet\":[{\"type\":\"contourcarpet\",\"colorbar\":{\"outlinewidth\":0,\"ticks\":\"\"}}],\"contour\":[{\"type\":\"contour\",\"colorbar\":{\"outlinewidth\":0,\"ticks\":\"\"},\"colorscale\":[[0.0,\"#0d0887\"],[0.1111111111111111,\"#46039f\"],[0.2222222222222222,\"#7201a8\"],[0.3333333333333333,\"#9c179e\"],[0.4444444444444444,\"#bd3786\"],[0.5555555555555556,\"#d8576b\"],[0.6666666666666666,\"#ed7953\"],[0.7777777777777778,\"#fb9f3a\"],[0.8888888888888888,\"#fdca26\"],[1.0,\"#f0f921\"]]}],\"surface\":[{\"type\":\"surface\",\"colorbar\":{\"outlinewidth\":0,\"ticks\":\"\"},\"colorscale\":[[0.0,\"#0d0887\"],[0.1111111111111111,\"#46039f\"],[0.2222222222222222,\"#7201a8\"],[0.3333333333333333,\"#9c179e\"],[0.4444444444444444,\"#bd3786\"],[0.5555555555555556,\"#d8576b\"],[0.6666666666666666,\"#ed7953\"],[0.7777777777777778,\"#fb9f3a\"],[0.8888888888888888,\"#fdca26\"],[1.0,\"#f0f921\"]]}],\"mesh3d\":[{\"type\":\"mesh3d\",\"colorbar\":{\"outlinewidth\":0,\"ticks\":\"\"}}],\"scatter\":[{\"fillpattern\":{\"fillmode\":\"overlay\",\"size\":10,\"solidity\":0.2},\"type\":\"scatter\"}],\"parcoords\":[{\"type\":\"parcoords\",\"line\":{\"colorbar\":{\"outlinewidth\":0,\"ticks\":\"\"}}}],\"scatterpolargl\":[{\"type\":\"scatterpolargl\",\"marker\":{\"colorbar\":{\"outlinewidth\":0,\"ticks\":\"\"}}}],\"bar\":[{\"error_x\":{\"color\":\"#2a3f5f\"},\"error_y\":{\"color\":\"#2a3f5f\"},\"marker\":{\"line\":{\"color\":\"#E5ECF6\",\"width\":0.5},\"pattern\":{\"fillmode\":\"overlay\",\"size\":10,\"solidity\":0.2}},\"type\":\"bar\"}],\"scattergeo\":[{\"type\":\"scattergeo\",\"marker\":{\"colorbar\":{\"outlinewidth\":0,\"ticks\":\"\"}}}],\"scatterpolar\":[{\"type\":\"scatterpolar\",\"marker\":{\"colorbar\":{\"outlinewidth\":0,\"ticks\":\"\"}}}],\"histogram\":[{\"marker\":{\"pattern\":{\"fillmode\":\"overlay\",\"size\":10,\"solidity\":0.2}},\"type\":\"histogram\"}],\"scattergl\":[{\"type\":\"scattergl\",\"marker\":{\"colorbar\":{\"outlinewidth\":0,\"ticks\":\"\"}}}],\"scatter3d\":[{\"type\":\"scatter3d\",\"line\":{\"colorbar\":{\"outlinewidth\":0,\"ticks\":\"\"}},\"marker\":{\"colorbar\":{\"outlinewidth\":0,\"ticks\":\"\"}}}],\"scattermapbox\":[{\"type\":\"scattermapbox\",\"marker\":{\"colorbar\":{\"outlinewidth\":0,\"ticks\":\"\"}}}],\"scatterternary\":[{\"type\":\"scatterternary\",\"marker\":{\"colorbar\":{\"outlinewidth\":0,\"ticks\":\"\"}}}],\"scattercarpet\":[{\"type\":\"scattercarpet\",\"marker\":{\"colorbar\":{\"outlinewidth\":0,\"ticks\":\"\"}}}],\"carpet\":[{\"aaxis\":{\"endlinecolor\":\"#2a3f5f\",\"gridcolor\":\"white\",\"linecolor\":\"white\",\"minorgridcolor\":\"white\",\"startlinecolor\":\"#2a3f5f\"},\"baxis\":{\"endlinecolor\":\"#2a3f5f\",\"gridcolor\":\"white\",\"linecolor\":\"white\",\"minorgridcolor\":\"white\",\"startlinecolor\":\"#2a3f5f\"},\"type\":\"carpet\"}],\"table\":[{\"cells\":{\"fill\":{\"color\":\"#EBF0F8\"},\"line\":{\"color\":\"white\"}},\"header\":{\"fill\":{\"color\":\"#C8D4E3\"},\"line\":{\"color\":\"white\"}},\"type\":\"table\"}],\"barpolar\":[{\"marker\":{\"line\":{\"color\":\"#E5ECF6\",\"width\":0.5},\"pattern\":{\"fillmode\":\"overlay\",\"size\":10,\"solidity\":0.2}},\"type\":\"barpolar\"}],\"pie\":[{\"automargin\":true,\"type\":\"pie\"}]},\"layout\":{\"autotypenumbers\":\"strict\",\"colorway\":[\"#636efa\",\"#EF553B\",\"#00cc96\",\"#ab63fa\",\"#FFA15A\",\"#19d3f3\",\"#FF6692\",\"#B6E880\",\"#FF97FF\",\"#FECB52\"],\"font\":{\"color\":\"#2a3f5f\"},\"hovermode\":\"closest\",\"hoverlabel\":{\"align\":\"left\"},\"paper_bgcolor\":\"white\",\"plot_bgcolor\":\"#E5ECF6\",\"polar\":{\"bgcolor\":\"#E5ECF6\",\"angularaxis\":{\"gridcolor\":\"white\",\"linecolor\":\"white\",\"ticks\":\"\"},\"radialaxis\":{\"gridcolor\":\"white\",\"linecolor\":\"white\",\"ticks\":\"\"}},\"ternary\":{\"bgcolor\":\"#E5ECF6\",\"aaxis\":{\"gridcolor\":\"white\",\"linecolor\":\"white\",\"ticks\":\"\"},\"baxis\":{\"gridcolor\":\"white\",\"linecolor\":\"white\",\"ticks\":\"\"},\"caxis\":{\"gridcolor\":\"white\",\"linecolor\":\"white\",\"ticks\":\"\"}},\"coloraxis\":{\"colorbar\":{\"outlinewidth\":0,\"ticks\":\"\"}},\"colorscale\":{\"sequential\":[[0.0,\"#0d0887\"],[0.1111111111111111,\"#46039f\"],[0.2222222222222222,\"#7201a8\"],[0.3333333333333333,\"#9c179e\"],[0.4444444444444444,\"#bd3786\"],[0.5555555555555556,\"#d8576b\"],[0.6666666666666666,\"#ed7953\"],[0.7777777777777778,\"#fb9f3a\"],[0.8888888888888888,\"#fdca26\"],[1.0,\"#f0f921\"]],\"sequentialminus\":[[0.0,\"#0d0887\"],[0.1111111111111111,\"#46039f\"],[0.2222222222222222,\"#7201a8\"],[0.3333333333333333,\"#9c179e\"],[0.4444444444444444,\"#bd3786\"],[0.5555555555555556,\"#d8576b\"],[0.6666666666666666,\"#ed7953\"],[0.7777777777777778,\"#fb9f3a\"],[0.8888888888888888,\"#fdca26\"],[1.0,\"#f0f921\"]],\"diverging\":[[0,\"#8e0152\"],[0.1,\"#c51b7d\"],[0.2,\"#de77ae\"],[0.3,\"#f1b6da\"],[0.4,\"#fde0ef\"],[0.5,\"#f7f7f7\"],[0.6,\"#e6f5d0\"],[0.7,\"#b8e186\"],[0.8,\"#7fbc41\"],[0.9,\"#4d9221\"],[1,\"#276419\"]]},\"xaxis\":{\"gridcolor\":\"white\",\"linecolor\":\"white\",\"ticks\":\"\",\"title\":{\"standoff\":15},\"zerolinecolor\":\"white\",\"automargin\":true,\"zerolinewidth\":2},\"yaxis\":{\"gridcolor\":\"white\",\"linecolor\":\"white\",\"ticks\":\"\",\"title\":{\"standoff\":15},\"zerolinecolor\":\"white\",\"automargin\":true,\"zerolinewidth\":2},\"scene\":{\"xaxis\":{\"backgroundcolor\":\"#E5ECF6\",\"gridcolor\":\"white\",\"linecolor\":\"white\",\"showbackground\":true,\"ticks\":\"\",\"zerolinecolor\":\"white\",\"gridwidth\":2},\"yaxis\":{\"backgroundcolor\":\"#E5ECF6\",\"gridcolor\":\"white\",\"linecolor\":\"white\",\"showbackground\":true,\"ticks\":\"\",\"zerolinecolor\":\"white\",\"gridwidth\":2},\"zaxis\":{\"backgroundcolor\":\"#E5ECF6\",\"gridcolor\":\"white\",\"linecolor\":\"white\",\"showbackground\":true,\"ticks\":\"\",\"zerolinecolor\":\"white\",\"gridwidth\":2}},\"shapedefaults\":{\"line\":{\"color\":\"#2a3f5f\"}},\"annotationdefaults\":{\"arrowcolor\":\"#2a3f5f\",\"arrowhead\":0,\"arrowwidth\":1},\"geo\":{\"bgcolor\":\"white\",\"landcolor\":\"#E5ECF6\",\"subunitcolor\":\"white\",\"showland\":true,\"showlakes\":true,\"lakecolor\":\"white\"},\"title\":{\"x\":0.05},\"mapbox\":{\"style\":\"light\"}}},\"xaxis\":{\"anchor\":\"y\",\"domain\":[0.0,1.0],\"title\":{\"text\":\"Meses\"}},\"yaxis\":{\"anchor\":\"x\",\"domain\":[0.0,1.0],\"title\":{\"text\":\"Valores\"}},\"legend\":{\"title\":{\"text\":\"variable\"},\"tracegroupgap\":0},\"title\":{\"text\":\"An\\u00e1lise Financeira\",\"font\":{\"family\":\"Arial\",\"size\":18}}},                        {\"responsive\": true}                    ).then(function(){\n",
       "                            \n",
       "var gd = document.getElementById('e2e4c907-59d8-47da-b705-409b57c4c0d5');\n",
       "var x = new MutationObserver(function (mutations, observer) {{\n",
       "        var display = window.getComputedStyle(gd).display;\n",
       "        if (!display || display === 'none') {{\n",
       "            console.log([gd, 'removed!']);\n",
       "            Plotly.purge(gd);\n",
       "            observer.disconnect();\n",
       "        }}\n",
       "}});\n",
       "\n",
       "// Listen for the removal of the full notebook cells\n",
       "var notebookContainer = gd.closest('#notebook-container');\n",
       "if (notebookContainer) {{\n",
       "    x.observe(notebookContainer, {childList: true});\n",
       "}}\n",
       "\n",
       "// Listen for the clearing of the current output cell\n",
       "var outputEl = gd.closest('.output');\n",
       "if (outputEl) {{\n",
       "    x.observe(outputEl, {childList: true});\n",
       "}}\n",
       "\n",
       "                        })                };                });            </script>        </div>"
      ]
     },
     "metadata": {},
     "output_type": "display_data"
    }
   ],
   "source": [
    "import plotly.express as px\n",
    "\n",
    "# Criando o gráfico com Plotly Express\n",
    "fig_financeiro1 = px.line(financeiro, x=\"Mês\", y=['Receita Total','Custo Total', 'Lucro'], title='Análise Financeira')\n",
    "\n",
    "# Alterando a cor da linha para 'Receita Total'\n",
    "fig_financeiro1.update_traces(line=dict(color='red'), selector=dict(name='Receita Total'))\n",
    "\n",
    "# Alterando a cor da linha para 'Custo Total'\n",
    "fig_financeiro1.update_traces(line=dict(color='green'), selector=dict(name='Custo Total'))\n",
    "\n",
    "# Alterando a cor da linha para 'Custo Total'\n",
    "fig_financeiro1.update_traces(line=dict(color='blue'), selector=dict(name='Lucro'))\n",
    "\n",
    "\n",
    "# Alterando o título do eixo x\n",
    "fig_financeiro1.update_layout(xaxis_title='Meses')\n",
    "\n",
    "# Alterando o título do eixo y\n",
    "fig_financeiro1.update_layout(yaxis_title='Valores')\n",
    "\n",
    "# Alterando o título do gráfico\n",
    "fig_financeiro1.update_layout(title='Análise Financeira')\n",
    "\n",
    "# Alterando a fonte e o tamanho de letra do título\n",
    "fig_financeiro1.update_layout(title_font=dict(family='Arial', size=18))\n",
    "\n",
    "# Alterando o estilo da linha para trace 'Receita Total'\n",
    "fig_financeiro1.update_traces(line=dict(dash='dash'), selector=dict(name='Receita Total'))\n",
    "\n",
    "# Exibindo o gráfico\n",
    "fig_financeiro1.show()\n"
   ]
  },
  {
   "cell_type": "code",
   "execution_count": 23,
   "id": "aa510d27",
   "metadata": {},
   "outputs": [
    {
     "name": "stdout",
     "output_type": "stream",
     "text": [
      "           Mês  Margem de Contribuição\n",
      "0   2023-12-01               26.677888\n",
      "1   2024-01-01               26.409636\n",
      "2   2024-02-01               24.471736\n",
      "3   2024-03-01               18.426020\n",
      "4   2024-04-01               23.673469\n",
      "5   2024-05-01               26.618076\n",
      "6   2024-06-01               22.727273\n",
      "7   2024-07-01               21.818681\n",
      "8   2024-08-01               21.370813\n",
      "9   2024-09-01               21.979013\n",
      "10  2024-10-01               26.075353\n",
      "11  2024-11-01               25.986395\n",
      "12  2024-12-01               25.503215\n",
      "13  2025-01-01               25.541601\n",
      "14  2025-02-01               26.618076\n",
      "15  2025-03-01               23.754153\n",
      "16  2025-04-01               26.884804\n",
      "17  2025-05-01               27.039976\n",
      "18  2025-06-01               26.329050\n",
      "19  2025-07-01               25.185915\n",
      "20  2025-08-01               21.227364\n",
      "21  2025-09-01               21.810385\n",
      "22  2025-10-01               21.400422\n",
      "23  2025-11-01               21.529274\n",
      "24  2025-12-01               26.870748\n",
      "25  2026-01-01               27.396715\n",
      "26  2026-02-01               28.653720\n",
      "27  2026-03-01               27.559184\n",
      "28  2026-04-01               22.167247\n",
      "29  2026-05-01               21.723731\n",
      "30  2026-06-01               20.601076\n",
      "31  2026-07-01               18.168558\n",
      "32  2026-08-01               17.724739\n",
      "33  2026-09-01               17.947295\n",
      "34  2026-10-01               18.695652\n",
      "35  2026-11-01               22.979592\n"
     ]
    }
   ],
   "source": [
    "# Selecionar colunas \"Mês\" e \"Margem de Contribuição\"\n",
    "financeiro_margem = financeiro.loc[:, [\"Mês\", \"Margem de Contribuição\"]]\n",
    "\n",
    "# Exibir o DataFrame resultante\n",
    "print(financeiro_margem)\n"
   ]
  },
  {
   "cell_type": "code",
   "execution_count": 24,
   "id": "346e70d0",
   "metadata": {},
   "outputs": [
    {
     "data": {
      "text/html": [
       "<div>\n",
       "<style scoped>\n",
       "    .dataframe tbody tr th:only-of-type {\n",
       "        vertical-align: middle;\n",
       "    }\n",
       "\n",
       "    .dataframe tbody tr th {\n",
       "        vertical-align: top;\n",
       "    }\n",
       "\n",
       "    .dataframe thead th {\n",
       "        text-align: right;\n",
       "    }\n",
       "</style>\n",
       "<table border=\"1\" class=\"dataframe\">\n",
       "  <thead>\n",
       "    <tr style=\"text-align: right;\">\n",
       "      <th></th>\n",
       "      <th>Mês</th>\n",
       "      <th>Margem de Contribuição</th>\n",
       "    </tr>\n",
       "  </thead>\n",
       "  <tbody>\n",
       "    <tr>\n",
       "      <th>0</th>\n",
       "      <td>2023-12-01</td>\n",
       "      <td>26.677888</td>\n",
       "    </tr>\n",
       "    <tr>\n",
       "      <th>1</th>\n",
       "      <td>2024-01-01</td>\n",
       "      <td>26.409636</td>\n",
       "    </tr>\n",
       "    <tr>\n",
       "      <th>2</th>\n",
       "      <td>2024-02-01</td>\n",
       "      <td>24.471736</td>\n",
       "    </tr>\n",
       "    <tr>\n",
       "      <th>3</th>\n",
       "      <td>2024-03-01</td>\n",
       "      <td>18.426020</td>\n",
       "    </tr>\n",
       "    <tr>\n",
       "      <th>4</th>\n",
       "      <td>2024-04-01</td>\n",
       "      <td>23.673469</td>\n",
       "    </tr>\n",
       "    <tr>\n",
       "      <th>5</th>\n",
       "      <td>2024-05-01</td>\n",
       "      <td>26.618076</td>\n",
       "    </tr>\n",
       "    <tr>\n",
       "      <th>6</th>\n",
       "      <td>2024-06-01</td>\n",
       "      <td>22.727273</td>\n",
       "    </tr>\n",
       "    <tr>\n",
       "      <th>7</th>\n",
       "      <td>2024-07-01</td>\n",
       "      <td>21.818681</td>\n",
       "    </tr>\n",
       "    <tr>\n",
       "      <th>8</th>\n",
       "      <td>2024-08-01</td>\n",
       "      <td>21.370813</td>\n",
       "    </tr>\n",
       "    <tr>\n",
       "      <th>9</th>\n",
       "      <td>2024-09-01</td>\n",
       "      <td>21.979013</td>\n",
       "    </tr>\n",
       "    <tr>\n",
       "      <th>10</th>\n",
       "      <td>2024-10-01</td>\n",
       "      <td>26.075353</td>\n",
       "    </tr>\n",
       "    <tr>\n",
       "      <th>11</th>\n",
       "      <td>2024-11-01</td>\n",
       "      <td>25.986395</td>\n",
       "    </tr>\n",
       "    <tr>\n",
       "      <th>12</th>\n",
       "      <td>2024-12-01</td>\n",
       "      <td>25.503215</td>\n",
       "    </tr>\n",
       "    <tr>\n",
       "      <th>13</th>\n",
       "      <td>2025-01-01</td>\n",
       "      <td>25.541601</td>\n",
       "    </tr>\n",
       "    <tr>\n",
       "      <th>14</th>\n",
       "      <td>2025-02-01</td>\n",
       "      <td>26.618076</td>\n",
       "    </tr>\n",
       "    <tr>\n",
       "      <th>15</th>\n",
       "      <td>2025-03-01</td>\n",
       "      <td>23.754153</td>\n",
       "    </tr>\n",
       "    <tr>\n",
       "      <th>16</th>\n",
       "      <td>2025-04-01</td>\n",
       "      <td>26.884804</td>\n",
       "    </tr>\n",
       "    <tr>\n",
       "      <th>17</th>\n",
       "      <td>2025-05-01</td>\n",
       "      <td>27.039976</td>\n",
       "    </tr>\n",
       "    <tr>\n",
       "      <th>18</th>\n",
       "      <td>2025-06-01</td>\n",
       "      <td>26.329050</td>\n",
       "    </tr>\n",
       "    <tr>\n",
       "      <th>19</th>\n",
       "      <td>2025-07-01</td>\n",
       "      <td>25.185915</td>\n",
       "    </tr>\n",
       "    <tr>\n",
       "      <th>20</th>\n",
       "      <td>2025-08-01</td>\n",
       "      <td>21.227364</td>\n",
       "    </tr>\n",
       "    <tr>\n",
       "      <th>21</th>\n",
       "      <td>2025-09-01</td>\n",
       "      <td>21.810385</td>\n",
       "    </tr>\n",
       "    <tr>\n",
       "      <th>22</th>\n",
       "      <td>2025-10-01</td>\n",
       "      <td>21.400422</td>\n",
       "    </tr>\n",
       "    <tr>\n",
       "      <th>23</th>\n",
       "      <td>2025-11-01</td>\n",
       "      <td>21.529274</td>\n",
       "    </tr>\n",
       "    <tr>\n",
       "      <th>24</th>\n",
       "      <td>2025-12-01</td>\n",
       "      <td>26.870748</td>\n",
       "    </tr>\n",
       "    <tr>\n",
       "      <th>25</th>\n",
       "      <td>2026-01-01</td>\n",
       "      <td>27.396715</td>\n",
       "    </tr>\n",
       "    <tr>\n",
       "      <th>26</th>\n",
       "      <td>2026-02-01</td>\n",
       "      <td>28.653720</td>\n",
       "    </tr>\n",
       "    <tr>\n",
       "      <th>27</th>\n",
       "      <td>2026-03-01</td>\n",
       "      <td>27.559184</td>\n",
       "    </tr>\n",
       "    <tr>\n",
       "      <th>28</th>\n",
       "      <td>2026-04-01</td>\n",
       "      <td>22.167247</td>\n",
       "    </tr>\n",
       "    <tr>\n",
       "      <th>29</th>\n",
       "      <td>2026-05-01</td>\n",
       "      <td>21.723731</td>\n",
       "    </tr>\n",
       "    <tr>\n",
       "      <th>30</th>\n",
       "      <td>2026-06-01</td>\n",
       "      <td>20.601076</td>\n",
       "    </tr>\n",
       "    <tr>\n",
       "      <th>31</th>\n",
       "      <td>2026-07-01</td>\n",
       "      <td>18.168558</td>\n",
       "    </tr>\n",
       "    <tr>\n",
       "      <th>32</th>\n",
       "      <td>2026-08-01</td>\n",
       "      <td>17.724739</td>\n",
       "    </tr>\n",
       "    <tr>\n",
       "      <th>33</th>\n",
       "      <td>2026-09-01</td>\n",
       "      <td>17.947295</td>\n",
       "    </tr>\n",
       "    <tr>\n",
       "      <th>34</th>\n",
       "      <td>2026-10-01</td>\n",
       "      <td>18.695652</td>\n",
       "    </tr>\n",
       "    <tr>\n",
       "      <th>35</th>\n",
       "      <td>2026-11-01</td>\n",
       "      <td>22.979592</td>\n",
       "    </tr>\n",
       "  </tbody>\n",
       "</table>\n",
       "</div>"
      ],
      "text/plain": [
       "           Mês  Margem de Contribuição\n",
       "0   2023-12-01               26.677888\n",
       "1   2024-01-01               26.409636\n",
       "2   2024-02-01               24.471736\n",
       "3   2024-03-01               18.426020\n",
       "4   2024-04-01               23.673469\n",
       "5   2024-05-01               26.618076\n",
       "6   2024-06-01               22.727273\n",
       "7   2024-07-01               21.818681\n",
       "8   2024-08-01               21.370813\n",
       "9   2024-09-01               21.979013\n",
       "10  2024-10-01               26.075353\n",
       "11  2024-11-01               25.986395\n",
       "12  2024-12-01               25.503215\n",
       "13  2025-01-01               25.541601\n",
       "14  2025-02-01               26.618076\n",
       "15  2025-03-01               23.754153\n",
       "16  2025-04-01               26.884804\n",
       "17  2025-05-01               27.039976\n",
       "18  2025-06-01               26.329050\n",
       "19  2025-07-01               25.185915\n",
       "20  2025-08-01               21.227364\n",
       "21  2025-09-01               21.810385\n",
       "22  2025-10-01               21.400422\n",
       "23  2025-11-01               21.529274\n",
       "24  2025-12-01               26.870748\n",
       "25  2026-01-01               27.396715\n",
       "26  2026-02-01               28.653720\n",
       "27  2026-03-01               27.559184\n",
       "28  2026-04-01               22.167247\n",
       "29  2026-05-01               21.723731\n",
       "30  2026-06-01               20.601076\n",
       "31  2026-07-01               18.168558\n",
       "32  2026-08-01               17.724739\n",
       "33  2026-09-01               17.947295\n",
       "34  2026-10-01               18.695652\n",
       "35  2026-11-01               22.979592"
      ]
     },
     "execution_count": 24,
     "metadata": {},
     "output_type": "execute_result"
    }
   ],
   "source": [
    "financeiro_margem"
   ]
  },
  {
   "cell_type": "code",
   "execution_count": 25,
   "id": "2b75d9de",
   "metadata": {},
   "outputs": [
    {
     "data": {
      "application/vnd.plotly.v1+json": {
       "config": {
        "plotlyServerURL": "https://plot.ly"
       },
       "data": [
        {
         "hovertemplate": "Mês=%{x}<br>Margem de Contribuição=%{y}<extra></extra>",
         "legendgroup": "",
         "line": {
          "color": "#636efa",
          "dash": "solid"
         },
         "marker": {
          "symbol": "circle"
         },
         "mode": "markers+lines",
         "name": "",
         "orientation": "v",
         "showlegend": false,
         "type": "scatter",
         "x": [
          "2023-12-01",
          "2024-01-01",
          "2024-02-01",
          "2024-03-01",
          "2024-04-01",
          "2024-05-01",
          "2024-06-01",
          "2024-07-01",
          "2024-08-01",
          "2024-09-01",
          "2024-10-01",
          "2024-11-01",
          "2024-12-01",
          "2025-01-01",
          "2025-02-01",
          "2025-03-01",
          "2025-04-01",
          "2025-05-01",
          "2025-06-01",
          "2025-07-01",
          "2025-08-01",
          "2025-09-01",
          "2025-10-01",
          "2025-11-01",
          "2025-12-01",
          "2026-01-01",
          "2026-02-01",
          "2026-03-01",
          "2026-04-01",
          "2026-05-01",
          "2026-06-01",
          "2026-07-01",
          "2026-08-01",
          "2026-09-01",
          "2026-10-01",
          "2026-11-01"
         ],
         "xaxis": "x",
         "y": [
          26.677887649905312,
          26.409636019356192,
          24.471735596893623,
          18.42602040816325,
          23.673469387755098,
          26.618075801749264,
          22.727272727272734,
          21.8186813186813,
          21.37081280788176,
          21.97901325478645,
          26.075353218210356,
          25.98639455782312,
          25.503214984623995,
          25.54160125588696,
          26.618075801749256,
          23.75415282392026,
          26.884803508180116,
          27.039975792623476,
          26.32905013857394,
          25.185914632075786,
          21.227364185110662,
          21.810385338345863,
          21.400422237860667,
          21.529274004683835,
          26.87074829931973,
          27.39671478347435,
          28.653719552337048,
          27.559183673469377,
          22.167247386759573,
          21.72373081463991,
          20.601076251396083,
          18.16855753646677,
          17.724738675958186,
          17.947295423023576,
          18.695652173913047,
          22.97959183673469
         ],
         "yaxis": "y"
        }
       ],
       "layout": {
        "annotations": [
         {
          "arrowcolor": "red",
          "arrowhead": 2,
          "ax": 0,
          "ay": -40,
          "showarrow": true,
          "text": "KPI 25%",
          "x": "2025-05-17T00:00:00",
          "y": 25
         }
        ],
        "font": {
         "color": "RebeccaPurple",
         "family": "Courier New, monospace",
         "size": 12
        },
        "legend": {
         "title": {
          "text": "Margem de Contribuição"
         },
         "tracegroupgap": 0
        },
        "margin": {
         "t": 60
        },
        "shapes": [
         {
          "line": {
           "color": "red",
           "dash": "dash"
          },
          "name": "KPI 25%",
          "type": "line",
          "x0": "2023-12-01T00:00:00",
          "x1": "2026-11-01T00:00:00",
          "y0": 25,
          "y1": 25
         }
        ],
        "template": {
         "data": {
          "bar": [
           {
            "error_x": {
             "color": "#2a3f5f"
            },
            "error_y": {
             "color": "#2a3f5f"
            },
            "marker": {
             "line": {
              "color": "#E5ECF6",
              "width": 0.5
             },
             "pattern": {
              "fillmode": "overlay",
              "size": 10,
              "solidity": 0.2
             }
            },
            "type": "bar"
           }
          ],
          "barpolar": [
           {
            "marker": {
             "line": {
              "color": "#E5ECF6",
              "width": 0.5
             },
             "pattern": {
              "fillmode": "overlay",
              "size": 10,
              "solidity": 0.2
             }
            },
            "type": "barpolar"
           }
          ],
          "carpet": [
           {
            "aaxis": {
             "endlinecolor": "#2a3f5f",
             "gridcolor": "white",
             "linecolor": "white",
             "minorgridcolor": "white",
             "startlinecolor": "#2a3f5f"
            },
            "baxis": {
             "endlinecolor": "#2a3f5f",
             "gridcolor": "white",
             "linecolor": "white",
             "minorgridcolor": "white",
             "startlinecolor": "#2a3f5f"
            },
            "type": "carpet"
           }
          ],
          "choropleth": [
           {
            "colorbar": {
             "outlinewidth": 0,
             "ticks": ""
            },
            "type": "choropleth"
           }
          ],
          "contour": [
           {
            "colorbar": {
             "outlinewidth": 0,
             "ticks": ""
            },
            "colorscale": [
             [
              0,
              "#0d0887"
             ],
             [
              0.1111111111111111,
              "#46039f"
             ],
             [
              0.2222222222222222,
              "#7201a8"
             ],
             [
              0.3333333333333333,
              "#9c179e"
             ],
             [
              0.4444444444444444,
              "#bd3786"
             ],
             [
              0.5555555555555556,
              "#d8576b"
             ],
             [
              0.6666666666666666,
              "#ed7953"
             ],
             [
              0.7777777777777778,
              "#fb9f3a"
             ],
             [
              0.8888888888888888,
              "#fdca26"
             ],
             [
              1,
              "#f0f921"
             ]
            ],
            "type": "contour"
           }
          ],
          "contourcarpet": [
           {
            "colorbar": {
             "outlinewidth": 0,
             "ticks": ""
            },
            "type": "contourcarpet"
           }
          ],
          "heatmap": [
           {
            "colorbar": {
             "outlinewidth": 0,
             "ticks": ""
            },
            "colorscale": [
             [
              0,
              "#0d0887"
             ],
             [
              0.1111111111111111,
              "#46039f"
             ],
             [
              0.2222222222222222,
              "#7201a8"
             ],
             [
              0.3333333333333333,
              "#9c179e"
             ],
             [
              0.4444444444444444,
              "#bd3786"
             ],
             [
              0.5555555555555556,
              "#d8576b"
             ],
             [
              0.6666666666666666,
              "#ed7953"
             ],
             [
              0.7777777777777778,
              "#fb9f3a"
             ],
             [
              0.8888888888888888,
              "#fdca26"
             ],
             [
              1,
              "#f0f921"
             ]
            ],
            "type": "heatmap"
           }
          ],
          "heatmapgl": [
           {
            "colorbar": {
             "outlinewidth": 0,
             "ticks": ""
            },
            "colorscale": [
             [
              0,
              "#0d0887"
             ],
             [
              0.1111111111111111,
              "#46039f"
             ],
             [
              0.2222222222222222,
              "#7201a8"
             ],
             [
              0.3333333333333333,
              "#9c179e"
             ],
             [
              0.4444444444444444,
              "#bd3786"
             ],
             [
              0.5555555555555556,
              "#d8576b"
             ],
             [
              0.6666666666666666,
              "#ed7953"
             ],
             [
              0.7777777777777778,
              "#fb9f3a"
             ],
             [
              0.8888888888888888,
              "#fdca26"
             ],
             [
              1,
              "#f0f921"
             ]
            ],
            "type": "heatmapgl"
           }
          ],
          "histogram": [
           {
            "marker": {
             "pattern": {
              "fillmode": "overlay",
              "size": 10,
              "solidity": 0.2
             }
            },
            "type": "histogram"
           }
          ],
          "histogram2d": [
           {
            "colorbar": {
             "outlinewidth": 0,
             "ticks": ""
            },
            "colorscale": [
             [
              0,
              "#0d0887"
             ],
             [
              0.1111111111111111,
              "#46039f"
             ],
             [
              0.2222222222222222,
              "#7201a8"
             ],
             [
              0.3333333333333333,
              "#9c179e"
             ],
             [
              0.4444444444444444,
              "#bd3786"
             ],
             [
              0.5555555555555556,
              "#d8576b"
             ],
             [
              0.6666666666666666,
              "#ed7953"
             ],
             [
              0.7777777777777778,
              "#fb9f3a"
             ],
             [
              0.8888888888888888,
              "#fdca26"
             ],
             [
              1,
              "#f0f921"
             ]
            ],
            "type": "histogram2d"
           }
          ],
          "histogram2dcontour": [
           {
            "colorbar": {
             "outlinewidth": 0,
             "ticks": ""
            },
            "colorscale": [
             [
              0,
              "#0d0887"
             ],
             [
              0.1111111111111111,
              "#46039f"
             ],
             [
              0.2222222222222222,
              "#7201a8"
             ],
             [
              0.3333333333333333,
              "#9c179e"
             ],
             [
              0.4444444444444444,
              "#bd3786"
             ],
             [
              0.5555555555555556,
              "#d8576b"
             ],
             [
              0.6666666666666666,
              "#ed7953"
             ],
             [
              0.7777777777777778,
              "#fb9f3a"
             ],
             [
              0.8888888888888888,
              "#fdca26"
             ],
             [
              1,
              "#f0f921"
             ]
            ],
            "type": "histogram2dcontour"
           }
          ],
          "mesh3d": [
           {
            "colorbar": {
             "outlinewidth": 0,
             "ticks": ""
            },
            "type": "mesh3d"
           }
          ],
          "parcoords": [
           {
            "line": {
             "colorbar": {
              "outlinewidth": 0,
              "ticks": ""
             }
            },
            "type": "parcoords"
           }
          ],
          "pie": [
           {
            "automargin": true,
            "type": "pie"
           }
          ],
          "scatter": [
           {
            "fillpattern": {
             "fillmode": "overlay",
             "size": 10,
             "solidity": 0.2
            },
            "type": "scatter"
           }
          ],
          "scatter3d": [
           {
            "line": {
             "colorbar": {
              "outlinewidth": 0,
              "ticks": ""
             }
            },
            "marker": {
             "colorbar": {
              "outlinewidth": 0,
              "ticks": ""
             }
            },
            "type": "scatter3d"
           }
          ],
          "scattercarpet": [
           {
            "marker": {
             "colorbar": {
              "outlinewidth": 0,
              "ticks": ""
             }
            },
            "type": "scattercarpet"
           }
          ],
          "scattergeo": [
           {
            "marker": {
             "colorbar": {
              "outlinewidth": 0,
              "ticks": ""
             }
            },
            "type": "scattergeo"
           }
          ],
          "scattergl": [
           {
            "marker": {
             "colorbar": {
              "outlinewidth": 0,
              "ticks": ""
             }
            },
            "type": "scattergl"
           }
          ],
          "scattermapbox": [
           {
            "marker": {
             "colorbar": {
              "outlinewidth": 0,
              "ticks": ""
             }
            },
            "type": "scattermapbox"
           }
          ],
          "scatterpolar": [
           {
            "marker": {
             "colorbar": {
              "outlinewidth": 0,
              "ticks": ""
             }
            },
            "type": "scatterpolar"
           }
          ],
          "scatterpolargl": [
           {
            "marker": {
             "colorbar": {
              "outlinewidth": 0,
              "ticks": ""
             }
            },
            "type": "scatterpolargl"
           }
          ],
          "scatterternary": [
           {
            "marker": {
             "colorbar": {
              "outlinewidth": 0,
              "ticks": ""
             }
            },
            "type": "scatterternary"
           }
          ],
          "surface": [
           {
            "colorbar": {
             "outlinewidth": 0,
             "ticks": ""
            },
            "colorscale": [
             [
              0,
              "#0d0887"
             ],
             [
              0.1111111111111111,
              "#46039f"
             ],
             [
              0.2222222222222222,
              "#7201a8"
             ],
             [
              0.3333333333333333,
              "#9c179e"
             ],
             [
              0.4444444444444444,
              "#bd3786"
             ],
             [
              0.5555555555555556,
              "#d8576b"
             ],
             [
              0.6666666666666666,
              "#ed7953"
             ],
             [
              0.7777777777777778,
              "#fb9f3a"
             ],
             [
              0.8888888888888888,
              "#fdca26"
             ],
             [
              1,
              "#f0f921"
             ]
            ],
            "type": "surface"
           }
          ],
          "table": [
           {
            "cells": {
             "fill": {
              "color": "#EBF0F8"
             },
             "line": {
              "color": "white"
             }
            },
            "header": {
             "fill": {
              "color": "#C8D4E3"
             },
             "line": {
              "color": "white"
             }
            },
            "type": "table"
           }
          ]
         },
         "layout": {
          "annotationdefaults": {
           "arrowcolor": "#2a3f5f",
           "arrowhead": 0,
           "arrowwidth": 1
          },
          "autotypenumbers": "strict",
          "coloraxis": {
           "colorbar": {
            "outlinewidth": 0,
            "ticks": ""
           }
          },
          "colorscale": {
           "diverging": [
            [
             0,
             "#8e0152"
            ],
            [
             0.1,
             "#c51b7d"
            ],
            [
             0.2,
             "#de77ae"
            ],
            [
             0.3,
             "#f1b6da"
            ],
            [
             0.4,
             "#fde0ef"
            ],
            [
             0.5,
             "#f7f7f7"
            ],
            [
             0.6,
             "#e6f5d0"
            ],
            [
             0.7,
             "#b8e186"
            ],
            [
             0.8,
             "#7fbc41"
            ],
            [
             0.9,
             "#4d9221"
            ],
            [
             1,
             "#276419"
            ]
           ],
           "sequential": [
            [
             0,
             "#0d0887"
            ],
            [
             0.1111111111111111,
             "#46039f"
            ],
            [
             0.2222222222222222,
             "#7201a8"
            ],
            [
             0.3333333333333333,
             "#9c179e"
            ],
            [
             0.4444444444444444,
             "#bd3786"
            ],
            [
             0.5555555555555556,
             "#d8576b"
            ],
            [
             0.6666666666666666,
             "#ed7953"
            ],
            [
             0.7777777777777778,
             "#fb9f3a"
            ],
            [
             0.8888888888888888,
             "#fdca26"
            ],
            [
             1,
             "#f0f921"
            ]
           ],
           "sequentialminus": [
            [
             0,
             "#0d0887"
            ],
            [
             0.1111111111111111,
             "#46039f"
            ],
            [
             0.2222222222222222,
             "#7201a8"
            ],
            [
             0.3333333333333333,
             "#9c179e"
            ],
            [
             0.4444444444444444,
             "#bd3786"
            ],
            [
             0.5555555555555556,
             "#d8576b"
            ],
            [
             0.6666666666666666,
             "#ed7953"
            ],
            [
             0.7777777777777778,
             "#fb9f3a"
            ],
            [
             0.8888888888888888,
             "#fdca26"
            ],
            [
             1,
             "#f0f921"
            ]
           ]
          },
          "colorway": [
           "#636efa",
           "#EF553B",
           "#00cc96",
           "#ab63fa",
           "#FFA15A",
           "#19d3f3",
           "#FF6692",
           "#B6E880",
           "#FF97FF",
           "#FECB52"
          ],
          "font": {
           "color": "#2a3f5f"
          },
          "geo": {
           "bgcolor": "white",
           "lakecolor": "white",
           "landcolor": "#E5ECF6",
           "showlakes": true,
           "showland": true,
           "subunitcolor": "white"
          },
          "hoverlabel": {
           "align": "left"
          },
          "hovermode": "closest",
          "mapbox": {
           "style": "light"
          },
          "paper_bgcolor": "white",
          "plot_bgcolor": "#E5ECF6",
          "polar": {
           "angularaxis": {
            "gridcolor": "white",
            "linecolor": "white",
            "ticks": ""
           },
           "bgcolor": "#E5ECF6",
           "radialaxis": {
            "gridcolor": "white",
            "linecolor": "white",
            "ticks": ""
           }
          },
          "scene": {
           "xaxis": {
            "backgroundcolor": "#E5ECF6",
            "gridcolor": "white",
            "gridwidth": 2,
            "linecolor": "white",
            "showbackground": true,
            "ticks": "",
            "zerolinecolor": "white"
           },
           "yaxis": {
            "backgroundcolor": "#E5ECF6",
            "gridcolor": "white",
            "gridwidth": 2,
            "linecolor": "white",
            "showbackground": true,
            "ticks": "",
            "zerolinecolor": "white"
           },
           "zaxis": {
            "backgroundcolor": "#E5ECF6",
            "gridcolor": "white",
            "gridwidth": 2,
            "linecolor": "white",
            "showbackground": true,
            "ticks": "",
            "zerolinecolor": "white"
           }
          },
          "shapedefaults": {
           "line": {
            "color": "#2a3f5f"
           }
          },
          "ternary": {
           "aaxis": {
            "gridcolor": "white",
            "linecolor": "white",
            "ticks": ""
           },
           "baxis": {
            "gridcolor": "white",
            "linecolor": "white",
            "ticks": ""
           },
           "bgcolor": "#E5ECF6",
           "caxis": {
            "gridcolor": "white",
            "linecolor": "white",
            "ticks": ""
           }
          },
          "title": {
           "x": 0.05
          },
          "xaxis": {
           "automargin": true,
           "gridcolor": "white",
           "linecolor": "white",
           "ticks": "",
           "title": {
            "standoff": 15
           },
           "zerolinecolor": "white",
           "zerolinewidth": 2
          },
          "yaxis": {
           "automargin": true,
           "gridcolor": "white",
           "linecolor": "white",
           "ticks": "",
           "title": {
            "standoff": 15
           },
           "zerolinecolor": "white",
           "zerolinewidth": 2
          }
         }
        },
        "title": {
         "text": "Margem Contribuição"
        },
        "xaxis": {
         "anchor": "y",
         "domain": [
          0,
          1
         ],
         "title": {
          "text": "Mês"
         }
        },
        "yaxis": {
         "anchor": "x",
         "domain": [
          0,
          1
         ],
         "title": {
          "text": "%"
         }
        }
       }
      },
      "text/html": [
       "<div>                            <div id=\"5ca08f89-0299-4cd9-b46f-a5e87aadd6bd\" class=\"plotly-graph-div\" style=\"height:525px; width:100%;\"></div>            <script type=\"text/javascript\">                require([\"plotly\"], function(Plotly) {                    window.PLOTLYENV=window.PLOTLYENV || {};                                    if (document.getElementById(\"5ca08f89-0299-4cd9-b46f-a5e87aadd6bd\")) {                    Plotly.newPlot(                        \"5ca08f89-0299-4cd9-b46f-a5e87aadd6bd\",                        [{\"hovertemplate\":\"M\\u00eas=%{x}\\u003cbr\\u003eMargem de Contribui\\u00e7\\u00e3o=%{y}\\u003cextra\\u003e\\u003c\\u002fextra\\u003e\",\"legendgroup\":\"\",\"line\":{\"color\":\"#636efa\",\"dash\":\"solid\"},\"marker\":{\"symbol\":\"circle\"},\"mode\":\"markers+lines\",\"name\":\"\",\"orientation\":\"v\",\"showlegend\":false,\"x\":[\"2023-12-01\",\"2024-01-01\",\"2024-02-01\",\"2024-03-01\",\"2024-04-01\",\"2024-05-01\",\"2024-06-01\",\"2024-07-01\",\"2024-08-01\",\"2024-09-01\",\"2024-10-01\",\"2024-11-01\",\"2024-12-01\",\"2025-01-01\",\"2025-02-01\",\"2025-03-01\",\"2025-04-01\",\"2025-05-01\",\"2025-06-01\",\"2025-07-01\",\"2025-08-01\",\"2025-09-01\",\"2025-10-01\",\"2025-11-01\",\"2025-12-01\",\"2026-01-01\",\"2026-02-01\",\"2026-03-01\",\"2026-04-01\",\"2026-05-01\",\"2026-06-01\",\"2026-07-01\",\"2026-08-01\",\"2026-09-01\",\"2026-10-01\",\"2026-11-01\"],\"xaxis\":\"x\",\"y\":[26.677887649905312,26.409636019356192,24.471735596893623,18.42602040816325,23.673469387755098,26.618075801749264,22.727272727272734,21.8186813186813,21.37081280788176,21.97901325478645,26.075353218210356,25.98639455782312,25.503214984623995,25.54160125588696,26.618075801749256,23.75415282392026,26.884803508180116,27.039975792623476,26.32905013857394,25.185914632075786,21.227364185110662,21.810385338345863,21.400422237860667,21.529274004683835,26.87074829931973,27.39671478347435,28.653719552337048,27.559183673469377,22.167247386759573,21.72373081463991,20.601076251396083,18.16855753646677,17.724738675958186,17.947295423023576,18.695652173913047,22.97959183673469],\"yaxis\":\"y\",\"type\":\"scatter\"}],                        {\"template\":{\"data\":{\"histogram2dcontour\":[{\"type\":\"histogram2dcontour\",\"colorbar\":{\"outlinewidth\":0,\"ticks\":\"\"},\"colorscale\":[[0.0,\"#0d0887\"],[0.1111111111111111,\"#46039f\"],[0.2222222222222222,\"#7201a8\"],[0.3333333333333333,\"#9c179e\"],[0.4444444444444444,\"#bd3786\"],[0.5555555555555556,\"#d8576b\"],[0.6666666666666666,\"#ed7953\"],[0.7777777777777778,\"#fb9f3a\"],[0.8888888888888888,\"#fdca26\"],[1.0,\"#f0f921\"]]}],\"choropleth\":[{\"type\":\"choropleth\",\"colorbar\":{\"outlinewidth\":0,\"ticks\":\"\"}}],\"histogram2d\":[{\"type\":\"histogram2d\",\"colorbar\":{\"outlinewidth\":0,\"ticks\":\"\"},\"colorscale\":[[0.0,\"#0d0887\"],[0.1111111111111111,\"#46039f\"],[0.2222222222222222,\"#7201a8\"],[0.3333333333333333,\"#9c179e\"],[0.4444444444444444,\"#bd3786\"],[0.5555555555555556,\"#d8576b\"],[0.6666666666666666,\"#ed7953\"],[0.7777777777777778,\"#fb9f3a\"],[0.8888888888888888,\"#fdca26\"],[1.0,\"#f0f921\"]]}],\"heatmap\":[{\"type\":\"heatmap\",\"colorbar\":{\"outlinewidth\":0,\"ticks\":\"\"},\"colorscale\":[[0.0,\"#0d0887\"],[0.1111111111111111,\"#46039f\"],[0.2222222222222222,\"#7201a8\"],[0.3333333333333333,\"#9c179e\"],[0.4444444444444444,\"#bd3786\"],[0.5555555555555556,\"#d8576b\"],[0.6666666666666666,\"#ed7953\"],[0.7777777777777778,\"#fb9f3a\"],[0.8888888888888888,\"#fdca26\"],[1.0,\"#f0f921\"]]}],\"heatmapgl\":[{\"type\":\"heatmapgl\",\"colorbar\":{\"outlinewidth\":0,\"ticks\":\"\"},\"colorscale\":[[0.0,\"#0d0887\"],[0.1111111111111111,\"#46039f\"],[0.2222222222222222,\"#7201a8\"],[0.3333333333333333,\"#9c179e\"],[0.4444444444444444,\"#bd3786\"],[0.5555555555555556,\"#d8576b\"],[0.6666666666666666,\"#ed7953\"],[0.7777777777777778,\"#fb9f3a\"],[0.8888888888888888,\"#fdca26\"],[1.0,\"#f0f921\"]]}],\"contourcarpet\":[{\"type\":\"contourcarpet\",\"colorbar\":{\"outlinewidth\":0,\"ticks\":\"\"}}],\"contour\":[{\"type\":\"contour\",\"colorbar\":{\"outlinewidth\":0,\"ticks\":\"\"},\"colorscale\":[[0.0,\"#0d0887\"],[0.1111111111111111,\"#46039f\"],[0.2222222222222222,\"#7201a8\"],[0.3333333333333333,\"#9c179e\"],[0.4444444444444444,\"#bd3786\"],[0.5555555555555556,\"#d8576b\"],[0.6666666666666666,\"#ed7953\"],[0.7777777777777778,\"#fb9f3a\"],[0.8888888888888888,\"#fdca26\"],[1.0,\"#f0f921\"]]}],\"surface\":[{\"type\":\"surface\",\"colorbar\":{\"outlinewidth\":0,\"ticks\":\"\"},\"colorscale\":[[0.0,\"#0d0887\"],[0.1111111111111111,\"#46039f\"],[0.2222222222222222,\"#7201a8\"],[0.3333333333333333,\"#9c179e\"],[0.4444444444444444,\"#bd3786\"],[0.5555555555555556,\"#d8576b\"],[0.6666666666666666,\"#ed7953\"],[0.7777777777777778,\"#fb9f3a\"],[0.8888888888888888,\"#fdca26\"],[1.0,\"#f0f921\"]]}],\"mesh3d\":[{\"type\":\"mesh3d\",\"colorbar\":{\"outlinewidth\":0,\"ticks\":\"\"}}],\"scatter\":[{\"fillpattern\":{\"fillmode\":\"overlay\",\"size\":10,\"solidity\":0.2},\"type\":\"scatter\"}],\"parcoords\":[{\"type\":\"parcoords\",\"line\":{\"colorbar\":{\"outlinewidth\":0,\"ticks\":\"\"}}}],\"scatterpolargl\":[{\"type\":\"scatterpolargl\",\"marker\":{\"colorbar\":{\"outlinewidth\":0,\"ticks\":\"\"}}}],\"bar\":[{\"error_x\":{\"color\":\"#2a3f5f\"},\"error_y\":{\"color\":\"#2a3f5f\"},\"marker\":{\"line\":{\"color\":\"#E5ECF6\",\"width\":0.5},\"pattern\":{\"fillmode\":\"overlay\",\"size\":10,\"solidity\":0.2}},\"type\":\"bar\"}],\"scattergeo\":[{\"type\":\"scattergeo\",\"marker\":{\"colorbar\":{\"outlinewidth\":0,\"ticks\":\"\"}}}],\"scatterpolar\":[{\"type\":\"scatterpolar\",\"marker\":{\"colorbar\":{\"outlinewidth\":0,\"ticks\":\"\"}}}],\"histogram\":[{\"marker\":{\"pattern\":{\"fillmode\":\"overlay\",\"size\":10,\"solidity\":0.2}},\"type\":\"histogram\"}],\"scattergl\":[{\"type\":\"scattergl\",\"marker\":{\"colorbar\":{\"outlinewidth\":0,\"ticks\":\"\"}}}],\"scatter3d\":[{\"type\":\"scatter3d\",\"line\":{\"colorbar\":{\"outlinewidth\":0,\"ticks\":\"\"}},\"marker\":{\"colorbar\":{\"outlinewidth\":0,\"ticks\":\"\"}}}],\"scattermapbox\":[{\"type\":\"scattermapbox\",\"marker\":{\"colorbar\":{\"outlinewidth\":0,\"ticks\":\"\"}}}],\"scatterternary\":[{\"type\":\"scatterternary\",\"marker\":{\"colorbar\":{\"outlinewidth\":0,\"ticks\":\"\"}}}],\"scattercarpet\":[{\"type\":\"scattercarpet\",\"marker\":{\"colorbar\":{\"outlinewidth\":0,\"ticks\":\"\"}}}],\"carpet\":[{\"aaxis\":{\"endlinecolor\":\"#2a3f5f\",\"gridcolor\":\"white\",\"linecolor\":\"white\",\"minorgridcolor\":\"white\",\"startlinecolor\":\"#2a3f5f\"},\"baxis\":{\"endlinecolor\":\"#2a3f5f\",\"gridcolor\":\"white\",\"linecolor\":\"white\",\"minorgridcolor\":\"white\",\"startlinecolor\":\"#2a3f5f\"},\"type\":\"carpet\"}],\"table\":[{\"cells\":{\"fill\":{\"color\":\"#EBF0F8\"},\"line\":{\"color\":\"white\"}},\"header\":{\"fill\":{\"color\":\"#C8D4E3\"},\"line\":{\"color\":\"white\"}},\"type\":\"table\"}],\"barpolar\":[{\"marker\":{\"line\":{\"color\":\"#E5ECF6\",\"width\":0.5},\"pattern\":{\"fillmode\":\"overlay\",\"size\":10,\"solidity\":0.2}},\"type\":\"barpolar\"}],\"pie\":[{\"automargin\":true,\"type\":\"pie\"}]},\"layout\":{\"autotypenumbers\":\"strict\",\"colorway\":[\"#636efa\",\"#EF553B\",\"#00cc96\",\"#ab63fa\",\"#FFA15A\",\"#19d3f3\",\"#FF6692\",\"#B6E880\",\"#FF97FF\",\"#FECB52\"],\"font\":{\"color\":\"#2a3f5f\"},\"hovermode\":\"closest\",\"hoverlabel\":{\"align\":\"left\"},\"paper_bgcolor\":\"white\",\"plot_bgcolor\":\"#E5ECF6\",\"polar\":{\"bgcolor\":\"#E5ECF6\",\"angularaxis\":{\"gridcolor\":\"white\",\"linecolor\":\"white\",\"ticks\":\"\"},\"radialaxis\":{\"gridcolor\":\"white\",\"linecolor\":\"white\",\"ticks\":\"\"}},\"ternary\":{\"bgcolor\":\"#E5ECF6\",\"aaxis\":{\"gridcolor\":\"white\",\"linecolor\":\"white\",\"ticks\":\"\"},\"baxis\":{\"gridcolor\":\"white\",\"linecolor\":\"white\",\"ticks\":\"\"},\"caxis\":{\"gridcolor\":\"white\",\"linecolor\":\"white\",\"ticks\":\"\"}},\"coloraxis\":{\"colorbar\":{\"outlinewidth\":0,\"ticks\":\"\"}},\"colorscale\":{\"sequential\":[[0.0,\"#0d0887\"],[0.1111111111111111,\"#46039f\"],[0.2222222222222222,\"#7201a8\"],[0.3333333333333333,\"#9c179e\"],[0.4444444444444444,\"#bd3786\"],[0.5555555555555556,\"#d8576b\"],[0.6666666666666666,\"#ed7953\"],[0.7777777777777778,\"#fb9f3a\"],[0.8888888888888888,\"#fdca26\"],[1.0,\"#f0f921\"]],\"sequentialminus\":[[0.0,\"#0d0887\"],[0.1111111111111111,\"#46039f\"],[0.2222222222222222,\"#7201a8\"],[0.3333333333333333,\"#9c179e\"],[0.4444444444444444,\"#bd3786\"],[0.5555555555555556,\"#d8576b\"],[0.6666666666666666,\"#ed7953\"],[0.7777777777777778,\"#fb9f3a\"],[0.8888888888888888,\"#fdca26\"],[1.0,\"#f0f921\"]],\"diverging\":[[0,\"#8e0152\"],[0.1,\"#c51b7d\"],[0.2,\"#de77ae\"],[0.3,\"#f1b6da\"],[0.4,\"#fde0ef\"],[0.5,\"#f7f7f7\"],[0.6,\"#e6f5d0\"],[0.7,\"#b8e186\"],[0.8,\"#7fbc41\"],[0.9,\"#4d9221\"],[1,\"#276419\"]]},\"xaxis\":{\"gridcolor\":\"white\",\"linecolor\":\"white\",\"ticks\":\"\",\"title\":{\"standoff\":15},\"zerolinecolor\":\"white\",\"automargin\":true,\"zerolinewidth\":2},\"yaxis\":{\"gridcolor\":\"white\",\"linecolor\":\"white\",\"ticks\":\"\",\"title\":{\"standoff\":15},\"zerolinecolor\":\"white\",\"automargin\":true,\"zerolinewidth\":2},\"scene\":{\"xaxis\":{\"backgroundcolor\":\"#E5ECF6\",\"gridcolor\":\"white\",\"linecolor\":\"white\",\"showbackground\":true,\"ticks\":\"\",\"zerolinecolor\":\"white\",\"gridwidth\":2},\"yaxis\":{\"backgroundcolor\":\"#E5ECF6\",\"gridcolor\":\"white\",\"linecolor\":\"white\",\"showbackground\":true,\"ticks\":\"\",\"zerolinecolor\":\"white\",\"gridwidth\":2},\"zaxis\":{\"backgroundcolor\":\"#E5ECF6\",\"gridcolor\":\"white\",\"linecolor\":\"white\",\"showbackground\":true,\"ticks\":\"\",\"zerolinecolor\":\"white\",\"gridwidth\":2}},\"shapedefaults\":{\"line\":{\"color\":\"#2a3f5f\"}},\"annotationdefaults\":{\"arrowcolor\":\"#2a3f5f\",\"arrowhead\":0,\"arrowwidth\":1},\"geo\":{\"bgcolor\":\"white\",\"landcolor\":\"#E5ECF6\",\"subunitcolor\":\"white\",\"showland\":true,\"showlakes\":true,\"lakecolor\":\"white\"},\"title\":{\"x\":0.05},\"mapbox\":{\"style\":\"light\"}}},\"xaxis\":{\"anchor\":\"y\",\"domain\":[0.0,1.0],\"title\":{\"text\":\"M\\u00eas\"}},\"yaxis\":{\"anchor\":\"x\",\"domain\":[0.0,1.0],\"title\":{\"text\":\"%\"}},\"legend\":{\"tracegroupgap\":0,\"title\":{\"text\":\"Margem de Contribui\\u00e7\\u00e3o\"}},\"margin\":{\"t\":60},\"shapes\":[{\"line\":{\"color\":\"red\",\"dash\":\"dash\"},\"name\":\"KPI 25%\",\"type\":\"line\",\"x0\":\"2023-12-01T00:00:00\",\"x1\":\"2026-11-01T00:00:00\",\"y0\":25,\"y1\":25}],\"annotations\":[{\"arrowcolor\":\"red\",\"arrowhead\":2,\"ax\":0,\"ay\":-40,\"showarrow\":true,\"text\":\"KPI 25%\",\"x\":\"2025-05-17T00:00:00\",\"y\":25}],\"font\":{\"family\":\"Courier New, monospace\",\"size\":12,\"color\":\"RebeccaPurple\"},\"title\":{\"text\":\"Margem Contribui\\u00e7\\u00e3o\"}},                        {\"responsive\": true}                    ).then(function(){\n",
       "                            \n",
       "var gd = document.getElementById('5ca08f89-0299-4cd9-b46f-a5e87aadd6bd');\n",
       "var x = new MutationObserver(function (mutations, observer) {{\n",
       "        var display = window.getComputedStyle(gd).display;\n",
       "        if (!display || display === 'none') {{\n",
       "            console.log([gd, 'removed!']);\n",
       "            Plotly.purge(gd);\n",
       "            observer.disconnect();\n",
       "        }}\n",
       "}});\n",
       "\n",
       "// Listen for the removal of the full notebook cells\n",
       "var notebookContainer = gd.closest('#notebook-container');\n",
       "if (notebookContainer) {{\n",
       "    x.observe(notebookContainer, {childList: true});\n",
       "}}\n",
       "\n",
       "// Listen for the clearing of the current output cell\n",
       "var outputEl = gd.closest('.output');\n",
       "if (outputEl) {{\n",
       "    x.observe(outputEl, {childList: true});\n",
       "}}\n",
       "\n",
       "                        })                };                });            </script>        </div>"
      ]
     },
     "metadata": {},
     "output_type": "display_data"
    }
   ],
   "source": [
    "import plotly.express as px\n",
    "import pandas as pd\n",
    "\n",
    "# Supondo que 'Mês' seja a coluna de datas no seu DataFrame\n",
    "df['Mês'] = pd.to_datetime(df['Mês'])\n",
    "\n",
    "# Criar a figura com Plotly Express\n",
    "figura_plano_financeiro = px.line(financeiro_margem, x='Mês', y='Margem de Contribuição', markers=True)\n",
    "\n",
    "# Adicionar uma linha horizontal para o KPI de 25%\n",
    "figura_plano_financeiro.add_shape(\n",
    "    type='line',\n",
    "    x0=df['Mês'].min(),\n",
    "    x1=df['Mês'].max(),\n",
    "    y0=25,\n",
    "    y1=25,\n",
    "    line=dict(color='red', dash='dash'),\n",
    "    name='KPI 25%'\n",
    ")\n",
    "\n",
    "# Adicionar anotação com a legenda do KPI\n",
    "figura_plano_financeiro.add_annotation(\n",
    "    x=df['Mês'].mean(),\n",
    "    y=25,\n",
    "    text='KPI 25%',\n",
    "    showarrow=True,\n",
    "    arrowhead=2,\n",
    "    arrowcolor='red',\n",
    "    ax=0,\n",
    "    ay=-40\n",
    ")\n",
    "\n",
    "# Personalizar o layout (títulos, cores, tamanho das fontes, legendas)\n",
    "figura_plano_financeiro.update_layout(\n",
    "    title='Margem Contribuição',\n",
    "    xaxis_title='Mês',\n",
    "    yaxis_title='%',\n",
    "    legend_title='Margem de Contribuição',\n",
    "    font=dict(\n",
    "        family=\"Courier New, monospace\",\n",
    "        size=12,\n",
    "        color=\"RebeccaPurple\"\n",
    "    )\n",
    ")\n",
    "\n",
    "# Mostrar a figura\n",
    "figura_plano_financeiro.show()\n"
   ]
  },
  {
   "cell_type": "code",
   "execution_count": 26,
   "id": "cfda09db",
   "metadata": {},
   "outputs": [
    {
     "data": {
      "text/html": [
       "\n",
       "        <iframe\n",
       "            width=\"100%\"\n",
       "            height=\"650\"\n",
       "            src=\"http://127.0.0.1:8027/\"\n",
       "            frameborder=\"0\"\n",
       "            allowfullscreen\n",
       "            \n",
       "        ></iframe>\n",
       "        "
      ],
      "text/plain": [
       "<IPython.lib.display.IFrame at 0x1f9d4054b90>"
      ]
     },
     "metadata": {},
     "output_type": "display_data"
    }
   ],
   "source": [
    "# Importando as bibliotecas necessárias\n",
    "from datetime import datetime\n",
    "import dash\n",
    "from dash import dcc, html\n",
    "from dash.dependencies import Input, Output\n",
    "import dash_bootstrap_components as dbc\n",
    "\n",
    "\n",
    "# Inicializando o aplicativo Dash\n",
    "app = dash.Dash(__name__, external_stylesheets=[dbc.themes.COSMO])\n",
    "\n",
    "# Layout do aplicativo\n",
    "app.layout = dbc.Container(\n",
    "    [\n",
    "        dbc.Tabs(\n",
    "            [\n",
    "                dbc.Tab(\n",
    "                    label='Introdução',\n",
    "                    tab_id='tab-1',\n",
    "                    children=[\n",
    "                        dbc.Row(\n",
    "                            [\n",
    "                                dbc.Col(\n",
    "                                    html.Img(\n",
    "                                        src='https://transportemoderno.com.br/wp-content/uploads/2020/07/Scania-edi%C3%A7%C3%A3o-especial.png',\n",
    "                                        style={'width': '60%'}\n",
    "                                    ),\n",
    "                                    width=6\n",
    "                                ),\n",
    "                                dbc.Col(\n",
    "                                    html.Img(\n",
    "                                        src='https://th.bing.com/th/id/OIP.ab6rZRsapELFt_LyExZtwwHaDx?rs=1&pid=ImgDetMain',\n",
    "                                        style={'width': '90%'}\n",
    "                                    ),\n",
    "                                    width=6\n",
    "                                ),\n",
    "                            ]\n",
    "                        ),\n",
    "                        html.P(),\n",
    "                        dbc.Row(\n",
    "                            [\n",
    "                                dbc.Col(\n",
    "                                    [\n",
    "                                        html.H1('Plano de Entradas & Financeiro - Produto: Scania'),\n",
    "                                        html.P(),\n",
    "                                        dbc.Badge('Sales & Operation Planning (S&OP)', color='success',\n",
    "                                                  className='ms-1', style={'font-size': '30px'}),\n",
    "                                    ]\n",
    "                                ),\n",
    "                            ]\n",
    "                        ),\n",
    "                        dbc.Card(\n",
    "                            dbc.CardBody(\n",
    "                                [\n",
    "                                    html.H3('Data e Hora', className='card-title'),\n",
    "                                    html.P(id='current-time', className='card-text'),\n",
    "                                    dcc.Interval(\n",
    "                                        id='interval-component',\n",
    "                                        interval=1000,  # intervalos a cada 1000 milisegundos (1 segundo)\n",
    "                                        n_intervals=0\n",
    "                                    ),\n",
    "                                ]\n",
    "                            ),\n",
    "                            style={'padding': '10px'}\n",
    "                        ),\n",
    "                    ]\n",
    "                ),\n",
    "                \n",
    "                dbc.Tab(\n",
    "                    label='Plano de Produção & Cobertura de Estoque',\n",
    "                    tab_id='tab-2',\n",
    "                    children=[\n",
    "                        dbc.Col(\n",
    "                            [\n",
    "                                html.H1('Plano de Produção & Cobertura de Estoque - Com Time Freeze Lead Time = 3 meses'), \n",
    "                                html.P(),\n",
    "                            ]\n",
    "                        ),\n",
    "                        dcc.Markdown(\n",
    "                            \"\"\"\n",
    "                            *O plano de produção é a etapa do S&OP que define a quantidade e o momento da produção de \n",
    "                            cada produto, considerando a demanda prevista, a capacidade disponível e os níveis de estoque \n",
    "                            desejados. \n",
    "                            \n",
    "                            *A cobertura de estoque é o indicador que mede quantos meses ou dias de demanda podem ser atendidos\n",
    "                            com o estoque atual, sendo um importante instrumento para avaliar o equilíbrio entre oferta e demanda \n",
    "                            no S&OP.\n",
    "                            \"\"\", \n",
    "                            style={'font-family': 'Georgia, serif', 'font-size':'25', 'font-weight': 'bold'}\n",
    "                        ), \n",
    "                        html.P(),\n",
    "                        \n",
    "                        dbc.Col(\n",
    "                            [\n",
    "                                html.H2('Plano de Entradas & Cobertura de Estoque'), \n",
    "                                html.P(),\n",
    "                            ]\n",
    "                        ),\n",
    "                        \n",
    "                        dbc.Col(dcc.Graph(id='tabela-plano', figure=figura_tabela_plano), width=12), html.P(),\n",
    "                        dbc.Col(dcc.Graph(id='line-plano', figure=figura_plano_entradas), width=12), html.P(),\n",
    "                        \n",
    "                        # Adicione aqui os componentes do gráfico e tabela que faltam\n",
    "                        # Por exemplo, dcc.Graph(id='tabela-plano', figure=figura_tabela_plano),\n",
    "                        # dcc.Graph(id='line-plano', figure=figura_plano_entradas),\n",
    "                        \n",
    "                        \n",
    "                    ]\n",
    "                ),\n",
    "                \n",
    "                dbc.Tab(\n",
    "                label='Plano Financeiro',\n",
    "                tab_id='tab-3',\n",
    "                children=[\n",
    "                    \n",
    "                     dbc.Col(\n",
    "                         \n",
    "                       [\n",
    "                           html.H1('Plano Financeiro'), \n",
    "                           html.P(),\n",
    "                       ]\n",
    "                         \n",
    "                       ),\n",
    "                    \n",
    "                    dcc.Markdown(\n",
    "                    \"\"\"\n",
    "                    *A análise financeira no S&OP é uma ferramenta importante para avaliar \n",
    "                    o impacto das decisões de planejamento na rentabilidade e no fluxo de caixa da empresa. \n",
    "                    \n",
    "                    *Ela permite comparar diferentes cenários e identificar as melhores alternativas para atender\n",
    "                    às demandas dos clientes e aos objetivos estratégicos. \n",
    "                    \n",
    "                    *A análise financeira no S&OP envolve a estimativa dos preços, custos, receitas, margens,  \n",
    "                    associados aos planos de produção, vendas, estoques e compras.                    \n",
    "                    \n",
    "                    \"\"\",\n",
    "                    style={'font-family': 'Georgia, serif', 'font-size':'25', 'font-weight': 'bold'}\n",
    "                    ),\n",
    "                    html.P(),\n",
    "                    \n",
    "                    dbc.Col(\n",
    "                        [\n",
    "                           \n",
    "                            html.H2('Preços & Custos'), html.P(),\n",
    "                            \n",
    "                        ]\n",
    "                    ),\n",
    "                    \n",
    "                    dbc.Col(dcc.Graph(id='line-preçoscustos', figure=fig_financeiro), width=12), \n",
    "                    html.P(),\n",
    "                    \n",
    "             \n",
    "                \n",
    "                dbc.Col(\n",
    "                    [\n",
    "                       \n",
    "                        html.H2('Receitas, Custos e Lucros'), html.P(),\n",
    "                        \n",
    "                    ]\n",
    "                ),\n",
    "                \n",
    "                dbc.Col(dcc.Graph(id='line-receitas', figure=fig_financeiro1), width=12), \n",
    "                html.P(),\n",
    "                \n",
    "                dbc.Col(\n",
    "                    [\n",
    "                       \n",
    "                        html.H2('Margem de Contribuição'), html.P(),\n",
    "                        \n",
    "                        \n",
    "                    ]\n",
    "                ),\n",
    "                \n",
    "                dbc.Col(dcc.Graph(id='line-margem', figure=figura_plano_financeiro), width=12),\n",
    "                html.P(),\n",
    "                \n",
    "               ]\n",
    "            ),  \n",
    "                     \n",
    "            ]\n",
    "        ),\n",
    "    ],\n",
    "    fluid=True\n",
    ")\n",
    "\n",
    "# Atualização da data e hora\n",
    "@app.callback(\n",
    "    Output(\"current-time\", \"children\"),\n",
    "    Input(\"interval-component\", \"n_intervals\"),\n",
    ")\n",
    "def update_time(n):\n",
    "    current_time = datetime.now().strftime(\"%Y-%m-%d %H:%M:%S\")\n",
    "    return f\"Data e Hora Atuais: {current_time}\"\n",
    "\n",
    "# Executando o aplicativo Dash\n",
    "if __name__ == \"__main__\":\n",
    "    app.run_server(debug=True, port=8027)\n"
   ]
  },
  {
   "cell_type": "code",
   "execution_count": null,
   "id": "6c5c79c4",
   "metadata": {},
   "outputs": [],
   "source": []
  },
  {
   "cell_type": "code",
   "execution_count": null,
   "id": "ee438a37",
   "metadata": {},
   "outputs": [],
   "source": []
  }
 ],
 "metadata": {
  "kernelspec": {
   "display_name": "Python 3 (ipykernel)",
   "language": "python",
   "name": "python3"
  },
  "language_info": {
   "codemirror_mode": {
    "name": "ipython",
    "version": 3
   },
   "file_extension": ".py",
   "mimetype": "text/x-python",
   "name": "python",
   "nbconvert_exporter": "python",
   "pygments_lexer": "ipython3",
   "version": "3.11.4"
  }
 },
 "nbformat": 4,
 "nbformat_minor": 5
}
